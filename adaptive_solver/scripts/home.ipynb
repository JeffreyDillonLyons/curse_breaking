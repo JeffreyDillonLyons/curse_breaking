{
 "cells": [
  {
   "cell_type": "code",
   "execution_count": 1,
   "metadata": {},
   "outputs": [
    {
     "name": "stderr",
     "output_type": "stream",
     "text": [
      "C:\\Users\\jeffr\\Anaconda3\\envs\\gds\\lib\\site-packages\\ema_workbench\\em_framework\\optimization.py:48: ImportWarning: platypus based optimization not available\n",
      "  warnings.warn(\"platypus based optimization not available\", ImportWarning)\n",
      "C:\\Users\\jeffr\\Anaconda3\\envs\\gds\\lib\\site-packages\\ema_workbench\\connectors\\__init__.py:27: ImportWarning: netlogo connector not available\n",
      "  warnings.warn(\"netlogo connector not available\", ImportWarning)\n"
     ]
    }
   ],
   "source": [
    "import numpy as np\n",
    "import matplotlib.pyplot as plt\n",
    "import chaospy as ch\n",
    "from scipy import integrate\n",
    "import pandas as pd\n",
    "from mpl_toolkits import mplot3d\n",
    "import time\n",
    "import json\n",
    "import pickle\n",
    "from IPython.display import Image\n",
    "import pandas as pd\n",
    "import datetime\n",
    "import numpoly\n",
    "from itertools import product\n",
    "from collections import OrderedDict\n",
    "from os import PathLike\n",
    "import re\n",
    "import os\n",
    "import seaborn as sns\n",
    "\n",
    "##SALib\n",
    "from SALib.sample import saltelli\n",
    "from SALib.analyze import sobol\n",
    "#Chaospy\n",
    "import chaospy as ch\n",
    "\n",
    "#EMA Workbench\n",
    "import ema_workbench as em\n",
    "\n",
    "from ema_workbench import (RealParameter, TimeSeriesOutcome, ema_logging,\n",
    "                           MultiprocessingEvaluator, ScalarOutcome,\n",
    "                           perform_experiments, CategoricalParameter,\n",
    "                           save_results, Policy, )\n",
    "from ema_workbench.connectors.vensim import (VensimModel, load_model, set_value, run_simulation, \n",
    "                                             get_data, be_quiet, vensimDLLwrapper)\n",
    "from ema_workbench.connectors.vensim import load_model\n",
    "from ema_workbench.em_framework.evaluators import SequentialEvaluator\n",
    "\n",
    "def c(a):\n",
    "    os.chdir(a)\n",
    "    return os.getcwd()\n",
    "\n",
    "\n"
   ]
  },
  {
   "cell_type": "code",
   "execution_count": 3,
   "metadata": {},
   "outputs": [],
   "source": [
    "\n",
    "#Parameters & initial_conditions\n",
    "\n",
    "\n",
    "\n",
    "\n",
    "x0 = 33                                                               #Initial conditions same as before\n",
    "y0 = 6.2                       \n",
    "X = [x0,y0]\n",
    "t = np.linspace(0., 30, 1000)\n",
    "\n",
    "#Model\n",
    "\n",
    "def lotka(X, t, alpha, beta, delta, gamma):\n",
    "    x, y = X\n",
    "    dotx = x * (alpha - beta * y)\n",
    "    doty = y * (-delta + gamma * x)\n",
    "    return np.array([dotx, doty])\n",
    "\n",
    "#Parameter space\n",
    "\n",
    "\n",
    "problem = {\n",
    "    'num_vars': 7,\n",
    "    'names': ['alpha','beta','delta','gamma','e','f','h'],\n",
    "    'bounds': [[0.44,0.68],\n",
    "               [0.02,0.044],\n",
    "               [0.71,1.15],\n",
    "               [0.0226,0.0354],\n",
    "               [0.03,0.055],\n",
    "               [0.71,1.15],\n",
    "               [0.0354,0.0482]]\n",
    "}\n",
    "\n",
    "##Parameters\n",
    "alpha = ch.Uniform(0.44, 0.68) #We choose uniform distributions to reflect our lack of knowledge about the relative likelihood functions\n",
    "beta = ch.Uniform(0.02, 0.044) #We take the same bounds as for the Sobol-Saltelli analysis\n",
    "delta = ch.Uniform(0.71, 1.15)\n",
    "gamma = ch.Uniform(0.0226, 0.0354)\n",
    "\n",
    "joint = ch.J(alpha,beta,delta,gamma) #The input paramter distributions are assumed to be independent so we may easily construct the joint input probability distribution.\n",
    "\n",
    "##Expansion\n",
    "expansion = ch.generate_expansion(2, joint) #Here we generate the polynomial expansion which is truncated a maximum mixed order of 2.\n",
    "\n"
   ]
  },
  {
   "cell_type": "code",
   "execution_count": null,
   "metadata": {},
   "outputs": [],
   "source": [
    "x0 = 0.5\n",
    "y0 = 1\n",
    "z0 = 2\n",
    "X = (x0,y0,z0)\n",
    "t = np.linspace(0,30,1000)\n",
    "\n",
    "problem = { ## These are the values for which we have truly crazy multimodal owl populations\n",
    "    'num_vars': 7,\n",
    "    'names': ['alpha','beta','delta','gamma','e','f','h'],\n",
    "    'bounds': [[0.44,0.68],\n",
    "               [0.02,0.044],\n",
    "               [0.71,1.15],\n",
    "               [0.0226,0.0354],\n",
    "               [0.03,0.055],\n",
    "               [0.71,1.15],\n",
    "               [0.02,0.03]]}\n",
    "\n",
    "def lotka3(X,t,a,b,d,g,e,f,h):\n",
    "    x, y, z = X\n",
    "    dotx = x * (a - b * y)\n",
    "    doty = y * (-d + (g * x) - e * z) \n",
    "    dotz = z * (-f + h*y)\n",
    "    return np.array([dotx, doty, dotz])\n",
    "\n",
    "distributions = []\n",
    "\n",
    "for idx,name in enumerate(problem['names']):\n",
    "    a,b = problem['bounds'][idx]\n",
    "    distributions.append(ch.Uniform(a,b))\n",
    "    \n",
    "joint = ch.J(*distributions)\n",
    "\n",
    "    \n",
    "\n",
    "joint\n",
    "    \n",
    "    "
   ]
  },
  {
   "cell_type": "markdown",
   "metadata": {},
   "source": [
    "## Test of github workaround   \n",
    "\n",
    "> Implement function with code. \n",
    "\n",
    "> Test for fitted polynomial + time tests"
   ]
  },
  {
   "cell_type": "code",
   "execution_count": 18,
   "metadata": {},
   "outputs": [],
   "source": [
    "## function\n",
    "\n",
    "def sense(dim,poly,uhat):\n",
    "    variance = np.sum(uhat[1:]**2)\n",
    "    main = np.zeros(dim)\n",
    "    total = np.zeros(dim)\n",
    "    \n",
    "    for idx, pol in enumerate(poly.exponents[1:]):\n",
    "        add_total = [False,]*dim\n",
    "        add_main = [True,]*dim\n",
    "        for var in range(4):\n",
    "            if pol[var] > 0:\n",
    "                add_total[var] = True\n",
    "                add_main[var] = add_main[var] and True\n",
    "                add_main[0:var] = [False,]*var\n",
    "                try:\n",
    "                    add_main[var+1::] = [False,]*(dim-var)\n",
    "                except IndexError:\n",
    "                    pass\n",
    "        for var in range(4):\n",
    "            if add_main[var]:\n",
    "                main[var] += uhat[idx+1]**2\n",
    "            if add_total[var]:\n",
    "                total[var] += uhat[idx+1]**2\n",
    "    \n",
    "    \n",
    "    s1 = main/variance\n",
    "    st = total/variance\n",
    "    \n",
    "    return s1,st\n",
    "    \n",
    "    "
   ]
  },
  {
   "cell_type": "code",
   "execution_count": 110,
   "metadata": {},
   "outputs": [],
   "source": [
    "nodes,weights= ch.generate_quadrature(4,joint,rule='g')\n"
   ]
  },
  {
   "cell_type": "code",
   "execution_count": 112,
   "metadata": {},
   "outputs": [
    {
     "data": {
      "text/plain": [
       "array([[0.45125842, 0.45125842, 0.45125842, ..., 0.66874158, 0.66874158,\n",
       "        0.66874158],\n",
       "       [0.02112584, 0.02112584, 0.02112584, ..., 0.04287416, 0.04287416,\n",
       "        0.04287416],\n",
       "       [0.73064043, 0.73064043, 0.73064043, ..., 1.12935957, 1.12935957,\n",
       "        1.12935957],\n",
       "       [0.02320045, 0.0255538 , 0.029     , ..., 0.029     , 0.0324462 ,\n",
       "        0.03479955]])"
      ]
     },
     "execution_count": 112,
     "metadata": {},
     "output_type": "execute_result"
    }
   ],
   "source": [
    "nodes"
   ]
  },
  {
   "cell_type": "code",
   "execution_count": 171,
   "metadata": {},
   "outputs": [],
   "source": [
    "## generate test polynomial\n",
    "expansion,norms = ch.generate_expansion(2,joint,normed=True,retall=True)\n",
    "nodes,weights= ch.generate_quadrature(4,joint,rule='g')\n",
    "#samples = joint.sample(2000,rule='sobol').T\n",
    "evals = []\n",
    "dick = {}\n",
    "\n",
    "for node in nodes.T:\n",
    "    \n",
    "    if tuple(node) in dick.keys():\n",
    "        a,b,d,g = node\n",
    "        solution = dick[tuple(node)]\n",
    "        evals.append(solution)\n",
    "    \n",
    "    else:  \n",
    "        a,b,d,g = node\n",
    "        solution = integrate.odeint(lotka,X,t,args=(a,b,d,g)).T[0][910]\n",
    "        dick[tuple(node)] = solution\n",
    "        evals.append(solution)\n"
   ]
  },
  {
   "cell_type": "code",
   "execution_count": 172,
   "metadata": {},
   "outputs": [
    {
     "data": {
      "text/plain": [
       "array([[0, 0, 0, 0],\n",
       "       [0, 0, 0, 1],\n",
       "       [0, 0, 0, 2],\n",
       "       [0, 0, 1, 0],\n",
       "       [0, 0, 1, 1],\n",
       "       [0, 0, 2, 0],\n",
       "       [0, 1, 0, 0],\n",
       "       [0, 1, 0, 1],\n",
       "       [0, 1, 1, 0],\n",
       "       [0, 2, 0, 0],\n",
       "       [1, 0, 0, 0],\n",
       "       [1, 0, 0, 1],\n",
       "       [1, 0, 1, 0],\n",
       "       [1, 1, 0, 0],\n",
       "       [2, 0, 0, 0]], dtype=uint32)"
      ]
     },
     "execution_count": 172,
     "metadata": {},
     "output_type": "execute_result"
    }
   ],
   "source": [
    "expansion.exponents"
   ]
  },
  {
   "cell_type": "code",
   "execution_count": 5,
   "metadata": {},
   "outputs": [
    {
     "data": {
      "text/plain": [
       "0    0.432888\n",
       "1    0.111063\n",
       "2    0.778830\n",
       "3    0.095090\n",
       "Name: ST, dtype: float64"
      ]
     },
     "execution_count": 5,
     "metadata": {},
     "output_type": "execute_result"
    }
   ],
   "source": [
    "gt = pd.read_csv('./data/indices_328000_GT.csv').ST\n",
    "gt"
   ]
  },
  {
   "cell_type": "code",
   "execution_count": 176,
   "metadata": {},
   "outputs": [],
   "source": [
    "poly,uhat = ch.fit_quadrature(expansion,nodes,weights,evals,retall=1)"
   ]
  },
  {
   "cell_type": "code",
   "execution_count": 155,
   "metadata": {},
   "outputs": [
    {
     "data": {
      "text/plain": [
       "polynomial([-115.11176438863038, -826.9829560178794*q3,\n",
       "            107.88619559270464*q2, 278.35522922873224*q1,\n",
       "            111.74090583413101*q0])"
      ]
     },
     "execution_count": 155,
     "metadata": {},
     "output_type": "execute_result"
    }
   ],
   "source": [
    "numpoly.decompose(poly)"
   ]
  },
  {
   "cell_type": "code",
   "execution_count": 177,
   "metadata": {},
   "outputs": [
    {
     "data": {
      "text/plain": [
       "array([ 3.27221664e+01, -3.05573653e+00,  1.37033873e+01,  1.92850160e+00,\n",
       "        7.74163705e+00, -1.59015907e-02, -1.44520891e+00, -4.92664581e-01,\n",
       "       -6.60987648e-01, -1.93308764e+00, -6.55998183e-01, -1.96761168e+00,\n",
       "        3.64007714e+00, -1.07687963e+00, -2.02710629e-01])"
      ]
     },
     "execution_count": 177,
     "metadata": {},
     "output_type": "execute_result"
    }
   ],
   "source": [
    "uhat"
   ]
  },
  {
   "cell_type": "code",
   "execution_count": 179,
   "metadata": {},
   "outputs": [
    {
     "data": {
      "text/plain": [
       "array([-0.20271063, -1.07687963,  3.64007714, -1.96761168, -0.65599818,\n",
       "       -1.93308764, -0.66098765, -0.49266458, -1.44520891, -0.01590159,\n",
       "        7.74163705,  1.9285016 , 13.70338729, -3.05573653])"
      ]
     },
     "execution_count": 179,
     "metadata": {},
     "output_type": "execute_result"
    }
   ],
   "source": [
    "new = (uhat[1:])[::-1]\n",
    "new"
   ]
  },
  {
   "cell_type": "code",
   "execution_count": 182,
   "metadata": {},
   "outputs": [
    {
     "data": {
      "text/plain": [
       "array([ 3.27221664e+01, -3.05573653e+00,  1.37033873e+01,  1.92850160e+00,\n",
       "        7.74163705e+00, -1.59015907e-02, -1.44520891e+00, -4.92664581e-01,\n",
       "       -6.60987648e-01, -1.93308764e+00, -6.55998183e-01, -1.96761168e+00,\n",
       "        3.64007714e+00, -1.07687963e+00, -2.02710629e-01])"
      ]
     },
     "execution_count": 182,
     "metadata": {},
     "output_type": "execute_result"
    }
   ],
   "source": [
    "uhat"
   ]
  },
  {
   "cell_type": "code",
   "execution_count": 162,
   "metadata": {},
   "outputs": [
    {
     "data": {
      "text/plain": [
       "array([-3.05573653, 13.70338729,  1.9285016 ,  7.74163705])"
      ]
     },
     "execution_count": 162,
     "metadata": {},
     "output_type": "execute_result"
    }
   ],
   "source": [
    "coeffs=uhat[1:]\n",
    "coeffs"
   ]
  },
  {
   "cell_type": "code",
   "execution_count": 168,
   "metadata": {},
   "outputs": [],
   "source": [
    "new = coeffs[::-1]"
   ]
  },
  {
   "cell_type": "code",
   "execution_count": 181,
   "metadata": {},
   "outputs": [
    {
     "data": {
      "text/plain": [
       "array([1.57576481e-04, 4.44705681e-03, 5.08112092e-02, 1.48462627e-02,\n",
       "       1.65022677e-03, 1.43298433e-02, 1.67542520e-03, 9.30767129e-04,\n",
       "       8.00939327e-03, 9.69660036e-07, 2.29828546e-01, 1.42619320e-02,\n",
       "       7.20102338e-01, 3.58071840e-02])"
      ]
     },
     "execution_count": 181,
     "metadata": {},
     "output_type": "execute_result"
    }
   ],
   "source": [
    "(new**2)/varr"
   ]
  },
  {
   "cell_type": "code",
   "execution_count": 190,
   "metadata": {},
   "outputs": [
    {
     "data": {
      "text/plain": [
       "array([[0],\n",
       "       [1]], dtype=uint32)"
      ]
     },
     "execution_count": 190,
     "metadata": {},
     "output_type": "execute_result"
    }
   ],
   "source": [
    "test = numpoly.decompose(poly)\n",
    "test[1].exponents"
   ]
  },
  {
   "cell_type": "code",
   "execution_count": 192,
   "metadata": {},
   "outputs": [
    {
     "data": {
      "text/plain": [
       "polynomial([-296.64059704935073, 7242.656859277623*q3,\n",
       "            -1302.1376111794145*q3**2, 99.34128701546337*q2,\n",
       "            -3079.280351422173*q2*q3, -34.141471867401485*q2**2,\n",
       "            5304.3163773728775*q1, -25819.829995221215*q1*q3,\n",
       "            -2196.690495366813*q1*q2, -15279.755519497032*q1**2,\n",
       "            74.61847497556685*q0, -7685.983119959636*q0*q3,\n",
       "            413.64512909569487*q0*q2, -2243.499222042472*q0*q1,\n",
       "            -47.216119300217386*q0**2])"
      ]
     },
     "execution_count": 192,
     "metadata": {},
     "output_type": "execute_result"
    }
   ],
   "source": [
    "test"
   ]
  },
  {
   "cell_type": "code",
   "execution_count": 187,
   "metadata": {},
   "outputs": [
    {
     "name": "stdout",
     "output_type": "stream",
     "text": [
      "-296.64059704935073\n",
      "7242.656859277623*q3\n",
      "-1302.1376111794145*q3**2\n",
      "99.34128701546337*q2\n",
      "-3079.280351422173*q2*q3\n",
      "-34.141471867401485*q2**2\n",
      "5304.3163773728775*q1\n",
      "-25819.829995221215*q1*q3\n",
      "-2196.690495366813*q1*q2\n",
      "-15279.755519497032*q1**2\n",
      "74.61847497556685*q0\n",
      "-7685.983119959636*q0*q3\n",
      "413.64512909569487*q0*q2\n",
      "-2243.499222042472*q0*q1\n",
      "-47.216119300217386*q0**2\n"
     ]
    }
   ],
   "source": [
    "for i in numpoly.decompose(poly):\n",
    "    print(i)"
   ]
  },
  {
   "cell_type": "code",
   "execution_count": 186,
   "metadata": {},
   "outputs": [
    {
     "data": {
      "text/plain": [
       "array([[0, 0, 0, 0],\n",
       "       [0, 0, 0, 1],\n",
       "       [0, 0, 0, 2],\n",
       "       [0, 0, 1, 0],\n",
       "       [0, 0, 1, 1],\n",
       "       [0, 0, 2, 0],\n",
       "       [0, 1, 0, 0],\n",
       "       [0, 1, 0, 1],\n",
       "       [0, 1, 1, 0],\n",
       "       [0, 2, 0, 0],\n",
       "       [1, 0, 0, 0],\n",
       "       [1, 0, 0, 1],\n",
       "       [1, 0, 1, 0],\n",
       "       [1, 1, 0, 0],\n",
       "       [2, 0, 0, 0]], dtype=uint32)"
      ]
     },
     "execution_count": 186,
     "metadata": {},
     "output_type": "execute_result"
    }
   ],
   "source": [
    "poly.exponents"
   ]
  },
  {
   "cell_type": "code",
   "execution_count": 180,
   "metadata": {},
   "outputs": [
    {
     "data": {
      "text/plain": [
       "array([0.20967707, 0.01450703, 0.65736187, 0.03264609])"
      ]
     },
     "execution_count": 180,
     "metadata": {},
     "output_type": "execute_result"
    }
   ],
   "source": [
    "ch.Sens_m(poly,joint)"
   ]
  },
  {
   "cell_type": "code",
   "execution_count": 175,
   "metadata": {},
   "outputs": [
    {
     "data": {
      "text/plain": [
       "(array(260.77241166), 260.7724116615531)"
      ]
     },
     "execution_count": 175,
     "metadata": {},
     "output_type": "execute_result"
    }
   ],
   "source": [
    "var = ch.Var(poly,joint)\n",
    "varr = np.sum(uhat[1:]**2)\n",
    "var,varr"
   ]
  },
  {
   "cell_type": "code",
   "execution_count": 118,
   "metadata": {},
   "outputs": [
    {
     "data": {
      "text/plain": [
       "array([[0, 0, 0, 0],\n",
       "       [0, 0, 0, 1],\n",
       "       [0, 0, 0, 2],\n",
       "       [0, 0, 1, 0],\n",
       "       [0, 0, 1, 1],\n",
       "       [0, 0, 2, 0],\n",
       "       [0, 1, 0, 0],\n",
       "       [0, 1, 0, 1],\n",
       "       [0, 1, 1, 0],\n",
       "       [0, 2, 0, 0],\n",
       "       [1, 0, 0, 0],\n",
       "       [1, 0, 0, 1],\n",
       "       [1, 0, 1, 0],\n",
       "       [1, 1, 0, 0],\n",
       "       [2, 0, 0, 0]], dtype=uint32)"
      ]
     },
     "execution_count": 118,
     "metadata": {},
     "output_type": "execute_result"
    }
   ],
   "source": [
    "expansion.exponents"
   ]
  },
  {
   "cell_type": "code",
   "execution_count": 104,
   "metadata": {},
   "outputs": [
    {
     "data": {
      "text/plain": [
       "array([[0., 0., 0., 0., 0., 0., 0., 0., 0., 0.],\n",
       "       [0., 0., 0., 0., 0., 0., 0., 0., 0., 0.],\n",
       "       [0., 0., 0., 0., 0., 0., 0., 0., 0., 0.],\n",
       "       [0., 0., 0., 0., 0., 0., 0., 0., 0., 0.],\n",
       "       [0., 0., 0., 0., 0., 0., 0., 0., 0., 0.],\n",
       "       [0., 0., 0., 0., 0., 0., 0., 0., 0., 0.],\n",
       "       [0., 0., 0., 0., 0., 0., 0., 0., 0., 0.],\n",
       "       [0., 0., 0., 0., 0., 0., 0., 0., 0., 0.],\n",
       "       [0., 0., 0., 0., 0., 0., 0., 0., 0., 0.],\n",
       "       [0., 0., 0., 0., 0., 0., 0., 0., 0., 0.]])"
      ]
     },
     "execution_count": 104,
     "metadata": {},
     "output_type": "execute_result"
    }
   ],
   "source": [
    "test = np.zeros((10,10))\n",
    "test"
   ]
  },
  {
   "cell_type": "code",
   "execution_count": 408,
   "metadata": {},
   "outputs": [],
   "source": [
    "import numpy\n",
    "import numpoly\n",
    "\n",
    "\n",
    "def fit_quadrature(orth, nodes, weights, solves, retall=False, norms=None):\n",
    "    \"\"\"\n",
    "    Fit polynomial chaos expansion using spectral projection.\n",
    "\n",
    "    Create a polynomial approximation model from orthogonal expansion,\n",
    "    quadrature nodes and weights.\n",
    "\n",
    "    Args:\n",
    "        orth (numpoly.ndpoly):\n",
    "            Orthogonal polynomial expansion. Must be orthogonal for the\n",
    "            approximation to be accurate.\n",
    "        nodes (numpy.ndarray):\n",
    "            Where to evaluate the polynomial expansion and model to\n",
    "            approximate. ``nodes.shape==(D, K)`` where ``D`` is the number of\n",
    "            dimensions and ``K`` is the number of nodes.\n",
    "        weights (numpy.ndarray):\n",
    "            Weights when doing numerical integration. ``weights.shape == (K,)``\n",
    "            must hold.\n",
    "        solves (numpy.ndarray):\n",
    "            The model evaluation to approximate. If `numpy.ndarray` is\n",
    "            provided, it must have ``len(solves) == K``.\n",
    "        retall (int):\n",
    "            What the function should return.\n",
    "            0: only return fitted polynomials, with shape `evals.shape[1:]`.\n",
    "            1: polynomials, and Fourier coefficients,\n",
    "            2: polynomials, coefficients and polynomial evaluations.\n",
    "        norms (numpy.ndarray):\n",
    "            Three terms recurrence method produces norms more stable than the\n",
    "            ones calculated from the polynomials themselves. Calculated from\n",
    "            quadrature if not provided. ``norms.shape == (len(orth),)`` must\n",
    "            hold.\n",
    "\n",
    "    Returns:\n",
    "        (numpoly.ndpoly):\n",
    "            Fitted model approximation in the form of an polynomial.\n",
    "    \"\"\"\n",
    "    global coeffs,vals1,ovals\n",
    "    orth = numpoly.polynomial(orth)\n",
    "    assert orth.ndim == 1\n",
    "    weights = numpy.asfarray(weights)\n",
    "    assert weights.ndim == 1\n",
    "    solves = numpy.asfarray(solves)\n",
    "    nodes = numpy.atleast_2d(nodes)\n",
    "    assert nodes.ndim == 2\n",
    "    assert nodes.shape[1] == len(weights) == len(solves)\n",
    "\n",
    "    shape = solves.shape[1:]\n",
    "    solves = solves.reshape(len(solves), -1)\n",
    "\n",
    "    ovals = orth(*nodes)\n",
    "    vals1 = [(val * solves.T * weights).T for val in ovals]\n",
    "\n",
    "    if norms is None:\n",
    "        norms = numpy.sum(ovals**2 * weights, -1)\n",
    "    norms = numpy.asfarray(norms)\n",
    "    assert norms.ndim == 1\n",
    "\n",
    "    coeffs = (numpy.sum(vals1, 1).T / norms).T\n",
    "    #coeffs = coeffs.reshape(len(coeffs), *shape)\n",
    "    #approx_model = numpoly.sum(orth * coeffs.T, -1).T\n",
    "\n",
    "    return coeffs"
   ]
  },
  {
   "cell_type": "markdown",
   "metadata": {},
   "source": [
    "## Begin again in earnest"
   ]
  },
  {
   "cell_type": "code",
   "execution_count": 563,
   "metadata": {
    "collapsed": true,
    "jupyter": {
     "outputs_hidden": true
    }
   },
   "outputs": [
    {
     "data": {
      "text/plain": [
       "polynomial([1.0, 14.433756729740642*q0-8.08290376865476,\n",
       "            7.87295821622217*q2-7.321851141086618,\n",
       "            144.33756729740645*q1-4.618802153517007,\n",
       "            270.632938682637*q3-7.848355221796473,\n",
       "            81887.25503539266*q3**2-4749.460792052774*q3+67.74914749601533,\n",
       "            113.63636363636363*q0*q2-63.636363636363626*q2-105.68181818181816*q0+59.18181818181817,\n",
       "            23292.374765622815*q1**2-1490.7119849998603*q1+22.733357771247867,\n",
       "            2083.333333333333*q0*q1-1166.6666666666665*q1-66.66666666666667*q0+37.33333333333333,\n",
       "            1136.3636363636365*q1*q2-36.36363636363637*q2-1056.818181818182*q1+33.81818181818182,\n",
       "            39062.49999999999*q1*q3-1250.0*q3-1132.8124999999998*q1+36.24999999999999,\n",
       "            3906.2499999999986*q0*q3-2187.499999999999*q3-113.28124999999996*q0+63.43749999999997,\n",
       "            232.923747656228*q0**2-260.8745973749754*q0+71.92685327624321,\n",
       "            69.299627401853*q2**2-128.89730696744658*q2+58.819213751112756,\n",
       "            2130.6818181818176*q2*q3-1981.5340909090905*q3-61.78977272727271*q2+57.46448863636362,\n",
       "            1833.7989328633594*q0**2*q2-2053.854804806963*q0*q2-1705.4330075629243*q0**2+566.2771104682055*q2+1910.0849684704756*q0-526.637712735431,\n",
       "            563818.6222554937*q0*q1*q3-315738.4284630765*q1*q3-18042.1959121758*q0*q3-16350.740045409317*q0*q1+10103.629710818448*q3+9156.414425429217*q1+523.2236814530983*q0-293.00526161373494,\n",
       "            63036.838317177964*q0**2*q3-70601.25891523933*q0*q3-1828.068311198161*q0**2+19465.775672344556*q3+2047.4365085419406*q0-564.5074944979922,\n",
       "            1000.2539633800147*q0*q2**2-560.1422194928083*q2**2-1860.4723718868274*q0*q2+1041.8645282566233*q2+848.982222318177*q0-475.43004449817914,\n",
       "            30753.74303211784*q0*q2*q3-17222.09609798599*q2*q3-28600.98101986959*q0*q3-891.8585479314173*q0*q2+16016.54937112697*q3+499.4407868415937*q2+829.428449576218*q0-464.4799317626821,\n",
       "            336196.4710249494*q0*q1**2-188270.02377397168*q1**2-21516.574145596765*q0*q1+12049.281521534187*q1+328.12775572035065*q0-183.75154320339635,\n",
       "            16401.996283796183*q0*q1*q2-9185.117918925864*q1*q2-524.863881081478*q0*q2-15253.856543930451*q0*q1+293.9237734056276*q2+8542.159664601053*q1+488.12340940577457*q0-273.3491092672337,\n",
       "            6303683.831717801*q1**2*q3-403435.7652299393*q1*q3-182806.83111981623*q1**2+6152.395419756574*q3+11699.63719166824*q1-178.41946717294064,\n",
       "            3827765.206980022*q1**3-367465.45987008215*q1**2+11428.175801959553*q1-114.845205058063,\n",
       "            183379.89328633607*q1**2*q2-11736.31317032551*q1*q2-170543.30075629253*q1**2+178.978775847464*q2+10914.771248402723*q1-166.45026153814152,\n",
       "            33619.64710249493*q0**2*q1-37654.004754794325*q0*q1-1075.8287072798378*q0**2+10381.747025250434*q1+1204.9281521534185*q0-332.2159048080139,\n",
       "            10002.53963380015*q1*q2**2-320.0812682816048*q2**2-18604.723718868278*q1*q2+595.3511590037849*q2+8489.822223181773*q1-271.67431114181676,\n",
       "            307537.43032117846*q1*q2*q3-9841.197770277711*q2*q3-286009.810198696*q1*q3-8918.585479314175*q1*q2+9152.31392635827*q3+285.3947353380536*q2+8294.284495762184*q1-265.41710386438984,\n",
       "            11819407.184470873*q1*q3**2-378221.029903068*q3**2-685525.6166993106*q1*q3+21936.819734377943*q3+9778.747136048029*q1-312.9199083535369,\n",
       "            621.1850373461194*q2**3-1733.1062541956733*q2**2+1593.7496029174445*q2-482.8780645439984,\n",
       "            18754.761813375277*q2**2*q3-34883.85697287801*q2*q3-543.888092587883*q2**2+15918.41666846582*q3+1011.6318522134624*q2-461.63408338550875,\n",
       "            644694.9373347749*q2*q3**2-599566.2917213406*q3**2-37392.306365416945*q2*q3+34774.84491983776*q3+533.3862074208015*q2-496.0491729013454,\n",
       "            25231850.72960462*q3**3-2195171.0134756016*q3**2+63039.86142726168*q3-597.3967665019348,\n",
       "            1181940.718447087*q0*q3**2-661886.8023303688*q3**2-68552.56166993105*q0*q3+38389.43453516139*q3+977.8747136048025*q0-547.6098396186894,\n",
       "            3827.765206980019*q0**3-6430.645547726432*q0**2+3568.089615338495*q0-653.696555411551])"
      ]
     },
     "execution_count": 563,
     "metadata": {},
     "output_type": "execute_result"
    }
   ],
   "source": [
    "expansion = ch.generate_expansion(3,joint,normed=True)\n",
    "expansion"
   ]
  },
  {
   "cell_type": "code",
   "execution_count": 565,
   "metadata": {},
   "outputs": [
    {
     "data": {
      "text/plain": [
       "(35, 4)"
      ]
     },
     "execution_count": 565,
     "metadata": {},
     "output_type": "execute_result"
    }
   ],
   "source": [
    "exponents = ch.lead_exponent(expansion)\n",
    "exponents.shape"
   ]
  },
  {
   "cell_type": "code",
   "execution_count": 420,
   "metadata": {},
   "outputs": [],
   "source": [
    "pairs = [i for i in zip(expansion,uhat)]"
   ]
  },
  {
   "cell_type": "code",
   "execution_count": 546,
   "metadata": {},
   "outputs": [
    {
     "data": {
      "text/html": [
       "<div>\n",
       "<style scoped>\n",
       "    .dataframe tbody tr th:only-of-type {\n",
       "        vertical-align: middle;\n",
       "    }\n",
       "\n",
       "    .dataframe tbody tr th {\n",
       "        vertical-align: top;\n",
       "    }\n",
       "\n",
       "    .dataframe thead th {\n",
       "        text-align: right;\n",
       "    }\n",
       "</style>\n",
       "<table border=\"1\" class=\"dataframe\">\n",
       "  <thead>\n",
       "    <tr style=\"text-align: right;\">\n",
       "      <th></th>\n",
       "      <th>term</th>\n",
       "      <th>exponent</th>\n",
       "      <th>coeff</th>\n",
       "    </tr>\n",
       "  </thead>\n",
       "  <tbody>\n",
       "    <tr>\n",
       "      <th>0</th>\n",
       "      <td>1.0</td>\n",
       "      <td>[0, 0, 0, 0]</td>\n",
       "      <td>32.723033</td>\n",
       "    </tr>\n",
       "    <tr>\n",
       "      <th>1</th>\n",
       "      <td>270.632938682637*q3-7.848355221796473</td>\n",
       "      <td>[0, 0, 0, 1]</td>\n",
       "      <td>-3.056561</td>\n",
       "    </tr>\n",
       "    <tr>\n",
       "      <th>2</th>\n",
       "      <td>14.433756729740642*q0-8.08290376865476</td>\n",
       "      <td>[1, 0, 0, 0]</td>\n",
       "      <td>7.741511</td>\n",
       "    </tr>\n",
       "    <tr>\n",
       "      <th>3</th>\n",
       "      <td>7.87295821622217*q2-7.321851141086618</td>\n",
       "      <td>[0, 0, 1, 0]</td>\n",
       "      <td>13.707078</td>\n",
       "    </tr>\n",
       "    <tr>\n",
       "      <th>4</th>\n",
       "      <td>144.33756729740645*q1-4.618802153517007</td>\n",
       "      <td>[0, 1, 0, 0]</td>\n",
       "      <td>1.928021</td>\n",
       "    </tr>\n",
       "    <tr>\n",
       "      <th>...</th>\n",
       "      <td>...</td>\n",
       "      <td>...</td>\n",
       "      <td>...</td>\n",
       "    </tr>\n",
       "    <tr>\n",
       "      <th>205</th>\n",
       "      <td>25238258695.69994*q0*q2**2*q3**3-2195728506.52...</td>\n",
       "      <td>[1, 0, 2, 3]</td>\n",
       "      <td>-0.046097</td>\n",
       "    </tr>\n",
       "    <tr>\n",
       "      <th>206</th>\n",
       "      <td>888989730314.7744*q0*q2*q3**4-497834248976.273...</td>\n",
       "      <td>[1, 0, 1, 4]</td>\n",
       "      <td>-0.011130</td>\n",
       "    </tr>\n",
       "    <tr>\n",
       "      <th>207</th>\n",
       "      <td>35109643235714.9*q0*q3**5-19661400212000.344*q...</td>\n",
       "      <td>[1, 0, 0, 5]</td>\n",
       "      <td>0.004996</td>\n",
       "    </tr>\n",
       "    <tr>\n",
       "      <th>208</th>\n",
       "      <td>8482859172721.368*q0*q1**2*q3**3-738008748026....</td>\n",
       "      <td>[1, 2, 0, 3]</td>\n",
       "      <td>0.005948</td>\n",
       "    </tr>\n",
       "    <tr>\n",
       "      <th>209</th>\n",
       "      <td>17433163.251883227*q0**6-58575428.52632765*q0*...</td>\n",
       "      <td>[6, 0, 0, 0]</td>\n",
       "      <td>0.045909</td>\n",
       "    </tr>\n",
       "  </tbody>\n",
       "</table>\n",
       "<p>210 rows × 3 columns</p>\n",
       "</div>"
      ],
      "text/plain": [
       "                                                  term      exponent  \\\n",
       "0                                                  1.0  [0, 0, 0, 0]   \n",
       "1                270.632938682637*q3-7.848355221796473  [0, 0, 0, 1]   \n",
       "2               14.433756729740642*q0-8.08290376865476  [1, 0, 0, 0]   \n",
       "3                7.87295821622217*q2-7.321851141086618  [0, 0, 1, 0]   \n",
       "4              144.33756729740645*q1-4.618802153517007  [0, 1, 0, 0]   \n",
       "..                                                 ...           ...   \n",
       "205  25238258695.69994*q0*q2**2*q3**3-2195728506.52...  [1, 0, 2, 3]   \n",
       "206  888989730314.7744*q0*q2*q3**4-497834248976.273...  [1, 0, 1, 4]   \n",
       "207  35109643235714.9*q0*q3**5-19661400212000.344*q...  [1, 0, 0, 5]   \n",
       "208  8482859172721.368*q0*q1**2*q3**3-738008748026....  [1, 2, 0, 3]   \n",
       "209  17433163.251883227*q0**6-58575428.52632765*q0*...  [6, 0, 0, 0]   \n",
       "\n",
       "         coeff  \n",
       "0    32.723033  \n",
       "1    -3.056561  \n",
       "2     7.741511  \n",
       "3    13.707078  \n",
       "4     1.928021  \n",
       "..         ...  \n",
       "205  -0.046097  \n",
       "206  -0.011130  \n",
       "207   0.004996  \n",
       "208   0.005948  \n",
       "209   0.045909  \n",
       "\n",
       "[210 rows x 3 columns]"
      ]
     },
     "execution_count": 546,
     "metadata": {},
     "output_type": "execute_result"
    }
   ],
   "source": [
    "table = pd.DataFrame(columns=['term','exponent','coeff'])\n",
    "table.term = [i for i in expansion]\n",
    "table.coeff = [i for i in uhat]\n",
    "table.exponent = [i for i in ch.lead_exponent(expansion,graded=True)]\n",
    "table"
   ]
  },
  {
   "cell_type": "code",
   "execution_count": 530,
   "metadata": {},
   "outputs": [
    {
     "data": {
      "text/plain": [
       "term        9305369.890385529*q0*q2*q3**2-5211007.13861589...\n",
       "exponent                                         [1, 0, 1, 2]\n",
       "coeff                                                 0.63765\n",
       "Name: 66, dtype: object"
      ]
     },
     "execution_count": 530,
     "metadata": {},
     "output_type": "execute_result"
    }
   ],
   "source": [
    "table.iloc[66]"
   ]
  },
  {
   "cell_type": "code",
   "execution_count": null,
   "metadata": {},
   "outputs": [],
   "source": []
  },
  {
   "cell_type": "code",
   "execution_count": 534,
   "metadata": {},
   "outputs": [
    {
     "data": {
      "text/plain": [
       "(array(375.850919), 375.85091186052233)"
      ]
     },
     "execution_count": 534,
     "metadata": {},
     "output_type": "execute_result"
    }
   ],
   "source": [
    "ch.Var(poly,joint),np.sum(np.array(table.coeff)[1:]**2)\n"
   ]
  },
  {
   "cell_type": "code",
   "execution_count": 488,
   "metadata": {},
   "outputs": [
    {
     "data": {
      "text/plain": [
       "array([1, 0, 1, 0])"
      ]
     },
     "execution_count": 488,
     "metadata": {},
     "output_type": "execute_result"
    }
   ],
   "source": [
    "arr = table.exponent[12]\n",
    "arr"
   ]
  },
  {
   "cell_type": "code",
   "execution_count": 487,
   "metadata": {},
   "outputs": [
    {
     "data": {
      "text/plain": [
       "array([0., 1., 1., 1.])"
      ]
     },
     "execution_count": 487,
     "metadata": {},
     "output_type": "execute_result"
    }
   ],
   "source": [
    "mask"
   ]
  },
  {
   "cell_type": "code",
   "execution_count": 489,
   "metadata": {},
   "outputs": [
    {
     "data": {
      "text/plain": [
       "array([0., 0., 1., 0.])"
      ]
     },
     "execution_count": 489,
     "metadata": {},
     "output_type": "execute_result"
    }
   ],
   "source": [
    "mask = np.ones(4)\n",
    "mask[0] = False\n",
    "result = arr*mask\n",
    "result"
   ]
  },
  {
   "cell_type": "code",
   "execution_count": 500,
   "metadata": {},
   "outputs": [
    {
     "data": {
      "text/plain": [
       "array([1, 0, 0, 0])"
      ]
     },
     "execution_count": 500,
     "metadata": {},
     "output_type": "execute_result"
    }
   ],
   "source": [
    "var = 0\n",
    "table.exponent[4]"
   ]
  },
  {
   "cell_type": "code",
   "execution_count": 502,
   "metadata": {},
   "outputs": [
    {
     "data": {
      "text/plain": [
       "array([0., 1., 1., 1.])"
      ]
     },
     "execution_count": 502,
     "metadata": {},
     "output_type": "execute_result"
    }
   ],
   "source": [
    "mask=np.ones(4)\n",
    "mask[0] = False\n",
    "mask"
   ]
  },
  {
   "cell_type": "code",
   "execution_count": 508,
   "metadata": {},
   "outputs": [
    {
     "data": {
      "text/plain": [
       "True"
      ]
     },
     "execution_count": 508,
     "metadata": {},
     "output_type": "execute_result"
    }
   ],
   "source": [
    "np.all(table.exponent[idx]*mask == 0)"
   ]
  },
  {
   "cell_type": "code",
   "execution_count": 507,
   "metadata": {},
   "outputs": [
    {
     "data": {
      "text/plain": [
       "array([0., 0., 0., 0.])"
      ]
     },
     "execution_count": 507,
     "metadata": {},
     "output_type": "execute_result"
    }
   ],
   "source": [
    "table.exponent[4]*mask"
   ]
  },
  {
   "cell_type": "code",
   "execution_count": 506,
   "metadata": {},
   "outputs": [
    {
     "data": {
      "text/plain": [
       "1"
      ]
     },
     "execution_count": 506,
     "metadata": {},
     "output_type": "execute_result"
    }
   ],
   "source": [
    "table.exponent[4][0] "
   ]
  },
  {
   "cell_type": "code",
   "execution_count": 498,
   "metadata": {},
   "outputs": [
    {
     "name": "stdout",
     "output_type": "stream",
     "text": [
      "0 q0\n",
      "1 q1\n",
      "2 q2\n",
      "3 q3\n"
     ]
    }
   ],
   "source": [
    "for variable,name in enumerate(expansion.names):\n",
    "    print(variable,name)"
   ]
  },
  {
   "cell_type": "code",
   "execution_count": 552,
   "metadata": {},
   "outputs": [
    {
     "data": {
      "text/plain": [
       "dict_values([0.1617472231541522, 0.010806670582910282, 0.49843147325755677, 0.02420048234990948])"
      ]
     },
     "execution_count": 552,
     "metadata": {},
     "output_type": "execute_result"
    }
   ],
   "source": [
    "# first orders\n",
    "\n",
    "s1 = {key:0 for key in expansion.names}\n",
    "mask=np.ones(4)\n",
    "variance = np.sum(np.array(table.coeff)[1:]**2)\n",
    "for variable,name in enumerate(expansion.names):\n",
    "    mask=np.ones(4)\n",
    "    mask[variable] = False\n",
    "    for idx in table.index:\n",
    "        if table.exponent[idx][variable] > 0 and np.all(table.exponent[idx]*mask == 0):\n",
    "            s1[name] += table.coeff[idx]**2\n",
    "            \n",
    "for key in s1.keys():\n",
    "    s1[key] = s1[key]/variance\n",
    "    \n",
    "s1.values()\n",
    "    \n",
    "            \n",
    "\n",
    "\n",
    "    \n"
   ]
  },
  {
   "cell_type": "code",
   "execution_count": 537,
   "metadata": {},
   "outputs": [],
   "source": [
    "import timeit"
   ]
  },
  {
   "cell_type": "code",
   "execution_count": 561,
   "metadata": {},
   "outputs": [
    {
     "data": {
      "text/plain": [
       "35"
      ]
     },
     "execution_count": 561,
     "metadata": {},
     "output_type": "execute_result"
    }
   ],
   "source": [
    "exponents = ch.lead_exponent(expansion,graded=True)\n",
    "len(exponents)"
   ]
  },
  {
   "cell_type": "code",
   "execution_count": 554,
   "metadata": {},
   "outputs": [
    {
     "data": {
      "text/plain": [
       "array([0.16174722, 0.01080667, 0.49843147, 0.02420048])"
      ]
     },
     "execution_count": 554,
     "metadata": {},
     "output_type": "execute_result"
    }
   ],
   "source": [
    "exponents = ch.lead_exponent(expansion,graded=True)\n",
    "\n",
    "def sense_main(uhat):\n",
    "    dim = len(joint)\n",
    "    s1 = np.zeros(dim)\n",
    "    \n",
    "    variance = np.sum(np.array(uhat[1:])**2)\n",
    "    \n",
    "    for variable,name in enumerate(expansion.names):\n",
    "        mask = np.ones(dim)\n",
    "        mask[variable] = False\n",
    "        \n",
    "        for idx,exponent in enumerate(exponents):\n",
    "            if exponent[variable] > 0 and np.all(exponent*mask == 0):\n",
    "                s1[variable] += uhat[idx]**2\n",
    "                \n",
    "    s1 = s1 / variance\n",
    "    \n",
    "    return s1\n",
    "\n"
   ]
  },
  {
   "cell_type": "code",
   "execution_count": 558,
   "metadata": {},
   "outputs": [
    {
     "data": {
      "text/plain": [
       "array([0.42721641, 0.10427126, 0.77728951, 0.09135918])"
      ]
     },
     "execution_count": 558,
     "metadata": {},
     "output_type": "execute_result"
    }
   ],
   "source": [
    "def sense_t(uhat):\n",
    "    \n",
    "    dim = len(joint)\n",
    "    st = np.zeros(dim)\n",
    "    \n",
    "    variance = np.sum(np.array(uhat[1:])**2)\n",
    "    \n",
    "    for variable,name in enumerate(expansion.names):\n",
    "        mask = np.ones(dim)\n",
    "        mask[variable] = False\n",
    "        \n",
    "        for idx,exponent in enumerate(exponents):\n",
    "            if exponent[variable] > 0 and np.all(exponent*mask == 0):\n",
    "                st[variable] += uhat[idx]**2\n",
    "                \n",
    "            if exponent[variable] > 0 and np.any(exponent*mask != 0):\n",
    "                st[variable] += uhat[idx]**2\n",
    "                \n",
    "    st = st / variance\n",
    "    \n",
    "    return st\n",
    "\n",
    "sense_t(uhat)\n",
    "    \n",
    "    "
   ]
  },
  {
   "cell_type": "code",
   "execution_count": 557,
   "metadata": {},
   "outputs": [
    {
     "data": {
      "text/plain": [
       "dict_values([0.42721640758293095, 0.1042712581976962, 0.7772895070887207, 0.09135918259212956])"
      ]
     },
     "execution_count": 557,
     "metadata": {},
     "output_type": "execute_result"
    }
   ],
   "source": [
    "# total orders\n",
    "start = time.perf_counter()\n",
    "st = {key:0 for key in expansion.names}\n",
    "\n",
    "variance = np.sum(np.array(table.coeff)[1:]**2)\n",
    "\n",
    "for variable,name in enumerate(expansion.names):\n",
    "    mask=np.ones(4)\n",
    "    mask[variable] = False\n",
    "    for idx in table.index:\n",
    "        if table.exponent[idx][variable] > 0 and np.all(table.exponent[idx]*mask == 0):\n",
    "            st[name] += table.coeff[idx]**2\n",
    "\n",
    "        if table.exponent[idx][variable] > 0 and np.any(table.exponent[idx]*mask != 0):\n",
    "            st[name] += table.coeff[idx]**2\n",
    "            \n",
    "for key in st.keys():\n",
    "    st[key] = st[key] / variance\n",
    "    #st[key] = st[key] + s1[key]\n",
    "    \n",
    "st.values()\n",
    "#print('Improved algorithm >>>',time.perf_counter() - start,'seconds')\n",
    "            \n",
    "    "
   ]
  },
  {
   "cell_type": "code",
   "execution_count": 549,
   "metadata": {},
   "outputs": [
    {
     "name": "stdout",
     "output_type": "stream",
     "text": [
      "Old algorithm >>> 281.8501335000037 seconds\n"
     ]
    }
   ],
   "source": [
    "start = time.perf_counter()\n",
    "ch.Sens_t(poly,joint)\n",
    "print('Old algorithm >>>', time.perf_counter() - start,'seconds')"
   ]
  },
  {
   "cell_type": "code",
   "execution_count": 464,
   "metadata": {},
   "outputs": [
    {
     "ename": "FeatureNotSupported",
     "evalue": "function 'lexsort' not supported by numpoly.",
     "output_type": "error",
     "traceback": [
      "\u001b[1;31m---------------------------------------------------------------------------\u001b[0m",
      "\u001b[1;31mFeatureNotSupported\u001b[0m                       Traceback (most recent call last)",
      "\u001b[1;32m<ipython-input-464-a6b9cdeea47d>\u001b[0m in \u001b[0;36m<module>\u001b[1;34m\u001b[0m\n\u001b[1;32m----> 1\u001b[1;33m \u001b[0mnumpoly\u001b[0m\u001b[1;33m.\u001b[0m\u001b[0mglexsort\u001b[0m\u001b[1;33m(\u001b[0m\u001b[0mexpansion\u001b[0m\u001b[1;33m,\u001b[0m\u001b[0mgraded\u001b[0m\u001b[1;33m=\u001b[0m\u001b[1;32mTrue\u001b[0m\u001b[1;33m)\u001b[0m\u001b[1;33m\u001b[0m\u001b[1;33m\u001b[0m\u001b[0m\n\u001b[0m",
      "\u001b[1;32m~\\Anaconda3\\envs\\gds\\lib\\site-packages\\numpoly\\utils\\glexsort.py\u001b[0m in \u001b[0;36mglexsort\u001b[1;34m(keys, graded, reverse)\u001b[0m\n\u001b[0;32m     57\u001b[0m         \u001b[0mkeys_\u001b[0m \u001b[1;33m=\u001b[0m \u001b[0mkeys_\u001b[0m\u001b[1;33m[\u001b[0m\u001b[1;33m:\u001b[0m\u001b[1;33m:\u001b[0m\u001b[1;33m-\u001b[0m\u001b[1;36m1\u001b[0m\u001b[1;33m]\u001b[0m\u001b[1;33m\u001b[0m\u001b[1;33m\u001b[0m\u001b[0m\n\u001b[0;32m     58\u001b[0m \u001b[1;33m\u001b[0m\u001b[0m\n\u001b[1;32m---> 59\u001b[1;33m     \u001b[0mindices\u001b[0m \u001b[1;33m=\u001b[0m \u001b[0mnumpy\u001b[0m\u001b[1;33m.\u001b[0m\u001b[0marray\u001b[0m\u001b[1;33m(\u001b[0m\u001b[0mnumpy\u001b[0m\u001b[1;33m.\u001b[0m\u001b[0mlexsort\u001b[0m\u001b[1;33m(\u001b[0m\u001b[0mkeys_\u001b[0m\u001b[1;33m)\u001b[0m\u001b[1;33m)\u001b[0m\u001b[1;33m\u001b[0m\u001b[1;33m\u001b[0m\u001b[0m\n\u001b[0m\u001b[0;32m     60\u001b[0m     \u001b[1;32mif\u001b[0m \u001b[0mgraded\u001b[0m\u001b[1;33m:\u001b[0m\u001b[1;33m\u001b[0m\u001b[1;33m\u001b[0m\u001b[0m\n\u001b[0;32m     61\u001b[0m         indices = indices[numpy.argsort(\n",
      "\u001b[1;32m<__array_function__ internals>\u001b[0m in \u001b[0;36mlexsort\u001b[1;34m(*args, **kwargs)\u001b[0m\n",
      "\u001b[1;32m~\\Anaconda3\\envs\\gds\\lib\\site-packages\\numpoly\\baseclass.py\u001b[0m in \u001b[0;36m__array_function__\u001b[1;34m(***failed resolving arguments***)\u001b[0m\n\u001b[0;32m    256\u001b[0m         \u001b[1;32mif\u001b[0m \u001b[0mfunc\u001b[0m \u001b[1;32mnot\u001b[0m \u001b[1;32min\u001b[0m \u001b[0mnumpoly\u001b[0m\u001b[1;33m.\u001b[0m\u001b[0mFUNCTION_COLLECTION\u001b[0m\u001b[1;33m:\u001b[0m\u001b[1;33m\u001b[0m\u001b[1;33m\u001b[0m\u001b[0m\n\u001b[0;32m    257\u001b[0m             raise FeatureNotSupported(\n\u001b[1;32m--> 258\u001b[1;33m                 f\"function '{fname}' not supported by numpoly.\")\n\u001b[0m\u001b[0;32m    259\u001b[0m \u001b[1;33m\u001b[0m\u001b[0m\n\u001b[0;32m    260\u001b[0m         \u001b[1;31m# notify that numpy.save* works, but numpy.load* fails\u001b[0m\u001b[1;33m\u001b[0m\u001b[1;33m\u001b[0m\u001b[1;33m\u001b[0m\u001b[0m\n",
      "\u001b[1;31mFeatureNotSupported\u001b[0m: function 'lexsort' not supported by numpoly."
     ]
    }
   ],
   "source": [
    "numpoly.glexsort(expansion,graded=True)"
   ]
  },
  {
   "cell_type": "code",
   "execution_count": 474,
   "metadata": {},
   "outputs": [
    {
     "data": {
      "text/plain": [
       "array([1])"
      ]
     },
     "execution_count": 474,
     "metadata": {},
     "output_type": "execute_result"
    }
   ],
   "source": [
    "ch.lead_exponent(table.term[1],graded=True)"
   ]
  },
  {
   "cell_type": "code",
   "execution_count": 467,
   "metadata": {},
   "outputs": [
    {
     "data": {
      "text/plain": [
       "{'q0': 0, 'q1': 0, 'q2': 0, 'q3': 0}"
      ]
     },
     "execution_count": 467,
     "metadata": {},
     "output_type": "execute_result"
    }
   ],
   "source": [
    "s1 = {key:0 for key in expansion.names}\n",
    "\n",
    "for term\n"
   ]
  },
  {
   "cell_type": "code",
   "execution_count": 445,
   "metadata": {},
   "outputs": [
    {
     "data": {
      "text/plain": [
       "polynomial(270.632938682637*q3-7.848355221796473)"
      ]
     },
     "execution_count": 445,
     "metadata": {},
     "output_type": "execute_result"
    }
   ],
   "source": [
    "test = table.term[1]\n",
    "test"
   ]
  },
  {
   "cell_type": "code",
   "execution_count": 446,
   "metadata": {},
   "outputs": [
    {
     "data": {
      "text/plain": [
       "array([[0],\n",
       "       [1]], dtype=uint32)"
      ]
     },
     "execution_count": 446,
     "metadata": {},
     "output_type": "execute_result"
    }
   ],
   "source": [
    "test.exponents"
   ]
  },
  {
   "cell_type": "code",
   "execution_count": null,
   "metadata": {},
   "outputs": [],
   "source": []
  },
  {
   "cell_type": "code",
   "execution_count": 441,
   "metadata": {},
   "outputs": [
    {
     "data": {
      "text/plain": [
       "0.1360286946749956"
      ]
     },
     "execution_count": 441,
     "metadata": {},
     "output_type": "execute_result"
    }
   ],
   "source": [
    "(table.coeff[4]**2 + table.coeff[14]**2) / var"
   ]
  },
  {
   "cell_type": "code",
   "execution_count": 431,
   "metadata": {},
   "outputs": [
    {
     "data": {
      "text/plain": [
       "array([0.13602869, 0.45538311, 0.0200298 , 0.3885584 ])"
      ]
     },
     "execution_count": 431,
     "metadata": {},
     "output_type": "execute_result"
    }
   ],
   "source": [
    "s1_true = ch.Sens_m(poly,joint)\n",
    "s1_true"
   ]
  },
  {
   "cell_type": "code",
   "execution_count": 430,
   "metadata": {},
   "outputs": [],
   "source": [
    "var = np.sum(uhat[1:]**2)"
   ]
  },
  {
   "cell_type": "code",
   "execution_count": 421,
   "metadata": {},
   "outputs": [
    {
     "data": {
      "text/plain": [
       "[(polynomial(1.0), 33.05030935450111),\n",
       " (polynomial(270.632938682637*q3-7.848355221796473), -3.7670078435831837),\n",
       " (polynomial(7.87295821622217*q2-7.321851141086618), 16.3320035869493),\n",
       " (polynomial(144.33756729740645*q1-4.618802153517007), 0.493371050714821),\n",
       " (polynomial(14.433756729740642*q0-8.08290376865476), 9.769479722541567),\n",
       " (polynomial(81887.25503539266*q3**2-4749.460792052774*q3+67.74914749601533),\n",
       "  -5181576750439803.0),\n",
       " (polynomial(2130.6818181818176*q2*q3-1981.5340909090905*q3-61.78977272727271*q2+57.46448863636362),\n",
       "  -1.8844003987871119),\n",
       " (polynomial(69.299627401853*q2**2-128.89730696744658*q2+58.819213751112756),\n",
       "  -1176446181640815.8),\n",
       " (polynomial(39062.49999999999*q1*q3-1250.0*q3-1132.8124999999998*q1+36.24999999999999),\n",
       "  -1.3949884049396943),\n",
       " (polynomial(1136.3636363636365*q1*q2-36.36363636363637*q2-1056.818181818182*q1+33.81818181818182),\n",
       "  -3.340760421478166),\n",
       " (polynomial(23292.374765622815*q1**2-1490.7119849998603*q1+22.733357771247867),\n",
       "  -5609475354504839.0),\n",
       " (polynomial(3906.2499999999986*q0*q3-2187.499999999999*q3-113.28124999999996*q0+63.43749999999997),\n",
       "  -2.8763220276416606),\n",
       " (polynomial(113.63636363636363*q0*q2-63.636363636363626*q2-105.68181818181816*q0+59.18181818181817),\n",
       "  7.036101738732019),\n",
       " (polynomial(2083.333333333333*q0*q1-1166.6666666666665*q1-66.66666666666667*q0+37.33333333333333),\n",
       "  -2.4769996119836386),\n",
       " (polynomial(232.923747656228*q0**2-260.8745973749754*q0+71.92685327624321),\n",
       "  -3065836924489213.0)]"
      ]
     },
     "execution_count": 421,
     "metadata": {},
     "output_type": "execute_result"
    }
   ],
   "source": [
    "pairs\n"
   ]
  },
  {
   "cell_type": "code",
   "execution_count": 545,
   "metadata": {
    "collapsed": true,
    "jupyter": {
     "outputs_hidden": true
    }
   },
   "outputs": [
    {
     "data": {
      "text/plain": [
       "polynomial(102790408440.75717*q3**6+44197387.389594786*q0**3*q2**2*q3+8076880.624200722*q0**5*q3+130996628.16457076*q0**4*q1*q3-1787902868.630998*q0**3*q1**2*q3-13983540442.085121*q0**2*q1**3*q3+14273978130.493898*q0*q1**4*q3+70885557302.42242*q2*q3**5+47559175.59263108*q0**4*q2*q3+582969428.6420288*q0**3*q1*q2*q3+524532492.32868373*q0**2*q1**2*q2*q3-10369487051.334625*q0*q1**3*q2*q3+7099583553.606969*q1**4*q2*q3+492738406.6447245*q0**2*q1*q2**2*q3+432697.8133020941*q1*q2**5+617719996.3444645*q0*q1**2*q2**2*q3-4329260319.37623*q1**3*q2**2*q3+22846459.625772975*q0**2*q2**3*q3+218818298.13159722*q0*q1*q2**3*q3-135701169.21997136*q1**2*q2**3*q3+8527721.440809432*q0*q2**4*q3+34327121.610286735*q1*q2**4*q3+1150925.623725201*q2**5*q3-223896394.46609557*q0**4*q3**2-3524581044.6662035*q0**3*q1*q3**2-26033511542.85903*q0**2*q1**2*q3**2+17990.87802448877*q2**6+250631.72047408795*q0*q2**5+205036231728.85168*q1**4*q3**2-3210252704.533667*q0*q1**4*q2+800334.6503643973*q0**6+11214598.575682748*q0**5*q1-5568823.173289263*q0**4*q1**2-757247203.3523967*q0**3*q1**3-2236792885.7690015*q0**2*q1**4+14340172197.938093*q0*q1**5+18904525870.56797*q1**6+1852700.387737546*q0**5*q2+29149283.385734882*q0**4*q1*q2+167608158.7961254*q0**3*q1**2*q2-301943584.5590783*q0**2*q1**3*q2+8643092445.223541*q1**5*q2-7259838.805175596*q1**2*q2**4+1604880.644417928*q0**4*q2**2+28818747.074889317*q0**3*q1*q2**2+203629731.0920353*q0**2*q1**2*q2**2-254673871.4078953*q0*q1**3*q2**2-1205766217.0055573*q1**4*q2**2+1042188.0200196209*q0**3*q2**3+21144151.01216052*q0**2*q1*q2**3+80582162.21446694*q0*q1**2*q2**3-282569985.1553069*q1**3*q2**3+697813.3619374965*q0**2*q2**4+8623616.427398292*q0*q1*q2**4+28279446403.018852*q0*q1**3*q3**2+81140789427.5738*q1**5*q3+50454820192.37486*q0*q1**2*q3**3+47655556.12928168*q0**2*q1*q2*q3**2+452893987182.97797*q1*q3**5-2192510436.213969*q2**2*q3**4-36232828907.80983*q0**2*q1*q3**3-406348949.35022837*q2**3*q3**3+281205624.6247177*q0**2*q2**2*q3**2+74469012.7761805*q0*q2**3*q3**2+376300445796.44574*q1**3*q3**3+42261549567.508644*q1*q2*q3**4+13100029026.868908*q1**3*q2*q3**2+2173254364.367348*q0**2*q3**4-20068013791.347115*q0*q1**2*q2*q3**2-8399667928.859497*q1*q2**2*q3**3-8149589142.840215*q1**2*q2**2*q3**2-444267712.7724159*q1*q2**3*q3**2-3229731364.6943297*q0**2*q2*q3**3+99499158697.08473*q0*q1*q3**4+21324947388.99976*q1**2*q2*q3**3+519907669794.24915*q1**2*q3**4+175416923364.53738*q0*q3**5-3852141.9490762935*q2**4*q3**2-9894828940.954588*q0*q2*q3**4-4032825614.701669*q0**3*q3**3+207034454.17055717*q0**3*q2*q3**2-27064623532.997192*q0*q1*q2*q3**3-1163419296.7395976*q0*q2**2*q3**3+70574613.3234436*q0*q1*q2**2*q3**2-5762612.463304013*q0**3*q1**2-8850528.320173517*q0**3*q2**2-466374599.6378682*q0**3*q1*q3-54027793.30507977*q0**4*q3-3349091259.024828*q2*q3**4-194878074948.55276*q3**5+5456922448.786331*q0**2*q1**2*q3+2153607285.051405*q1**4*q2-134668767.8405986*q0**2*q1*q2**2+17813839.016562156*q1**2*q2**3+2277372487.3733716*q2**2*q3**3+2222407853.745064*q0**2*q1**3-428804526.544911*q0*q1**2*q2**2-5764194.142426947*q0**2*q2**3-66431327.81465696*q0*q1*q2**3+23199879268.113785*q1*q2*q3**3+7698007997.639009*q0*q2*q3**3+48104417891.53753*q0*q1*q3**3-2456707.1481789914*q0*q2**4-89474152341.88159*q1**3*q3**2-6966307.071072699*q1*q2**4+2342815034.6360703*q0*q1**4-277823.29842688824*q2**5-148069086131.34543*q1**2*q3**3+10288782416.460741*q0**2*q3**3+1204577093.5817068*q1**3*q2**2+20888562637.393776*q0*q1**3*q3-4871361.811456044*q0**5-398684626.0335702*q0*q2**2*q3**2-68063257.11059034*q0*q2**3*q3-207047469.65424302*q1*q2**3*q3+22256331790.33089*q1**2*q2*q3**2-10637341.777919456*q2**4*q3+3683419817.656738*q0*q1*q2*q3**2-145877326.26131362*q0**3*q1*q2-624753320.2090849*q0**2*q1**2*q2+791345535.480641*q0**3*q3**2-22067498092.21925*q1**5+10798607811.013634*q0**2*q1*q3**2-540314766.3984241*q0**2*q2*q3**2+38732994696.42394*q0*q1**2*q3**2-10467269.624695841*q0**4*q2+969555941.948249*q1**2*q2**2*q3-1184539210.6469975*q0*q1*q2**2*q3+2481351561.282151*q1*q2**2*q3**2+587894688.166691*q0*q1**2*q2*q3-40366384419.56422*q1**4*q3-60116216.51930509*q0**4*q1-24672481932.34605*q0*q3**4-215520117.1297401*q0**3*q2*q3+1551542801.9248292*q0*q1**3*q2-1886883178.9370873*q0**2*q1*q2*q3+25558229.86029955*q2**3*q3**2+11718222509.316801*q1**3*q2*q3-196343878521.39362*q1*q3**4-169034377.22772932*q0**2*q2**2*q3-1823459229.5171294*q1**3*q2+26984820868.77709*q3**4+291952766.2828505*q0**2*q1*q2+11874250.836428113*q1**2*q2**2+196173844.51585096*q0*q1*q2**2+631739748.9644495*q0*q1**2*q2+20192137.12615041*q0**2*q2**2+982883509.0699251*q1**4-4257808255.537007*q2*q3**3+707893303.4478292*q0**2*q1*q3+9802738.402004665*q0*q2**3+32661848.314332396*q1*q2**3+231454376.2106292*q0*q2*q3**2-8956534690.651896*q1**2*q3**2-11003320659.01841*q0*q1*q3**2-1050097302.6083385*q0**2*q3**2+13109952.946996732*q0**4-5028890799.991209*q1*q2*q3**2+40162794.51857152*q2**3*q3-72622460.69898687*q2**2*q3**2+494086837.59416986*q1*q2**2*q3+216706527.37392473*q0*q2**2*q3-2300383618.6510487*q1**2*q2*q3+1965813067.0536885*q0*q1*q2*q3+25350857.519722153*q0**3*q2+376275379.23351294*q0**2*q2*q3+138076835.9376767*q0**3*q1-8136016271.80502*q0*q3**3-5401560786.143111*q1**3*q3-5451587169.5565605*q0*q1**2*q3+87660554.46468525*q0**2*q1**2-6253494361.395586*q1*q3**3+137290215.97958398*q0**3*q3-2360470375.0731115*q0*q1**3+1556719.4645245012*q2**4-84041365.02547221*q0*q1**2-20002231.23760942*q0**3+965217349.2820035*q1**3-171464154.86303177*q0**2*q1+185175445.4929457*q2*q3**2+2016056153.2839615*q1**2*q3-69627052.69803667*q1*q2**2-497946553.99411625*q1*q2*q3-496439709.684924*q0*q1*q3-79118478.26129818*q2**2*q3-172444816.81285644*q0**2*q3+671201642.4341184*q0*q3**2-292587147.9593176*q0*q2*q3-4396299.891755074*q2**3-20689688.278554764*q0*q2**2+3841036694.2653103*q1*q3**2-33222417.32749591*q1**2*q2-257856897.9091416*q0*q1*q2-33246036.639526628*q0**2*q2+1612878744.2473578*q3**3-195150903.67975822*q3**2+18351209.32203822*q0**2+109301453.50932384*q0*q1+22793577.300049234*q0*q2+76258060.41201562*q2*q3-20891395.560646456*q1**2+87078697.40641473*q1*q3+105906821.05670437*q0*q3+6942210.240219524*q2**2+70204877.36077292*q1*q2-5885179.292874229*q2-24546076.641595207*q1-23311113.649324555*q3-9435028.534315228*q0+1977895.877411536)"
      ]
     },
     "execution_count": 545,
     "metadata": {},
     "output_type": "execute_result"
    }
   ],
   "source": [
    "nodes,weights = ch.generate_quadrature(6,joint,rule='g')\n",
    "evals = []\n",
    "\n",
    "for node in nodes.T:\n",
    "    \n",
    "    if tuple(node) in dick.keys():\n",
    "        a,b,d,g = node\n",
    "        solution = dick[tuple(node)]\n",
    "        evals.append(solution)\n",
    "        \n",
    "    else:\n",
    "        a,b,d,g = node\n",
    "        solution = integrate.odeint(lotka,X,t,args=(a,b,d,g)).T[0][910]\n",
    "        evals.append(solution)\n",
    "        \n",
    "poly,uhat = ch.fit_quadrature(expansion,nodes,weights,evals,retall=True)\n",
    "poly"
   ]
  },
  {
   "cell_type": "code",
   "execution_count": null,
   "metadata": {},
   "outputs": [],
   "source": []
  },
  {
   "cell_type": "code",
   "execution_count": null,
   "metadata": {},
   "outputs": [],
   "source": []
  },
  {
   "cell_type": "code",
   "execution_count": null,
   "metadata": {},
   "outputs": [],
   "source": []
  },
  {
   "cell_type": "code",
   "execution_count": null,
   "metadata": {},
   "outputs": [],
   "source": []
  },
  {
   "cell_type": "code",
   "execution_count": null,
   "metadata": {},
   "outputs": [],
   "source": []
  },
  {
   "cell_type": "code",
   "execution_count": 412,
   "metadata": {},
   "outputs": [
    {
     "data": {
      "text/plain": [
       "array([[33.05030935],\n",
       "       [-3.76700784],\n",
       "       [16.33200359],\n",
       "       [ 0.49337105],\n",
       "       [ 9.76947972]])"
      ]
     },
     "execution_count": 412,
     "metadata": {},
     "output_type": "execute_result"
    }
   ],
   "source": [
    "coeffs = fit_quadrature(expansion,nodes,weights,evals,retall=True)\n",
    "coeffs"
   ]
  },
  {
   "cell_type": "code",
   "execution_count": 414,
   "metadata": {},
   "outputs": [],
   "source": [
    "shape = solves.shape[1:]\n",
    "new = coeffs.reshape(len(coeffs), *shape)"
   ]
  },
  {
   "cell_type": "code",
   "execution_count": 415,
   "metadata": {},
   "outputs": [
    {
     "data": {
      "text/plain": [
       "array([[33.05030935],\n",
       "       [-3.76700784],\n",
       "       [16.33200359],\n",
       "       [ 0.49337105],\n",
       "       [ 9.76947972]])"
      ]
     },
     "execution_count": 415,
     "metadata": {},
     "output_type": "execute_result"
    }
   ],
   "source": [
    "new"
   ]
  },
  {
   "cell_type": "code",
   "execution_count": 357,
   "metadata": {},
   "outputs": [
    {
     "data": {
      "text/plain": [
       "array([14.55467672,  9.64724608, 27.74578959, 29.29412348, 18.47845206,\n",
       "       13.25933628, 35.90714342, 37.35986943, 14.76444526, 12.57032912,\n",
       "       82.65091939, 69.22797678, 26.60607881, 23.86588181, 73.83103233,\n",
       "       39.04164911])"
      ]
     },
     "execution_count": 357,
     "metadata": {},
     "output_type": "execute_result"
    }
   ],
   "source": [
    "solves = np.asfarray(evals)\n",
    "solves"
   ]
  },
  {
   "cell_type": "code",
   "execution_count": 369,
   "metadata": {},
   "outputs": [],
   "source": [
    "test = nodes[0]\n",
    "ovals = numpoly.polynomial(expansion(*nodes))\n"
   ]
  },
  {
   "cell_type": "code",
   "execution_count": 376,
   "metadata": {},
   "outputs": [
    {
     "data": {
      "text/plain": [
       "array([14.55467672,  9.64724608, 27.74578959, 29.29412348, 18.47845206,\n",
       "       13.25933628, 35.90714342, 37.35986943, 14.76444526, 12.57032912,\n",
       "       82.65091939, 69.22797678, 26.60607881, 23.86588181, 73.83103233,\n",
       "       39.04164911])"
      ]
     },
     "execution_count": 376,
     "metadata": {},
     "output_type": "execute_result"
    }
   ],
   "source": [
    "solves"
   ]
  },
  {
   "cell_type": "code",
   "execution_count": 375,
   "metadata": {},
   "outputs": [
    {
     "data": {
      "text/plain": [
       "array([ 1.,  1.,  1., -1., -1.])"
      ]
     },
     "execution_count": 375,
     "metadata": {},
     "output_type": "execute_result"
    }
   ],
   "source": [
    "a,b,d,g = nodes.T[3]\n",
    "expansion(a,b,d,g)"
   ]
  },
  {
   "cell_type": "code",
   "execution_count": 405,
   "metadata": {
    "collapsed": true,
    "jupyter": {
     "outputs_hidden": true
    }
   },
   "outputs": [
    {
     "data": {
      "text/plain": [
       "[polynomial([[0.9096672950417265],\n",
       "             [0.6029528800630746],\n",
       "             [1.7341118496112997],\n",
       "             [1.8308827175992526],\n",
       "             [1.1549032535631154],\n",
       "             [0.8287085172675313],\n",
       "             [2.244196463759164],\n",
       "             [2.3349918390746174],\n",
       "             [0.9227778287846342],\n",
       "             [0.7856455699502899],\n",
       "             [5.16568246216987],\n",
       "             [4.326748548672984],\n",
       "             [1.662879925697526],\n",
       "             [1.491617613407985],\n",
       "             [4.614439520414787],\n",
       "             [2.440103069423224]]),\n",
       " polynomial([[-0.9096672950417265],\n",
       "             [0.602952880063074],\n",
       "             [-1.7341118496112997],\n",
       "             [1.830882717599251],\n",
       "             [-1.1549032535631154],\n",
       "             [0.8287085172675305],\n",
       "             [-2.244196463759164],\n",
       "             [2.334991839074615],\n",
       "             [-0.9227778287846342],\n",
       "             [0.7856455699502892],\n",
       "             [-5.16568246216987],\n",
       "             [4.32674854867298],\n",
       "             [-1.662879925697526],\n",
       "             [1.4916176134079837],\n",
       "             [-4.614439520414787],\n",
       "             [2.440103069423222]]),\n",
       " polynomial([[-0.9096672950417273],\n",
       "             [-0.6029528800630751],\n",
       "             [1.7341118496112982],\n",
       "             [1.830882717599251],\n",
       "             [-1.1549032535631165],\n",
       "             [-0.828708517267532],\n",
       "             [2.2441964637591623],\n",
       "             [2.334991839074615],\n",
       "             [-0.922777828784635],\n",
       "             [-0.7856455699502906],\n",
       "             [5.165682462169865],\n",
       "             [4.32674854867298],\n",
       "             [-1.6628799256975275],\n",
       "             [-1.4916176134079864],\n",
       "             [4.614439520414782],\n",
       "             [2.440103069423222]]),\n",
       " polynomial([[-0.9096672950417265],\n",
       "             [-0.6029528800630746],\n",
       "             [-1.7341118496112997],\n",
       "             [-1.8308827175992526],\n",
       "             [1.1549032535631154],\n",
       "             [0.8287085172675313],\n",
       "             [2.244196463759164],\n",
       "             [2.3349918390746174],\n",
       "             [-0.9227778287846342],\n",
       "             [-0.7856455699502899],\n",
       "             [-5.16568246216987],\n",
       "             [-4.326748548672984],\n",
       "             [1.662879925697526],\n",
       "             [1.491617613407985],\n",
       "             [4.614439520414787],\n",
       "             [2.440103069423224]]),\n",
       " polynomial([[-0.9096672950417248],\n",
       "             [-0.6029528800630735],\n",
       "             [-1.7341118496112966],\n",
       "             [-1.8308827175992493],\n",
       "             [-1.1549032535631134],\n",
       "             [-0.8287085172675298],\n",
       "             [-2.24419646375916],\n",
       "             [-2.3349918390746134],\n",
       "             [0.9227778287846342],\n",
       "             [0.7856455699502899],\n",
       "             [5.16568246216987],\n",
       "             [4.326748548672984],\n",
       "             [1.662879925697526],\n",
       "             [1.491617613407985],\n",
       "             [4.614439520414787],\n",
       "             [2.440103069423224]])]"
      ]
     },
     "execution_count": 405,
     "metadata": {},
     "output_type": "execute_result"
    }
   ],
   "source": [
    "p = [(val * solves.T * weights).T for val in ovals]\n",
    "p"
   ]
  },
  {
   "cell_type": "code",
   "execution_count": null,
   "metadata": {},
   "outputs": [],
   "source": [
    "vals1 = [(val * solves.T * weights).T for val in ovals]"
   ]
  },
  {
   "cell_type": "code",
   "execution_count": 406,
   "metadata": {},
   "outputs": [
    {
     "ename": "TypeError",
     "evalue": "cannot perform reduce with flexible type",
     "output_type": "error",
     "traceback": [
      "\u001b[1;31m---------------------------------------------------------------------------\u001b[0m",
      "\u001b[1;31mTypeError\u001b[0m                                 Traceback (most recent call last)",
      "\u001b[1;32m<ipython-input-406-211c82cc01d4>\u001b[0m in \u001b[0;36m<module>\u001b[1;34m\u001b[0m\n\u001b[1;32m----> 1\u001b[1;33m \u001b[0mnp\u001b[0m\u001b[1;33m.\u001b[0m\u001b[0msum\u001b[0m\u001b[1;33m(\u001b[0m\u001b[0mp\u001b[0m\u001b[1;33m,\u001b[0m\u001b[1;36m1\u001b[0m\u001b[1;33m)\u001b[0m\u001b[1;33m.\u001b[0m\u001b[0mT\u001b[0m\u001b[1;33m\u001b[0m\u001b[1;33m\u001b[0m\u001b[0m\n\u001b[0m",
      "\u001b[1;32m<__array_function__ internals>\u001b[0m in \u001b[0;36msum\u001b[1;34m(*args, **kwargs)\u001b[0m\n",
      "\u001b[1;32m~\\Anaconda3\\envs\\gds\\lib\\site-packages\\numpy\\core\\fromnumeric.py\u001b[0m in \u001b[0;36msum\u001b[1;34m(a, axis, dtype, out, keepdims, initial, where)\u001b[0m\n\u001b[0;32m   2258\u001b[0m \u001b[1;33m\u001b[0m\u001b[0m\n\u001b[0;32m   2259\u001b[0m     return _wrapreduction(a, np.add, 'sum', axis, dtype, out, keepdims=keepdims,\n\u001b[1;32m-> 2260\u001b[1;33m                           initial=initial, where=where)\n\u001b[0m\u001b[0;32m   2261\u001b[0m \u001b[1;33m\u001b[0m\u001b[0m\n\u001b[0;32m   2262\u001b[0m \u001b[1;33m\u001b[0m\u001b[0m\n",
      "\u001b[1;32m~\\Anaconda3\\envs\\gds\\lib\\site-packages\\numpy\\core\\fromnumeric.py\u001b[0m in \u001b[0;36m_wrapreduction\u001b[1;34m(obj, ufunc, method, axis, dtype, out, **kwargs)\u001b[0m\n\u001b[0;32m     84\u001b[0m                 \u001b[1;32mreturn\u001b[0m \u001b[0mreduction\u001b[0m\u001b[1;33m(\u001b[0m\u001b[0maxis\u001b[0m\u001b[1;33m=\u001b[0m\u001b[0maxis\u001b[0m\u001b[1;33m,\u001b[0m \u001b[0mout\u001b[0m\u001b[1;33m=\u001b[0m\u001b[0mout\u001b[0m\u001b[1;33m,\u001b[0m \u001b[1;33m**\u001b[0m\u001b[0mpasskwargs\u001b[0m\u001b[1;33m)\u001b[0m\u001b[1;33m\u001b[0m\u001b[1;33m\u001b[0m\u001b[0m\n\u001b[0;32m     85\u001b[0m \u001b[1;33m\u001b[0m\u001b[0m\n\u001b[1;32m---> 86\u001b[1;33m     \u001b[1;32mreturn\u001b[0m \u001b[0mufunc\u001b[0m\u001b[1;33m.\u001b[0m\u001b[0mreduce\u001b[0m\u001b[1;33m(\u001b[0m\u001b[0mobj\u001b[0m\u001b[1;33m,\u001b[0m \u001b[0maxis\u001b[0m\u001b[1;33m,\u001b[0m \u001b[0mdtype\u001b[0m\u001b[1;33m,\u001b[0m \u001b[0mout\u001b[0m\u001b[1;33m,\u001b[0m \u001b[1;33m**\u001b[0m\u001b[0mpasskwargs\u001b[0m\u001b[1;33m)\u001b[0m\u001b[1;33m\u001b[0m\u001b[1;33m\u001b[0m\u001b[0m\n\u001b[0m\u001b[0;32m     87\u001b[0m \u001b[1;33m\u001b[0m\u001b[0m\n\u001b[0;32m     88\u001b[0m \u001b[1;33m\u001b[0m\u001b[0m\n",
      "\u001b[1;31mTypeError\u001b[0m: cannot perform reduce with flexible type"
     ]
    }
   ],
   "source": [
    "np.sum(p,1).T"
   ]
  },
  {
   "cell_type": "code",
   "execution_count": 395,
   "metadata": {},
   "outputs": [
    {
     "data": {
      "text/plain": [
       "array([33.05030935, -3.76700784, 16.33200359,  0.49337105,  9.76947972])"
      ]
     },
     "execution_count": 395,
     "metadata": {},
     "output_type": "execute_result"
    }
   ],
   "source": [
    "uhat"
   ]
  },
  {
   "cell_type": "code",
   "execution_count": 378,
   "metadata": {},
   "outputs": [
    {
     "data": {
      "text/plain": [
       "array([[14.55467672,  9.64724608, 27.74578959, 29.29412348, 18.47845206,\n",
       "        13.25933628, 35.90714342, 37.35986943, 14.76444526, 12.57032912,\n",
       "        82.65091939, 69.22797678, 26.60607881, 23.86588181, 73.83103233,\n",
       "        39.04164911]])"
      ]
     },
     "execution_count": 378,
     "metadata": {},
     "output_type": "execute_result"
    }
   ],
   "source": [
    "solves = solves.reshape(len(solves), -1)\n",
    "solves.T"
   ]
  },
  {
   "cell_type": "code",
   "execution_count": 360,
   "metadata": {},
   "outputs": [
    {
     "data": {
      "text/plain": [
       "(polynomial([1.0, 270.632938682637*q3-7.848355221796473,\n",
       "             7.87295821622217*q2-7.321851141086618,\n",
       "             144.33756729740645*q1-4.618802153517007,\n",
       "             14.433756729740642*q0-8.08290376865476]),\n",
       " array([1., 1., 1., 1., 1.]))"
      ]
     },
     "execution_count": 360,
     "metadata": {},
     "output_type": "execute_result"
    }
   ],
   "source": [
    "expansion,norms = ch.generate_expansion(1,joint,normed=True,retall=True)\n",
    "expansion,norms"
   ]
  },
  {
   "cell_type": "code",
   "execution_count": 347,
   "metadata": {},
   "outputs": [
    {
     "data": {
      "text/plain": [
       "array([[0.49071797, 0.49071797, 0.49071797, 0.49071797, 0.49071797,\n",
       "        0.49071797, 0.49071797, 0.49071797, 0.62928203, 0.62928203,\n",
       "        0.62928203, 0.62928203, 0.62928203, 0.62928203, 0.62928203,\n",
       "        0.62928203],\n",
       "       [0.0250718 , 0.0250718 , 0.0250718 , 0.0250718 , 0.0389282 ,\n",
       "        0.0389282 , 0.0389282 , 0.0389282 , 0.0250718 , 0.0250718 ,\n",
       "        0.0250718 , 0.0250718 , 0.0389282 , 0.0389282 , 0.0389282 ,\n",
       "        0.0389282 ],\n",
       "       [0.80298294, 0.80298294, 1.05701706, 1.05701706, 0.80298294,\n",
       "        0.80298294, 1.05701706, 1.05701706, 0.80298294, 0.80298294,\n",
       "        1.05701706, 1.05701706, 0.80298294, 0.80298294, 1.05701706,\n",
       "        1.05701706],\n",
       "       [0.02530496, 0.03269504, 0.02530496, 0.03269504, 0.02530496,\n",
       "        0.03269504, 0.02530496, 0.03269504, 0.02530496, 0.03269504,\n",
       "        0.02530496, 0.03269504, 0.02530496, 0.03269504, 0.02530496,\n",
       "        0.03269504]])"
      ]
     },
     "execution_count": 347,
     "metadata": {},
     "output_type": "execute_result"
    }
   ],
   "source": [
    "nodes"
   ]
  },
  {
   "cell_type": "code",
   "execution_count": 348,
   "metadata": {},
   "outputs": [
    {
     "data": {
      "text/plain": [
       "array([[ True,  True,  True,  True,  True,  True,  True,  True,  True,\n",
       "         True,  True,  True,  True,  True,  True,  True],\n",
       "       [ True,  True,  True,  True,  True,  True,  True,  True,  True,\n",
       "         True,  True,  True,  True,  True,  True,  True],\n",
       "       [ True,  True,  True,  True,  True,  True,  True,  True,  True,\n",
       "         True,  True,  True,  True,  True,  True,  True],\n",
       "       [ True,  True,  True,  True,  True,  True,  True,  True,  True,\n",
       "         True,  True,  True,  True,  True,  True,  True]])"
      ]
     },
     "execution_count": 348,
     "metadata": {},
     "output_type": "execute_result"
    }
   ],
   "source": [
    "numpy.atleast_2d(nodes) == nodes"
   ]
  },
  {
   "cell_type": "code",
   "execution_count": 350,
   "metadata": {},
   "outputs": [
    {
     "ename": "AttributeError",
     "evalue": "'list' object has no attribute 'shape'",
     "output_type": "error",
     "traceback": [
      "\u001b[1;31m---------------------------------------------------------------------------\u001b[0m",
      "\u001b[1;31mAttributeError\u001b[0m                            Traceback (most recent call last)",
      "\u001b[1;32m<ipython-input-350-bbc5b6fb07c4>\u001b[0m in \u001b[0;36m<module>\u001b[1;34m\u001b[0m\n\u001b[0;32m     14\u001b[0m         \u001b[0mevals\u001b[0m\u001b[1;33m.\u001b[0m\u001b[0mappend\u001b[0m\u001b[1;33m(\u001b[0m\u001b[0msolution\u001b[0m\u001b[1;33m)\u001b[0m\u001b[1;33m\u001b[0m\u001b[1;33m\u001b[0m\u001b[0m\n\u001b[0;32m     15\u001b[0m \u001b[1;33m\u001b[0m\u001b[0m\n\u001b[1;32m---> 16\u001b[1;33m \u001b[0mpoly\u001b[0m\u001b[1;33m,\u001b[0m\u001b[0muhat\u001b[0m \u001b[1;33m=\u001b[0m \u001b[0mfit_quadrature\u001b[0m\u001b[1;33m(\u001b[0m\u001b[0mexpansion\u001b[0m\u001b[1;33m,\u001b[0m\u001b[0mnodes\u001b[0m\u001b[1;33m,\u001b[0m\u001b[0mweights\u001b[0m\u001b[1;33m,\u001b[0m\u001b[0mevals\u001b[0m\u001b[1;33m,\u001b[0m\u001b[0mretall\u001b[0m\u001b[1;33m=\u001b[0m\u001b[1;32mTrue\u001b[0m\u001b[1;33m)\u001b[0m\u001b[1;33m\u001b[0m\u001b[1;33m\u001b[0m\u001b[0m\n\u001b[0m",
      "\u001b[1;32m<ipython-input-349-40ff5006edc6>\u001b[0m in \u001b[0;36mfit_quadrature\u001b[1;34m(orth, nodes, weights, solves, retall, norms)\u001b[0m\n\u001b[0;32m     41\u001b[0m     \u001b[1;32mglobal\u001b[0m \u001b[0mcoeffs\u001b[0m\u001b[1;33m,\u001b[0m\u001b[0mvals1\u001b[0m\u001b[1;33m,\u001b[0m\u001b[0movals\u001b[0m\u001b[1;33m\u001b[0m\u001b[1;33m\u001b[0m\u001b[0m\n\u001b[0;32m     42\u001b[0m \u001b[1;33m\u001b[0m\u001b[0m\n\u001b[1;32m---> 43\u001b[1;33m     \u001b[0mshape\u001b[0m \u001b[1;33m=\u001b[0m \u001b[0msolves\u001b[0m\u001b[1;33m.\u001b[0m\u001b[0mshape\u001b[0m\u001b[1;33m[\u001b[0m\u001b[1;36m1\u001b[0m\u001b[1;33m:\u001b[0m\u001b[1;33m]\u001b[0m\u001b[1;33m\u001b[0m\u001b[1;33m\u001b[0m\u001b[0m\n\u001b[0m\u001b[0;32m     44\u001b[0m     \u001b[0msolves\u001b[0m \u001b[1;33m=\u001b[0m \u001b[0msolves\u001b[0m\u001b[1;33m.\u001b[0m\u001b[0mreshape\u001b[0m\u001b[1;33m(\u001b[0m\u001b[0mlen\u001b[0m\u001b[1;33m(\u001b[0m\u001b[0msolves\u001b[0m\u001b[1;33m)\u001b[0m\u001b[1;33m,\u001b[0m \u001b[1;33m-\u001b[0m\u001b[1;36m1\u001b[0m\u001b[1;33m)\u001b[0m\u001b[1;33m\u001b[0m\u001b[1;33m\u001b[0m\u001b[0m\n\u001b[0;32m     45\u001b[0m \u001b[1;33m\u001b[0m\u001b[0m\n",
      "\u001b[1;31mAttributeError\u001b[0m: 'list' object has no attribute 'shape'"
     ]
    }
   ],
   "source": [
    "nodes,weights = ch.generate_quadrature(1,joint,rule='g')\n",
    "evals = []\n",
    "\n",
    "for node in nodes.T:\n",
    "    \n",
    "    if tuple(node) in dick.keys():\n",
    "        a,b,d,g = node\n",
    "        solution = dick[tuple(node)]\n",
    "        evals.append(solution)\n",
    "        \n",
    "    else:\n",
    "        a,b,d,g = node\n",
    "        solution = integrate.odeint(lotka,X,t,args=(a,b,d,g)).T[0][910]\n",
    "        evals.append(solution)\n",
    "        \n",
    "poly,uhat = fit_quadrature(expansion,nodes,weights,evals,retall=True)"
   ]
  },
  {
   "cell_type": "code",
   "execution_count": 335,
   "metadata": {},
   "outputs": [
    {
     "data": {
      "text/plain": [
       "16"
      ]
     },
     "execution_count": 335,
     "metadata": {},
     "output_type": "execute_result"
    }
   ],
   "source": [
    "len(evals)"
   ]
  },
  {
   "cell_type": "code",
   "execution_count": 325,
   "metadata": {},
   "outputs": [
    {
     "data": {
      "text/plain": [
       "array([0.21258097, 0.01784185, 0.66578494, 0.03191474])"
      ]
     },
     "execution_count": 325,
     "metadata": {},
     "output_type": "execute_result"
    }
   ],
   "source": [
    "st_true= (ch.Sens_m(poly,joint))\n",
    "st_true"
   ]
  },
  {
   "cell_type": "code",
   "execution_count": 274,
   "metadata": {},
   "outputs": [
    {
     "data": {
      "text/plain": [
       "array([[0, 0, 0, 0],\n",
       "       [0, 0, 0, 1],\n",
       "       [0, 0, 1, 0],\n",
       "       [0, 1, 0, 0],\n",
       "       [1, 0, 0, 0],\n",
       "       [0, 0, 0, 2],\n",
       "       [0, 0, 1, 1],\n",
       "       [0, 0, 2, 0],\n",
       "       [0, 1, 0, 1],\n",
       "       [0, 1, 1, 0],\n",
       "       [0, 2, 0, 0],\n",
       "       [1, 0, 0, 1],\n",
       "       [1, 0, 1, 0],\n",
       "       [1, 1, 0, 0],\n",
       "       [2, 0, 0, 0]])"
      ]
     },
     "execution_count": 274,
     "metadata": {},
     "output_type": "execute_result"
    }
   ],
   "source": [
    "numpoly.lead_exponent(expansion,graded=True)"
   ]
  },
  {
   "cell_type": "code",
   "execution_count": 260,
   "metadata": {},
   "outputs": [
    {
     "data": {
      "text/plain": [
       "array([0.22960802, 0.01784323, 0.71805044, 0.03449831])"
      ]
     },
     "execution_count": 260,
     "metadata": {},
     "output_type": "execute_result"
    }
   ],
   "source": [
    "s1_true = ch.Sens_m(poly,joint)\n",
    "s1_true"
   ]
  },
  {
   "cell_type": "code",
   "execution_count": 261,
   "metadata": {},
   "outputs": [],
   "source": [
    "coeffs = uhat[1:]\n",
    "coeffs = coeffs**2\n",
    "var = np.sum(coeffs)"
   ]
  },
  {
   "cell_type": "code",
   "execution_count": 263,
   "metadata": {},
   "outputs": [
    {
     "data": {
      "text/plain": [
       "array([0.22960802, 0.01784323, 0.71805044, 0.03449831])"
      ]
     },
     "execution_count": 263,
     "metadata": {},
     "output_type": "execute_result"
    }
   ],
   "source": [
    "(coeffs/var)[::-1]"
   ]
  },
  {
   "cell_type": "code",
   "execution_count": null,
   "metadata": {},
   "outputs": [],
   "source": []
  },
  {
   "cell_type": "code",
   "execution_count": 223,
   "metadata": {},
   "outputs": [
    {
     "data": {
      "text/plain": [
       "15"
      ]
     },
     "execution_count": 223,
     "metadata": {},
     "output_type": "execute_result"
    }
   ],
   "source": [
    "len(vals1)"
   ]
  },
  {
   "cell_type": "code",
   "execution_count": 248,
   "metadata": {},
   "outputs": [
    {
     "data": {
      "text/plain": [
       "polynomial([1.0, 270.632938682637*q3-7.848355221796473,\n",
       "            7.87295821622217*q2-7.321851141086618,\n",
       "            144.33756729740645*q1-4.618802153517007,\n",
       "            14.433756729740642*q0-8.08290376865476,\n",
       "            81887.25503539266*q3**2-4749.460792052774*q3+67.74914749601533,\n",
       "            2130.6818181818176*q2*q3-1981.5340909090905*q3-61.78977272727271*q2+57.46448863636362,\n",
       "            69.299627401853*q2**2-128.89730696744658*q2+58.819213751112756,\n",
       "            39062.49999999999*q1*q3-1250.0*q3-1132.8124999999998*q1+36.24999999999999,\n",
       "            1136.3636363636365*q1*q2-36.36363636363637*q2-1056.818181818182*q1+33.81818181818182,\n",
       "            23292.374765622815*q1**2-1490.7119849998603*q1+22.733357771247867,\n",
       "            3906.2499999999986*q0*q3-2187.499999999999*q3-113.28124999999996*q0+63.43749999999997,\n",
       "            113.63636363636363*q0*q2-63.636363636363626*q2-105.68181818181816*q0+59.18181818181817,\n",
       "            2083.333333333333*q0*q1-1166.6666666666665*q1-66.66666666666667*q0+37.33333333333333,\n",
       "            232.923747656228*q0**2-260.8745973749754*q0+71.92685327624321])"
      ]
     },
     "execution_count": 248,
     "metadata": {},
     "output_type": "execute_result"
    }
   ],
   "source": [
    "expansion"
   ]
  },
  {
   "cell_type": "code",
   "execution_count": 249,
   "metadata": {},
   "outputs": [
    {
     "data": {
      "text/plain": [
       "array([[0, 0, 0, 0],\n",
       "       [0, 0, 0, 1],\n",
       "       [0, 0, 0, 2],\n",
       "       [0, 0, 1, 0],\n",
       "       [0, 0, 1, 1],\n",
       "       [0, 0, 2, 0],\n",
       "       [0, 1, 0, 0],\n",
       "       [0, 1, 0, 1],\n",
       "       [0, 1, 1, 0],\n",
       "       [0, 2, 0, 0],\n",
       "       [1, 0, 0, 0],\n",
       "       [1, 0, 0, 1],\n",
       "       [1, 0, 1, 0],\n",
       "       [1, 1, 0, 0],\n",
       "       [2, 0, 0, 0]], dtype=uint32)"
      ]
     },
     "execution_count": 249,
     "metadata": {},
     "output_type": "execute_result"
    }
   ],
   "source": [
    "expansion.exponents"
   ]
  },
  {
   "cell_type": "code",
   "execution_count": 247,
   "metadata": {},
   "outputs": [
    {
     "data": {
      "text/plain": [
       "array([ 3.27221664e+01, -3.05573653e+00,  1.37033873e+01,  1.92850160e+00,\n",
       "        7.74163705e+00, -1.59015907e-02, -1.44520891e+00, -4.92664581e-01,\n",
       "       -6.60987648e-01, -1.93308764e+00, -6.55998183e-01, -1.96761168e+00,\n",
       "        3.64007714e+00, -1.07687963e+00, -2.02710629e-01])"
      ]
     },
     "execution_count": 247,
     "metadata": {},
     "output_type": "execute_result"
    }
   ],
   "source": [
    "uhat"
   ]
  },
  {
   "cell_type": "code",
   "execution_count": 227,
   "metadata": {},
   "outputs": [
    {
     "data": {
      "text/plain": [
       "polynomial([1.0, 270.632938682637*q3-7.848355221796473,\n",
       "            7.87295821622217*q2-7.321851141086618,\n",
       "            144.33756729740645*q1-4.618802153517007,\n",
       "            14.433756729740642*q0-8.08290376865476,\n",
       "            81887.25503539266*q3**2-4749.460792052774*q3+67.74914749601533,\n",
       "            2130.6818181818176*q2*q3-1981.5340909090905*q3-61.78977272727271*q2+57.46448863636362,\n",
       "            69.299627401853*q2**2-128.89730696744658*q2+58.819213751112756,\n",
       "            39062.49999999999*q1*q3-1250.0*q3-1132.8124999999998*q1+36.24999999999999,\n",
       "            1136.3636363636365*q1*q2-36.36363636363637*q2-1056.818181818182*q1+33.81818181818182,\n",
       "            23292.374765622815*q1**2-1490.7119849998603*q1+22.733357771247867,\n",
       "            3906.2499999999986*q0*q3-2187.499999999999*q3-113.28124999999996*q0+63.43749999999997,\n",
       "            113.63636363636363*q0*q2-63.636363636363626*q2-105.68181818181816*q0+59.18181818181817,\n",
       "            2083.333333333333*q0*q1-1166.6666666666665*q1-66.66666666666667*q0+37.33333333333333,\n",
       "            232.923747656228*q0**2-260.8745973749754*q0+71.92685327624321])"
      ]
     },
     "execution_count": 227,
     "metadata": {},
     "output_type": "execute_result"
    }
   ],
   "source": [
    "numpoly.polynomial(expansion)"
   ]
  },
  {
   "cell_type": "code",
   "execution_count": 213,
   "metadata": {},
   "outputs": [
    {
     "data": {
      "text/plain": [
       "array([ 3.27221664e+01, -3.05573653e+00,  1.37033873e+01,  1.92850160e+00,\n",
       "        7.74163705e+00, -1.59015907e-02, -1.44520891e+00, -4.92664581e-01,\n",
       "       -6.60987648e-01, -1.93308764e+00, -6.55998183e-01, -1.96761168e+00,\n",
       "        3.64007714e+00, -1.07687963e+00, -2.02710629e-01])"
      ]
     },
     "execution_count": 213,
     "metadata": {},
     "output_type": "execute_result"
    }
   ],
   "source": [
    "a = (numpy.sum(vals1,1).T/norms).T\n",
    "a = a.reshape(len(a))\n",
    "a"
   ]
  },
  {
   "cell_type": "code",
   "execution_count": 207,
   "metadata": {},
   "outputs": [
    {
     "data": {
      "text/plain": [
       "array([[ 3.27221664e+01],\n",
       "       [-3.05573653e+00],\n",
       "       [ 1.37033873e+01],\n",
       "       [ 1.92850160e+00],\n",
       "       [ 7.74163705e+00],\n",
       "       [-1.59015907e-02],\n",
       "       [-1.44520891e+00],\n",
       "       [-4.92664581e-01],\n",
       "       [-6.60987648e-01],\n",
       "       [-1.93308764e+00],\n",
       "       [-6.55998183e-01],\n",
       "       [-1.96761168e+00],\n",
       "       [ 3.64007714e+00],\n",
       "       [-1.07687963e+00],\n",
       "       [-2.02710629e-01]])"
      ]
     },
     "execution_count": 207,
     "metadata": {},
     "output_type": "execute_result"
    }
   ],
   "source": [
    "fit_quadrature(expansion,nodes,weights,evals)\n"
   ]
  },
  {
   "cell_type": "code",
   "execution_count": 230,
   "metadata": {},
   "outputs": [
    {
     "data": {
      "text/plain": [
       "array([ 3.27221664e+01, -3.05573653e+00,  1.37033873e+01,  1.92850160e+00,\n",
       "        7.74163705e+00, -1.59015907e-02, -1.44520891e+00, -4.92664581e-01,\n",
       "       -6.60987648e-01, -1.93308764e+00, -6.55998183e-01, -1.96761168e+00,\n",
       "        3.64007714e+00, -1.07687963e+00, -2.02710629e-01])"
      ]
     },
     "execution_count": 230,
     "metadata": {},
     "output_type": "execute_result"
    }
   ],
   "source": [
    "uhat"
   ]
  },
  {
   "cell_type": "code",
   "execution_count": 231,
   "metadata": {},
   "outputs": [
    {
     "data": {
      "text/plain": [
       "polynomial(-1302.1376111794145*q3**2-3079.280351422173*q2*q3-25819.829995221215*q1*q3-7685.983119959636*q0*q3-34.141471867401485*q2**2-2196.690495366813*q1*q2+413.64512909569487*q0*q2-15279.755519497032*q1**2-2243.499222042472*q0*q1-47.216119300217386*q0**2+7242.656859277623*q3+99.34128701546337*q2+5304.3163773728775*q1+74.61847497556685*q0-296.64059704935073)"
      ]
     },
     "execution_count": 231,
     "metadata": {},
     "output_type": "execute_result"
    }
   ],
   "source": [
    "poly"
   ]
  },
  {
   "cell_type": "code",
   "execution_count": 233,
   "metadata": {},
   "outputs": [
    {
     "data": {
      "text/plain": [
       "array([[0, 0, 0, 0],\n",
       "       [0, 0, 0, 1],\n",
       "       [0, 0, 0, 2],\n",
       "       [0, 0, 1, 0],\n",
       "       [0, 0, 1, 1],\n",
       "       [0, 0, 2, 0],\n",
       "       [0, 1, 0, 0],\n",
       "       [0, 1, 0, 1],\n",
       "       [0, 1, 1, 0],\n",
       "       [0, 2, 0, 0],\n",
       "       [1, 0, 0, 0],\n",
       "       [1, 0, 0, 1],\n",
       "       [1, 0, 1, 0],\n",
       "       [1, 1, 0, 0],\n",
       "       [2, 0, 0, 0]], dtype=uint32)"
      ]
     },
     "execution_count": 233,
     "metadata": {},
     "output_type": "execute_result"
    }
   ],
   "source": [
    "poly.exponents"
   ]
  },
  {
   "cell_type": "code",
   "execution_count": 240,
   "metadata": {},
   "outputs": [
    {
     "data": {
      "text/plain": [
       "polynomial([[1.0, -7.848355221796473, -7.321851141086618,\n",
       "             -4.618802153517007, -8.08290376865476, 67.74914749601533,\n",
       "             57.46448863636362, 58.819213751112756, 36.24999999999999,\n",
       "             33.81818181818182, 22.733357771247867, 63.43749999999997,\n",
       "             59.18181818181817, 37.33333333333333, 71.92685327624321],\n",
       "            [0.0, 270.632938682637*q3, 0.0, 0.0, 0.0,\n",
       "             -4749.460792052774*q3, -1981.5340909090905*q3, 0.0,\n",
       "             -1250.0*q3, 0.0, 0.0, -2187.499999999999*q3, 0.0, 0.0, 0.0],\n",
       "            [0.0, 0.0, 0.0, 0.0, 0.0, 81887.25503539266*q3**2, 0.0, 0.0,\n",
       "             0.0, 0.0, 0.0, 0.0, 0.0, 0.0, 0.0],\n",
       "            [0.0, 0.0, 7.87295821622217*q2, 0.0, 0.0, 0.0,\n",
       "             -61.78977272727271*q2, -128.89730696744658*q2, 0.0,\n",
       "             -36.36363636363637*q2, 0.0, 0.0, -63.636363636363626*q2,\n",
       "             0.0, 0.0],\n",
       "            [0.0, 0.0, 0.0, 0.0, 0.0, 0.0, 2130.6818181818176*q2*q3, 0.0,\n",
       "             0.0, 0.0, 0.0, 0.0, 0.0, 0.0, 0.0],\n",
       "            [0.0, 0.0, 0.0, 0.0, 0.0, 0.0, 0.0, 69.299627401853*q2**2,\n",
       "             0.0, 0.0, 0.0, 0.0, 0.0, 0.0, 0.0],\n",
       "            [0.0, 0.0, 0.0, 144.33756729740645*q1, 0.0, 0.0, 0.0, 0.0,\n",
       "             -1132.8124999999998*q1, -1056.818181818182*q1,\n",
       "             -1490.7119849998603*q1, 0.0, 0.0, -1166.6666666666665*q1,\n",
       "             0.0],\n",
       "            [0.0, 0.0, 0.0, 0.0, 0.0, 0.0, 0.0, 0.0,\n",
       "             39062.49999999999*q1*q3, 0.0, 0.0, 0.0, 0.0, 0.0, 0.0],\n",
       "            [0.0, 0.0, 0.0, 0.0, 0.0, 0.0, 0.0, 0.0, 0.0,\n",
       "             1136.3636363636365*q1*q2, 0.0, 0.0, 0.0, 0.0, 0.0],\n",
       "            [0.0, 0.0, 0.0, 0.0, 0.0, 0.0, 0.0, 0.0, 0.0, 0.0,\n",
       "             23292.374765622815*q1**2, 0.0, 0.0, 0.0, 0.0],\n",
       "            [0.0, 0.0, 0.0, 0.0, 14.433756729740642*q0, 0.0, 0.0, 0.0,\n",
       "             0.0, 0.0, 0.0, -113.28124999999996*q0,\n",
       "             -105.68181818181816*q0, -66.66666666666667*q0,\n",
       "             -260.8745973749754*q0],\n",
       "            [0.0, 0.0, 0.0, 0.0, 0.0, 0.0, 0.0, 0.0, 0.0, 0.0, 0.0,\n",
       "             3906.2499999999986*q0*q3, 0.0, 0.0, 0.0],\n",
       "            [0.0, 0.0, 0.0, 0.0, 0.0, 0.0, 0.0, 0.0, 0.0, 0.0, 0.0, 0.0,\n",
       "             113.63636363636363*q0*q2, 0.0, 0.0],\n",
       "            [0.0, 0.0, 0.0, 0.0, 0.0, 0.0, 0.0, 0.0, 0.0, 0.0, 0.0, 0.0,\n",
       "             0.0, 2083.333333333333*q0*q1, 0.0],\n",
       "            [0.0, 0.0, 0.0, 0.0, 0.0, 0.0, 0.0, 0.0, 0.0, 0.0, 0.0, 0.0,\n",
       "             0.0, 0.0, 232.923747656228*q0**2]])"
      ]
     },
     "execution_count": 240,
     "metadata": {},
     "output_type": "execute_result"
    }
   ],
   "source": [
    "numpoly.decompose(expansion)"
   ]
  },
  {
   "cell_type": "code",
   "execution_count": 239,
   "metadata": {},
   "outputs": [
    {
     "data": {
      "text/plain": [
       "-0.0032929434748179467"
      ]
     },
     "execution_count": 239,
     "metadata": {},
     "output_type": "execute_result"
    }
   ],
   "source": [
    "(uhat[-1]+uhat[10])/varr"
   ]
  },
  {
   "cell_type": "code",
   "execution_count": 234,
   "metadata": {},
   "outputs": [
    {
     "data": {
      "text/plain": [
       "-0.2027106285869298"
      ]
     },
     "execution_count": 234,
     "metadata": {},
     "output_type": "execute_result"
    }
   ],
   "source": [
    "uhat[-1]"
   ]
  },
  {
   "cell_type": "code",
   "execution_count": 139,
   "metadata": {},
   "outputs": [
    {
     "data": {
      "text/plain": [
       "polynomial([1.0, -7.848355221796473, -7.321851141086618,\n",
       "            -4.618802153517007, -8.08290376865476, 67.74914749601533,\n",
       "            57.46448863636362, 58.819213751112756, 36.24999999999999,\n",
       "            33.81818181818182, 22.733357771247867, 63.43749999999997,\n",
       "            59.18181818181817, 37.33333333333333, 71.92685327624321])"
      ]
     },
     "execution_count": 139,
     "metadata": {},
     "output_type": "execute_result"
    }
   ],
   "source": [
    "ch.decompose(expansion)[0]"
   ]
  },
  {
   "cell_type": "code",
   "execution_count": 144,
   "metadata": {},
   "outputs": [
    {
     "data": {
      "text/plain": [
       "array([[0, 0, 0, 0],\n",
       "       [0, 0, 0, 1],\n",
       "       [0, 0, 0, 2],\n",
       "       [0, 0, 1, 0],\n",
       "       [0, 0, 1, 1],\n",
       "       [0, 0, 2, 0],\n",
       "       [0, 1, 0, 0],\n",
       "       [0, 1, 0, 1],\n",
       "       [0, 1, 1, 0],\n",
       "       [0, 2, 0, 0],\n",
       "       [1, 0, 0, 0],\n",
       "       [1, 0, 0, 1],\n",
       "       [1, 0, 1, 0],\n",
       "       [1, 1, 0, 0],\n",
       "       [2, 0, 0, 0]], dtype=uint32)"
      ]
     },
     "execution_count": 144,
     "metadata": {},
     "output_type": "execute_result"
    }
   ],
   "source": [
    "expansion.exponents"
   ]
  },
  {
   "cell_type": "code",
   "execution_count": 141,
   "metadata": {},
   "outputs": [
    {
     "data": {
      "text/plain": [
       "array([3.74344759e+00, 3.26452103e-02, 6.56513294e-01, 1.30025241e-02,\n",
       "       2.09533406e-01, 8.84033658e-07, 7.30211926e-03, 8.48575211e-04,\n",
       "       1.52747583e-03, 1.30644384e-02, 1.50450257e-03, 1.35352550e-02,\n",
       "       4.63242966e-02, 4.05435695e-03, 1.43661601e-04])"
      ]
     },
     "execution_count": 141,
     "metadata": {},
     "output_type": "execute_result"
    }
   ],
   "source": [
    "uhat**2/np.sum(uhat[1:]**2)"
   ]
  },
  {
   "cell_type": "code",
   "execution_count": 147,
   "metadata": {},
   "outputs": [
    {
     "ename": "AttributeError",
     "evalue": "'numpy.ndarray' object has no attribute 'valeus'",
     "output_type": "error",
     "traceback": [
      "\u001b[1;31m---------------------------------------------------------------------------\u001b[0m",
      "\u001b[1;31mAttributeError\u001b[0m                            Traceback (most recent call last)",
      "\u001b[1;32m<ipython-input-147-a380143e33de>\u001b[0m in \u001b[0;36m<module>\u001b[1;34m\u001b[0m\n\u001b[1;32m----> 1\u001b[1;33m \u001b[0muhat\u001b[0m\u001b[1;33m.\u001b[0m\u001b[0mvaleus\u001b[0m\u001b[1;33m\u001b[0m\u001b[1;33m\u001b[0m\u001b[0m\n\u001b[0m",
      "\u001b[1;31mAttributeError\u001b[0m: 'numpy.ndarray' object has no attribute 'valeus'"
     ]
    }
   ],
   "source": []
  },
  {
   "cell_type": "code",
   "execution_count": 146,
   "metadata": {},
   "outputs": [
    {
     "data": {
      "text/plain": [
       "array((-296.64059705, 7242.65685928, -1302.13761118, 99.34128702, -3079.28035142, -34.14147187, 5304.31637737, -25819.82999522, -2196.69049537, -15279.7555195, 74.61847498, -7685.98311996, 413.6451291, -2243.49922204, -47.2161193),\n",
       "      dtype=[(';;;;', '<f8'), (';;;<', '<f8'), (';;;=', '<f8'), (';;<;', '<f8'), (';;<<', '<f8'), (';;=;', '<f8'), (';<;;', '<f8'), (';<;<', '<f8'), (';<<;', '<f8'), (';=;;', '<f8'), ('<;;;', '<f8'), ('<;;<', '<f8'), ('<;<;', '<f8'), ('<<;;', '<f8'), ('=;;;', '<f8')])"
      ]
     },
     "execution_count": 146,
     "metadata": {},
     "output_type": "execute_result"
    }
   ],
   "source": [
    "poly.values"
   ]
  },
  {
   "cell_type": "code",
   "execution_count": 143,
   "metadata": {},
   "outputs": [
    {
     "data": {
      "text/plain": [
       "array([0.20967707, 0.01450703, 0.65736187, 0.03264609])"
      ]
     },
     "execution_count": 143,
     "metadata": {},
     "output_type": "execute_result"
    }
   ],
   "source": [
    "ch.Sens_m(poly,joint)"
   ]
  },
  {
   "cell_type": "code",
   "execution_count": 145,
   "metadata": {},
   "outputs": [
    {
     "data": {
      "text/plain": [
       "array([0.00164816, 0.02036656, 0.01300341, 0.6891585 ])"
      ]
     },
     "execution_count": 145,
     "metadata": {},
     "output_type": "execute_result"
    }
   ],
   "source": [
    "s1,st = sense(4,expansion,uhat)\n",
    "s1"
   ]
  },
  {
   "cell_type": "code",
   "execution_count": 26,
   "metadata": {},
   "outputs": [
    {
     "data": {
      "text/plain": [
       "(array(290.27396147), 290.2739614731657)"
      ]
     },
     "execution_count": 26,
     "metadata": {},
     "output_type": "execute_result"
    }
   ],
   "source": [
    "var = ch.Var(poly,joint)\n",
    "varr = np.sum(uhat[1:]**2)\n",
    "var,varr"
   ]
  },
  {
   "cell_type": "code",
   "execution_count": 33,
   "metadata": {},
   "outputs": [
    {
     "data": {
      "text/plain": [
       "array([0, 0, 0, 1], dtype=uint32)"
      ]
     },
     "execution_count": 33,
     "metadata": {},
     "output_type": "execute_result"
    }
   ],
   "source": [
    "exponents[1][0:]"
   ]
  },
  {
   "cell_type": "code",
   "execution_count": 31,
   "metadata": {},
   "outputs": [
    {
     "data": {
      "text/plain": [
       "array([[0, 0, 0, 1],\n",
       "       [0, 0, 0, 2],\n",
       "       [0, 0, 1, 0],\n",
       "       [0, 0, 1, 1],\n",
       "       [0, 0, 2, 0],\n",
       "       [0, 1, 0, 0],\n",
       "       [0, 1, 0, 1],\n",
       "       [0, 1, 1, 0],\n",
       "       [0, 2, 0, 0],\n",
       "       [1, 0, 0, 0],\n",
       "       [1, 0, 0, 1],\n",
       "       [1, 0, 1, 0],\n",
       "       [1, 1, 0, 0],\n",
       "       [2, 0, 0, 0]], dtype=uint32)"
      ]
     },
     "execution_count": 31,
     "metadata": {},
     "output_type": "execute_result"
    }
   ],
   "source": [
    "exponents[1:]"
   ]
  },
  {
   "cell_type": "code",
   "execution_count": 34,
   "metadata": {},
   "outputs": [
    {
     "data": {
      "text/plain": [
       "True"
      ]
     },
     "execution_count": 34,
     "metadata": {},
     "output_type": "execute_result"
    }
   ],
   "source": [
    "np.all(exponents[0]==0)"
   ]
  },
  {
   "cell_type": "code",
   "execution_count": 46,
   "metadata": {},
   "outputs": [
    {
     "data": {
      "text/plain": [
       "[1, 2, 3, 4]"
      ]
     },
     "execution_count": 46,
     "metadata": {},
     "output_type": "execute_result"
    }
   ],
   "source": [
    "l = [1,2,3,4]\n",
    "var = 4\n",
    "new = l[0:var]+l[var+1:len(l)]\n",
    "new"
   ]
  },
  {
   "cell_type": "code",
   "execution_count": 72,
   "metadata": {},
   "outputs": [
    {
     "data": {
      "text/plain": [
       "array([[0, 0, 0, 0],\n",
       "       [0, 0, 0, 1],\n",
       "       [0, 0, 0, 2],\n",
       "       [0, 0, 1, 0],\n",
       "       [0, 0, 1, 1],\n",
       "       [0, 0, 2, 0],\n",
       "       [0, 1, 0, 0],\n",
       "       [0, 1, 0, 1],\n",
       "       [0, 1, 1, 0],\n",
       "       [0, 2, 0, 0],\n",
       "       [1, 0, 0, 0],\n",
       "       [1, 0, 0, 1],\n",
       "       [1, 0, 1, 0],\n",
       "       [1, 1, 0, 0],\n",
       "       [2, 0, 0, 0]], dtype=uint32)"
      ]
     },
     "execution_count": 72,
     "metadata": {},
     "output_type": "execute_result"
    }
   ],
   "source": [
    "exponents"
   ]
  },
  {
   "cell_type": "code",
   "execution_count": 96,
   "metadata": {},
   "outputs": [
    {
     "data": {
      "text/plain": [
       "{0: 0.0020712422674690344,\n",
       " 1: 0.02159334871878626,\n",
       " 2: 0.014821615422889858,\n",
       " 3: 0.6853727616620271}"
      ]
     },
     "execution_count": 96,
     "metadata": {},
     "output_type": "execute_result"
    }
   ],
   "source": [
    "s1 = {key:0 for key in range(4)}\n",
    "for var in range(4):\n",
    "    for idx,i in enumerate(exponents[1:]):\n",
    "        new = list(i)\n",
    "        del new[var]\n",
    "        new = np.array(new)\n",
    "        if i[var] > 0 and np.all(new == 0):\n",
    "            s1[var] += uhat[idx+1]**2\n",
    "            \n",
    "variance = np.sum(uhat[1:]**2)\n",
    "\n",
    "for key in s1.keys():\n",
    "    s1[key] = s1[key]/variance\n",
    "        \n",
    "s1\n",
    "    "
   ]
  },
  {
   "cell_type": "code",
   "execution_count": 98,
   "metadata": {},
   "outputs": [
    {
     "data": {
      "text/plain": [
       "<BarContainer object of 4 artists>"
      ]
     },
     "execution_count": 98,
     "metadata": {},
     "output_type": "execute_result"
    },
    {
     "data": {
      "image/png": "[encoded data removed]",
      "text/plain": [
       "<Figure size 432x288 with 1 Axes>"
      ]
     },
     "metadata": {
      "needs_background": "light"
     },
     "output_type": "display_data"
    }
   ],
   "source": [
    "plt.bar(height=s1.values(),x=np.arange(1,5))"
   ]
  },
  {
   "cell_type": "code",
   "execution_count": 78,
   "metadata": {},
   "outputs": [
    {
     "data": {
      "text/plain": [
       "[0, 0, 0]"
      ]
     },
     "execution_count": 78,
     "metadata": {},
     "output_type": "execute_result"
    }
   ],
   "source": [
    "new = list(i)\n",
    "del new[3]\n",
    "np.anew"
   ]
  },
  {
   "cell_type": "code",
   "execution_count": 85,
   "metadata": {},
   "outputs": [
    {
     "data": {
      "text/plain": [
       "[0, 0, 0, 1]"
      ]
     },
     "execution_count": 85,
     "metadata": {},
     "output_type": "execute_result"
    }
   ],
   "source": [
    "test = [int(j) for j in i]\n",
    "test"
   ]
  },
  {
   "cell_type": "code",
   "execution_count": 86,
   "metadata": {},
   "outputs": [
    {
     "data": {
      "text/plain": [
       "[0, 0, 0]"
      ]
     },
     "execution_count": 86,
     "metadata": {},
     "output_type": "execute_result"
    }
   ],
   "source": [
    "del test[3]\n",
    "test"
   ]
  },
  {
   "cell_type": "code",
   "execution_count": 93,
   "metadata": {},
   "outputs": [
    {
     "data": {
      "text/plain": [
       "True"
      ]
     },
     "execution_count": 93,
     "metadata": {},
     "output_type": "execute_result"
    }
   ],
   "source": [
    "np.all(test==0)"
   ]
  },
  {
   "cell_type": "code",
   "execution_count": 92,
   "metadata": {},
   "outputs": [],
   "source": [
    "test = np.array(test)"
   ]
  },
  {
   "cell_type": "code",
   "execution_count": 88,
   "metadata": {},
   "outputs": [
    {
     "data": {
      "text/plain": [
       "False"
      ]
     },
     "execution_count": 88,
     "metadata": {},
     "output_type": "execute_result"
    }
   ],
   "source": [
    "np.all(test == 0)"
   ]
  },
  {
   "cell_type": "code",
   "execution_count": 79,
   "metadata": {},
   "outputs": [
    {
     "data": {
      "text/plain": [
       "False"
      ]
     },
     "execution_count": 79,
     "metadata": {},
     "output_type": "execute_result"
    }
   ],
   "source": [
    "np.all(new==0)"
   ]
  },
  {
   "cell_type": "code",
   "execution_count": 69,
   "metadata": {},
   "outputs": [
    {
     "data": {
      "text/plain": [
       "[2, 3, 4]"
      ]
     },
     "execution_count": 69,
     "metadata": {},
     "output_type": "execute_result"
    }
   ],
   "source": [
    "new = l\n",
    "del new[0]\n",
    "new"
   ]
  },
  {
   "cell_type": "code",
   "execution_count": 61,
   "metadata": {},
   "outputs": [
    {
     "data": {
      "text/plain": [
       "array([0, 0, 2], dtype=uint32)"
      ]
     },
     "execution_count": 61,
     "metadata": {},
     "output_type": "execute_result"
    }
   ],
   "source": [
    "new"
   ]
  },
  {
   "cell_type": "code",
   "execution_count": 19,
   "metadata": {},
   "outputs": [
    {
     "data": {
      "text/plain": [
       "array([0.06402216, 0.02948031, 0.27072989, 0.91190868])"
      ]
     },
     "execution_count": 19,
     "metadata": {},
     "output_type": "execute_result"
    }
   ],
   "source": [
    "s1,st = sense(4,expansion,uhat)\n",
    "st"
   ]
  },
  {
   "cell_type": "code",
   "execution_count": 22,
   "metadata": {},
   "outputs": [
    {
     "data": {
      "text/plain": [
       "<BarContainer object of 4 artists>"
      ]
     },
     "execution_count": 22,
     "metadata": {},
     "output_type": "execute_result"
    },
    {
     "data": {
      "image/png": "[encoded data removed]",
      "text/plain": [
       "<Figure size 432x288 with 1 Axes>"
      ]
     },
     "metadata": {
      "needs_background": "light"
     },
     "output_type": "display_data"
    }
   ],
   "source": [
    "plt.bar(height=s1,x=np.arange(1,5))"
   ]
  },
  {
   "cell_type": "code",
   "execution_count": 36,
   "metadata": {},
   "outputs": [
    {
     "data": {
      "text/plain": [
       "<BarContainer object of 4 artists>"
      ]
     },
     "execution_count": 36,
     "metadata": {},
     "output_type": "execute_result"
    },
    {
     "data": {
      "image/png": "[encoded data removed]",
      "text/plain": [
       "<Figure size 432x288 with 1 Axes>"
      ]
     },
     "metadata": {
      "needs_background": "light"
     },
     "output_type": "display_data"
    }
   ],
   "source": [
    "st = ch.Sens_m(poly,joint)\n",
    "plt.bar(height=st,x=range(1,5))"
   ]
  },
  {
   "cell_type": "code",
   "execution_count": 14,
   "metadata": {},
   "outputs": [
    {
     "data": {
      "text/plain": [
       "<BarContainer object of 4 artists>"
      ]
     },
     "execution_count": 14,
     "metadata": {},
     "output_type": "execute_result"
    },
    {
     "data": {
      "image/png": "[encoded data removed]",
      "text/plain": [
       "<Figure size 432x288 with 1 Axes>"
      ]
     },
     "metadata": {
      "needs_background": "light"
     },
     "output_type": "display_data"
    }
   ],
   "source": [
    "plt.bar(height=gt,x=range(1,5))"
   ]
  },
  {
   "cell_type": "code",
   "execution_count": 198,
   "metadata": {},
   "outputs": [
    {
     "data": {
      "text/plain": [
       "0.2706638455191029"
      ]
     },
     "execution_count": 198,
     "metadata": {},
     "output_type": "execute_result"
    }
   ],
   "source": [
    "## try first order for q_0\n",
    "s1 = 0\n",
    "variance = np.sum(uhat[1:]**2)\n",
    "for idx,term in enumerate(expansion.exponents[1:]):\n",
    "    if term[2] > 0:\n",
    "        try:\n",
    "            s1 += uhat[idx+1]**2\n",
    "        except:\n",
    "            pass\n",
    "        \n",
    "s1 = s1/variance\n",
    "\n",
    "s1\n",
    "    b\n",
    "    "
   ]
  },
  {
   "cell_type": "code",
   "execution_count": 148,
   "metadata": {},
   "outputs": [
    {
     "data": {
      "text/plain": [
       "polynomial([q0, q1, q2, q3])"
      ]
     },
     "execution_count": 148,
     "metadata": {},
     "output_type": "execute_result"
    }
   ],
   "source": [
    "expansion.indeterminants"
   ]
  },
  {
   "cell_type": "code",
   "execution_count": 150,
   "metadata": {},
   "outputs": [
    {
     "name": "stdout",
     "output_type": "stream",
     "text": [
      "1.0\n",
      "270.632938682637*q3-7.848355221796473\n",
      "7.87295821622217*q2-7.321851141086618\n",
      "144.33756729740645*q1-4.618802153517007\n",
      "14.433756729740642*q0-8.08290376865476\n",
      "81887.25503539266*q3**2-4749.460792052774*q3+67.74914749601533\n",
      "2130.6818181818176*q2*q3-1981.5340909090905*q3-61.78977272727271*q2+57.46448863636362\n",
      "69.299627401853*q2**2-128.89730696744658*q2+58.819213751112756\n",
      "39062.49999999999*q1*q3-1250.0*q3-1132.8124999999998*q1+36.24999999999999\n",
      "1136.3636363636365*q1*q2-36.36363636363637*q2-1056.818181818182*q1+33.81818181818182\n",
      "23292.374765622815*q1**2-1490.7119849998603*q1+22.733357771247867\n",
      "3906.2499999999986*q0*q3-2187.499999999999*q3-113.28124999999996*q0+63.43749999999997\n",
      "113.63636363636363*q0*q2-63.636363636363626*q2-105.68181818181816*q0+59.18181818181817\n",
      "2083.333333333333*q0*q1-1166.6666666666665*q1-66.66666666666667*q0+37.33333333333333\n",
      "232.923747656228*q0**2-260.8745973749754*q0+71.92685327624321\n"
     ]
    }
   ],
   "source": [
    "for i in expansion:\n",
    "    print(i)"
   ]
  },
  {
   "cell_type": "code",
   "execution_count": 180,
   "metadata": {},
   "outputs": [
    {
     "data": {
      "text/plain": [
       "array([32.7233202 , -3.04494461, 13.73129132,  1.94700908,  7.76485992,\n",
       "       -0.05936142, -1.45889785, -0.50641919, -0.7071555 , -1.9422552 ,\n",
       "       -0.68983845, -1.99370389,  3.63766771, -1.10527887, -0.21446448])"
      ]
     },
     "execution_count": 180,
     "metadata": {},
     "output_type": "execute_result"
    }
   ],
   "source": [
    "uhat"
   ]
  },
  {
   "cell_type": "code",
   "execution_count": 185,
   "metadata": {},
   "outputs": [
    {
     "data": {
      "text/plain": [
       "array([3.72437253e+00, 3.22475842e-02, 6.55784509e-01, 1.31848242e-02,\n",
       "       2.09703482e-01, 1.22559492e-05, 7.40266606e-03, 8.91987345e-04,\n",
       "       1.73927495e-03, 1.31205179e-02, 1.65513409e-03, 1.38248269e-02,\n",
       "       4.60240084e-02, 4.24895496e-03, 1.59973902e-04])"
      ]
     },
     "execution_count": 185,
     "metadata": {},
     "output_type": "execute_result"
    }
   ],
   "source": [
    "a = uhat**2/variance\n",
    "a"
   ]
  },
  {
   "cell_type": "code",
   "execution_count": 186,
   "metadata": {},
   "outputs": [
    {
     "data": {
      "text/plain": [
       "array([0.03224758, 0.65578451, 0.01318482, 0.20970348])"
      ]
     },
     "execution_count": 186,
     "metadata": {},
     "output_type": "execute_result"
    }
   ],
   "source": [
    "ss_1 = a[1:5]\n",
    "ss_1\n"
   ]
  },
  {
   "cell_type": "code",
   "execution_count": 192,
   "metadata": {},
   "outputs": [
    {
     "data": {
      "text/plain": [
       "array([0.27396125, 0.03394871, 0.72322369, 0.05522661])"
      ]
     },
     "execution_count": 192,
     "metadata": {},
     "output_type": "execute_result"
    }
   ],
   "source": [
    "st_true = ch.Sens_t(poly,joint)\n",
    "st_truebbbbb"
   ]
  },
  {
   "cell_type": "code",
   "execution_count": null,
   "metadata": {},
   "outputs": [],
   "source": []
  },
  {
   "cell_type": "code",
   "execution_count": null,
   "metadata": {},
   "outputs": [],
   "source": []
  },
  {
   "cell_type": "code",
   "execution_count": null,
   "metadata": {},
   "outputs": [],
   "source": []
  },
  {
   "cell_type": "code",
   "execution_count": null,
   "metadata": {},
   "outputs": [],
   "source": []
  },
  {
   "cell_type": "code",
   "execution_count": 16,
   "metadata": {},
   "outputs": [
    {
     "name": "stdout",
     "output_type": "stream",
     "text": [
      "Solver_time >>> 0.43555109999999786\n",
      "Weight sum >>> 0.9999999999999996\n",
      "Global error >>> 1.0179653394145163\n",
      "Step time >>> 0.9581157000000076 seconds\n",
      "---------- break ----------\n",
      "Chosen index >>> (1, 1, 1, 1)\n",
      "Solver_time >>> 0.42257580000000416\n",
      "Weight sum >>> 1.9999999999999996\n",
      "Sobol time >>> 0.009298199999989265\n",
      "Global error >>> 1.0179653394145163\n",
      "Step time >>> 3.3936105000000225 seconds\n",
      "---------- break ----------\n",
      "Chosen index >>> (1, 2, 1, 1)\n",
      "Solver_time >>> 0.22467460000007122\n",
      "Weight sum >>> 0.9999999999999993\n",
      "Sobol time >>> 0.01957880000009027\n",
      "Global error >>> 1.0739818146374238\n",
      "Step time >>> 7.183743399999912 seconds\n",
      "---------- break ----------\n",
      "Chosen index >>> (1, 1, 1, 2)\n",
      "Solver_time >>> 0.40692999999998847\n",
      "Weight sum >>> 1.1796119636642288e-16\n",
      "Sobol time >>> 0.02194320000000971\n",
      "Global error >>> 1.0506055782680261\n",
      "Step time >>> 15.381548400000042 seconds\n",
      "---------- break ----------\n",
      "Chosen index >>> (2, 1, 1, 2)\n",
      "Solver_time >>> 0.3041611000001012\n",
      "Weight sum >>> 8.326672684688674e-17\n",
      "Sobol time >>> 0.01510310000003301\n",
      "Global error >>> 0.5621781753610285\n",
      "Step time >>> 14.374302400000033 seconds\n",
      "---------- break ----------\n",
      "Chosen index >>> (1, 2, 2, 1)\n",
      "Solver_time >>> 0.4294721999999638\n",
      "Weight sum >>> 7.632783294297951e-16\n",
      "Sobol time >>> 0.02043360000004668\n",
      "Global error >>> 0.7593933259979986\n",
      "Step time >>> 14.98205900000005 seconds\n",
      "---------- break ----------\n",
      "Chosen index >>> (2, 1, 2, 2)\n",
      "Solver_time >>> 0.5079111999999668\n",
      "Weight sum >>> 3.642919299551295e-17\n",
      "Sobol time >>> 0.020389499999964755\n",
      "Global error >>> 1.4938155602210772\n",
      "Step time >>> 19.427764799999977 seconds\n",
      "---------- break ----------\n",
      "Chosen index >>> (2, 1, 2, 3)\n",
      "Solver_time >>> 1.3452118999999811\n",
      "Weight sum >>> -1.5213524884316598e-15\n"
     ]
    },
    {
     "ename": "KeyboardInterrupt",
     "evalue": "",
     "output_type": "error",
     "traceback": [
      "\u001b[1;31m---------------------------------------------------------------------------\u001b[0m",
      "\u001b[1;31mKeyboardInterrupt\u001b[0m                         Traceback (most recent call last)",
      "\u001b[1;32m<ipython-input-16-18d8c0b5788f>\u001b[0m in \u001b[0;36m<module>\u001b[1;34m\u001b[0m\n\u001b[0;32m    448\u001b[0m     \u001b[1;32mreturn\u001b[0m \u001b[0mst\u001b[0m\u001b[1;33m\u001b[0m\u001b[1;33m\u001b[0m\u001b[0m\n\u001b[0;32m    449\u001b[0m \u001b[1;33m\u001b[0m\u001b[0m\n\u001b[1;32m--> 450\u001b[1;33m \u001b[0malgorithm\u001b[0m\u001b[1;33m(\u001b[0m\u001b[1;36m5\u001b[0m\u001b[1;33m,\u001b[0m\u001b[1;34m'prey'\u001b[0m\u001b[1;33m)\u001b[0m\u001b[1;33m\u001b[0m\u001b[1;33m\u001b[0m\u001b[0m\n\u001b[0m\u001b[0;32m    451\u001b[0m \u001b[1;33m\u001b[0m\u001b[0m\n\u001b[0;32m    452\u001b[0m \u001b[1;33m\u001b[0m\u001b[0m\n",
      "\u001b[1;32m<ipython-input-16-18d8c0b5788f>\u001b[0m in \u001b[0;36malgorithm\u001b[1;34m(P, species)\u001b[0m\n\u001b[0;32m    321\u001b[0m         \u001b[0mcandidates\u001b[0m \u001b[1;33m=\u001b[0m \u001b[0mgenerate_candidates\u001b[0m\u001b[1;33m(\u001b[0m\u001b[0mchosen_index\u001b[0m\u001b[1;33m,\u001b[0m\u001b[0mP\u001b[0m\u001b[1;33m)\u001b[0m\u001b[1;33m\u001b[0m\u001b[1;33m\u001b[0m\u001b[0m\n\u001b[0;32m    322\u001b[0m         \u001b[0mstripped_active\u001b[0m \u001b[1;33m=\u001b[0m \u001b[1;33m[\u001b[0m\u001b[0mi\u001b[0m\u001b[1;33m[\u001b[0m\u001b[1;36m0\u001b[0m\u001b[1;33m]\u001b[0m \u001b[1;32mfor\u001b[0m \u001b[0mi\u001b[0m \u001b[1;32min\u001b[0m \u001b[0mactive\u001b[0m\u001b[1;33m]\u001b[0m \u001b[1;33m+\u001b[0m \u001b[1;33m[\u001b[0m\u001b[0mj\u001b[0m \u001b[1;32mfor\u001b[0m \u001b[0mj\u001b[0m \u001b[1;32min\u001b[0m \u001b[0mcandidates\u001b[0m\u001b[1;33m]\u001b[0m\u001b[1;33m\u001b[0m\u001b[1;33m\u001b[0m\u001b[0m\n\u001b[1;32m--> 323\u001b[1;33m         \u001b[0mactive\u001b[0m \u001b[1;33m=\u001b[0m \u001b[0massign_errors\u001b[0m\u001b[1;33m(\u001b[0m\u001b[0mstripped_active\u001b[0m\u001b[1;33m)\u001b[0m\u001b[1;33m\u001b[0m\u001b[1;33m\u001b[0m\u001b[0m\n\u001b[0m\u001b[0;32m    324\u001b[0m \u001b[1;33m\u001b[0m\u001b[0m\n\u001b[0;32m    325\u001b[0m         \u001b[0msobol_time\u001b[0m \u001b[1;33m=\u001b[0m \u001b[0mtime\u001b[0m\u001b[1;33m.\u001b[0m\u001b[0mperf_counter\u001b[0m\u001b[1;33m(\u001b[0m\u001b[1;33m)\u001b[0m\u001b[1;33m\u001b[0m\u001b[1;33m\u001b[0m\u001b[0m\n",
      "\u001b[1;32m<ipython-input-16-18d8c0b5788f>\u001b[0m in \u001b[0;36massign_errors\u001b[1;34m(active_set)\u001b[0m\n\u001b[0;32m    233\u001b[0m                 \u001b[0mpoly_eval\u001b[0m \u001b[1;33m=\u001b[0m \u001b[1;36m0\u001b[0m\u001b[1;33m\u001b[0m\u001b[1;33m\u001b[0m\u001b[0m\n\u001b[0;32m    234\u001b[0m             \u001b[1;32melse\u001b[0m\u001b[1;33m:\u001b[0m\u001b[1;33m\u001b[0m\u001b[1;33m\u001b[0m\u001b[0m\n\u001b[1;32m--> 235\u001b[1;33m                 \u001b[0mpoly_eval\u001b[0m \u001b[1;33m=\u001b[0m \u001b[0mpoly\u001b[0m\u001b[1;33m[\u001b[0m\u001b[1;33m-\u001b[0m\u001b[1;36m1\u001b[0m\u001b[1;33m]\u001b[0m\u001b[1;33m(\u001b[0m\u001b[0ma\u001b[0m\u001b[1;33m,\u001b[0m \u001b[0mb\u001b[0m\u001b[1;33m,\u001b[0m \u001b[0md\u001b[0m\u001b[1;33m,\u001b[0m \u001b[0mg\u001b[0m\u001b[1;33m)\u001b[0m\u001b[1;33m\u001b[0m\u001b[1;33m\u001b[0m\u001b[0m\n\u001b[0m\u001b[0;32m    236\u001b[0m \u001b[1;33m\u001b[0m\u001b[0m\n\u001b[0;32m    237\u001b[0m             \u001b[1;32mif\u001b[0m \u001b[0mnode\u001b[0m \u001b[1;32min\u001b[0m \u001b[0mdick\u001b[0m\u001b[1;33m.\u001b[0m\u001b[0mkeys\u001b[0m\u001b[1;33m(\u001b[0m\u001b[1;33m)\u001b[0m\u001b[1;33m:\u001b[0m\u001b[1;33m\u001b[0m\u001b[1;33m\u001b[0m\u001b[0m\n",
      "\u001b[1;32m~\\Anaconda3\\envs\\gds\\lib\\site-packages\\numpoly\\baseclass.py\u001b[0m in \u001b[0;36m__call__\u001b[1;34m(self, *args, **kwargs)\u001b[0m\n\u001b[0;32m    594\u001b[0m \u001b[1;33m\u001b[0m\u001b[0m\n\u001b[0;32m    595\u001b[0m         \"\"\"\n\u001b[1;32m--> 596\u001b[1;33m         \u001b[1;32mreturn\u001b[0m \u001b[0mnumpoly\u001b[0m\u001b[1;33m.\u001b[0m\u001b[0mcall\u001b[0m\u001b[1;33m(\u001b[0m\u001b[0mself\u001b[0m\u001b[1;33m,\u001b[0m \u001b[0margs\u001b[0m\u001b[1;33m,\u001b[0m \u001b[0mkwargs\u001b[0m\u001b[1;33m)\u001b[0m\u001b[1;33m\u001b[0m\u001b[1;33m\u001b[0m\u001b[0m\n\u001b[0m\u001b[0;32m    597\u001b[0m \u001b[1;33m\u001b[0m\u001b[0m\n\u001b[0;32m    598\u001b[0m     \u001b[1;32mdef\u001b[0m \u001b[0m__eq__\u001b[0m\u001b[1;33m(\u001b[0m\u001b[0mself\u001b[0m\u001b[1;33m,\u001b[0m \u001b[0mother\u001b[0m\u001b[1;33m:\u001b[0m \u001b[0mobject\u001b[0m\u001b[1;33m)\u001b[0m \u001b[1;33m->\u001b[0m \u001b[0mnumpy\u001b[0m\u001b[1;33m.\u001b[0m\u001b[0mndarray\u001b[0m\u001b[1;33m:\u001b[0m  \u001b[1;31m# type: ignore\u001b[0m\u001b[1;33m\u001b[0m\u001b[1;33m\u001b[0m\u001b[0m\n",
      "\u001b[1;32m~\\Anaconda3\\envs\\gds\\lib\\site-packages\\numpoly\\poly_function\\call.py\u001b[0m in \u001b[0;36mcall\u001b[1;34m(poly, args, kwargs)\u001b[0m\n\u001b[0;32m     80\u001b[0m     \u001b[0mones\u001b[0m \u001b[1;33m=\u001b[0m \u001b[0mnumpy\u001b[0m\u001b[1;33m.\u001b[0m\u001b[0mones\u001b[0m\u001b[1;33m(\u001b[0m\u001b[1;33m(\u001b[0m\u001b[1;33m)\u001b[0m\u001b[1;33m,\u001b[0m \u001b[0mdtype\u001b[0m\u001b[1;33m=\u001b[0m\u001b[0mint\u001b[0m\u001b[1;33m)\u001b[0m\u001b[1;33m\u001b[0m\u001b[1;33m\u001b[0m\u001b[0m\n\u001b[0;32m     81\u001b[0m     \u001b[1;32mfor\u001b[0m \u001b[0mvalue\u001b[0m \u001b[1;32min\u001b[0m \u001b[0mparameters\u001b[0m\u001b[1;33m.\u001b[0m\u001b[0mvalues\u001b[0m\u001b[1;33m(\u001b[0m\u001b[1;33m)\u001b[0m\u001b[1;33m:\u001b[0m\u001b[1;33m\u001b[0m\u001b[1;33m\u001b[0m\u001b[0m\n\u001b[1;32m---> 82\u001b[1;33m         \u001b[0mones\u001b[0m \u001b[1;33m=\u001b[0m \u001b[0mones\u001b[0m\u001b[1;33m*\u001b[0m\u001b[0mnumpy\u001b[0m\u001b[1;33m.\u001b[0m\u001b[0mones\u001b[0m\u001b[1;33m(\u001b[0m\u001b[0mnumpoly\u001b[0m\u001b[1;33m.\u001b[0m\u001b[0mpolynomial\u001b[0m\u001b[1;33m(\u001b[0m\u001b[0mvalue\u001b[0m\u001b[1;33m)\u001b[0m\u001b[1;33m.\u001b[0m\u001b[0mshape\u001b[0m\u001b[1;33m,\u001b[0m \u001b[0mdtype\u001b[0m\u001b[1;33m=\u001b[0m\u001b[0mint\u001b[0m\u001b[1;33m)\u001b[0m\u001b[1;33m\u001b[0m\u001b[1;33m\u001b[0m\u001b[0m\n\u001b[0m\u001b[0;32m     83\u001b[0m     \u001b[0mshape\u001b[0m \u001b[1;33m=\u001b[0m \u001b[0mpoly\u001b[0m\u001b[1;33m.\u001b[0m\u001b[0mshape\u001b[0m\u001b[1;33m+\u001b[0m\u001b[0mones\u001b[0m\u001b[1;33m.\u001b[0m\u001b[0mshape\u001b[0m\u001b[1;33m\u001b[0m\u001b[1;33m\u001b[0m\u001b[0m\n\u001b[0;32m     84\u001b[0m \u001b[1;33m\u001b[0m\u001b[0m\n",
      "\u001b[1;32m~\\Anaconda3\\envs\\gds\\lib\\site-packages\\numpoly\\construct\\polynomial.py\u001b[0m in \u001b[0;36mpolynomial\u001b[1;34m(poly_like, names, dtype, allocation)\u001b[0m\n\u001b[0;32m    116\u001b[0m             \u001b[0mnames\u001b[0m\u001b[1;33m=\u001b[0m\u001b[0mnames\u001b[0m\u001b[1;33m,\u001b[0m\u001b[1;33m\u001b[0m\u001b[1;33m\u001b[0m\u001b[0m\n\u001b[0;32m    117\u001b[0m             \u001b[0mdtype\u001b[0m\u001b[1;33m=\u001b[0m\u001b[0mdtype\u001b[0m\u001b[1;33m,\u001b[0m\u001b[1;33m\u001b[0m\u001b[1;33m\u001b[0m\u001b[0m\n\u001b[1;32m--> 118\u001b[1;33m             \u001b[0mallocation\u001b[0m\u001b[1;33m=\u001b[0m\u001b[0mallocation\u001b[0m\u001b[1;33m,\u001b[0m\u001b[1;33m\u001b[0m\u001b[1;33m\u001b[0m\u001b[0m\n\u001b[0m\u001b[0;32m    119\u001b[0m         )\n\u001b[0;32m    120\u001b[0m \u001b[1;33m\u001b[0m\u001b[0m\n",
      "\u001b[1;32m~\\Anaconda3\\envs\\gds\\lib\\site-packages\\numpoly\\baseclass.py\u001b[0m in \u001b[0;36mfrom_attributes\u001b[1;34m(exponents, coefficients, names, dtype, allocation, retain_coefficients, retain_names)\u001b[0m\n\u001b[0;32m    390\u001b[0m             \u001b[0mallocation\u001b[0m\u001b[1;33m=\u001b[0m\u001b[0mallocation\u001b[0m\u001b[1;33m,\u001b[0m\u001b[1;33m\u001b[0m\u001b[1;33m\u001b[0m\u001b[0m\n\u001b[0;32m    391\u001b[0m             \u001b[0mretain_coefficients\u001b[0m\u001b[1;33m=\u001b[0m\u001b[0mretain_coefficients\u001b[0m\u001b[1;33m,\u001b[0m\u001b[1;33m\u001b[0m\u001b[1;33m\u001b[0m\u001b[0m\n\u001b[1;32m--> 392\u001b[1;33m             \u001b[0mretain_names\u001b[0m\u001b[1;33m=\u001b[0m\u001b[0mretain_names\u001b[0m\u001b[1;33m,\u001b[0m\u001b[1;33m\u001b[0m\u001b[1;33m\u001b[0m\u001b[0m\n\u001b[0m\u001b[0;32m    393\u001b[0m         )\n\u001b[0;32m    394\u001b[0m \u001b[1;33m\u001b[0m\u001b[0m\n",
      "\u001b[1;32m~\\Anaconda3\\envs\\gds\\lib\\site-packages\\numpoly\\construct\\from_attributes.py\u001b[0m in \u001b[0;36mpolynomial_from_attributes\u001b[1;34m(exponents, coefficients, names, dtype, allocation, retain_coefficients, retain_names)\u001b[0m\n\u001b[0;32m     88\u001b[0m         \u001b[0mnames\u001b[0m\u001b[1;33m=\u001b[0m\u001b[0mnames\u001b[0m\u001b[1;33m,\u001b[0m\u001b[1;33m\u001b[0m\u001b[1;33m\u001b[0m\u001b[0m\n\u001b[0;32m     89\u001b[0m         \u001b[0mdtype\u001b[0m\u001b[1;33m=\u001b[0m\u001b[0mdtype\u001b[0m\u001b[1;33m,\u001b[0m\u001b[1;33m\u001b[0m\u001b[1;33m\u001b[0m\u001b[0m\n\u001b[1;32m---> 90\u001b[1;33m         \u001b[0mallocation\u001b[0m\u001b[1;33m=\u001b[0m\u001b[0mallocation\u001b[0m\u001b[1;33m,\u001b[0m\u001b[1;33m\u001b[0m\u001b[1;33m\u001b[0m\u001b[0m\n\u001b[0m\u001b[0;32m     91\u001b[0m     )\n\u001b[0;32m     92\u001b[0m     \u001b[1;32mfor\u001b[0m \u001b[0mkey\u001b[0m\u001b[1;33m,\u001b[0m \u001b[0mvalues\u001b[0m \u001b[1;32min\u001b[0m \u001b[0mzip\u001b[0m\u001b[1;33m(\u001b[0m\u001b[0mpoly\u001b[0m\u001b[1;33m.\u001b[0m\u001b[0mkeys\u001b[0m\u001b[1;33m,\u001b[0m \u001b[0mcoefficients\u001b[0m\u001b[1;33m)\u001b[0m\u001b[1;33m:\u001b[0m\u001b[1;33m\u001b[0m\u001b[1;33m\u001b[0m\u001b[0m\n",
      "\u001b[1;32m~\\Anaconda3\\envs\\gds\\lib\\site-packages\\numpoly\\baseclass.py\u001b[0m in \u001b[0;36m__new__\u001b[1;34m(cls, exponents, shape, names, dtype, allocation, **kwargs)\u001b[0m\n\u001b[0;32m    200\u001b[0m             \u001b[0mnames\u001b[0m \u001b[1;33m=\u001b[0m \u001b[0mnumpoly\u001b[0m\u001b[1;33m.\u001b[0m\u001b[0mget_options\u001b[0m\u001b[1;33m(\u001b[0m\u001b[1;33m)\u001b[0m\u001b[1;33m[\u001b[0m\u001b[1;34m\"default_varname\"\u001b[0m\u001b[1;33m]\u001b[0m\u001b[1;33m\u001b[0m\u001b[1;33m\u001b[0m\u001b[0m\n\u001b[0;32m    201\u001b[0m             obj.names = numpoly.symbols(\n\u001b[1;32m--> 202\u001b[1;33m                 f\"{names}:{exponents.shape[-1]}\").names\n\u001b[0m\u001b[0;32m    203\u001b[0m         \u001b[1;32melif\u001b[0m \u001b[0misinstance\u001b[0m\u001b[1;33m(\u001b[0m\u001b[0mnames\u001b[0m\u001b[1;33m,\u001b[0m \u001b[0mstr\u001b[0m\u001b[1;33m)\u001b[0m\u001b[1;33m:\u001b[0m\u001b[1;33m\u001b[0m\u001b[1;33m\u001b[0m\u001b[0m\n\u001b[0;32m    204\u001b[0m             \u001b[0mobj\u001b[0m\u001b[1;33m.\u001b[0m\u001b[0mnames\u001b[0m \u001b[1;33m=\u001b[0m \u001b[0mnumpoly\u001b[0m\u001b[1;33m.\u001b[0m\u001b[0msymbols\u001b[0m\u001b[1;33m(\u001b[0m\u001b[0mnames\u001b[0m\u001b[1;33m)\u001b[0m\u001b[1;33m.\u001b[0m\u001b[0mnames\u001b[0m\u001b[1;33m\u001b[0m\u001b[1;33m\u001b[0m\u001b[0m\n",
      "\u001b[1;32m~\\Anaconda3\\envs\\gds\\lib\\site-packages\\numpoly\\construct\\symbols.py\u001b[0m in \u001b[0;36msymbols\u001b[1;34m(names, asarray, dtype, allocation)\u001b[0m\n\u001b[0;32m     99\u001b[0m     )\n\u001b[0;32m    100\u001b[0m     \u001b[1;32mif\u001b[0m \u001b[0mout\u001b[0m\u001b[1;33m.\u001b[0m\u001b[0msize\u001b[0m \u001b[1;33m==\u001b[0m \u001b[1;36m1\u001b[0m \u001b[1;32mand\u001b[0m \u001b[1;32mnot\u001b[0m \u001b[0masarray\u001b[0m\u001b[1;33m:\u001b[0m\u001b[1;33m\u001b[0m\u001b[1;33m\u001b[0m\u001b[0m\n\u001b[1;32m--> 101\u001b[1;33m         \u001b[1;32mreturn\u001b[0m \u001b[0mnumpoly\u001b[0m\u001b[1;33m.\u001b[0m\u001b[0maspolynomial\u001b[0m\u001b[1;33m(\u001b[0m\u001b[0mout\u001b[0m\u001b[1;33m[\u001b[0m\u001b[1;36m0\u001b[0m\u001b[1;33m]\u001b[0m\u001b[1;33m)\u001b[0m\u001b[1;33m\u001b[0m\u001b[1;33m\u001b[0m\u001b[0m\n\u001b[0m\u001b[0;32m    102\u001b[0m     \u001b[1;32mreturn\u001b[0m \u001b[0mout\u001b[0m\u001b[1;33m\u001b[0m\u001b[1;33m\u001b[0m\u001b[0m\n",
      "\u001b[1;32m~\\Anaconda3\\envs\\gds\\lib\\site-packages\\numpoly\\baseclass.py\u001b[0m in \u001b[0;36m__getitem__\u001b[1;34m(self, index)\u001b[0m\n\u001b[0;32m    626\u001b[0m             \u001b[0mexponents\u001b[0m\u001b[1;33m=\u001b[0m\u001b[0mself\u001b[0m\u001b[1;33m.\u001b[0m\u001b[0mexponents\u001b[0m\u001b[1;33m,\u001b[0m\u001b[1;33m\u001b[0m\u001b[1;33m\u001b[0m\u001b[0m\n\u001b[0;32m    627\u001b[0m             \u001b[0mcoefficients\u001b[0m\u001b[1;33m=\u001b[0m\u001b[1;33m[\u001b[0m\u001b[0mcoeff\u001b[0m\u001b[1;33m[\u001b[0m\u001b[0mindex\u001b[0m\u001b[1;33m]\u001b[0m \u001b[1;32mfor\u001b[0m \u001b[0mcoeff\u001b[0m \u001b[1;32min\u001b[0m \u001b[0mself\u001b[0m\u001b[1;33m.\u001b[0m\u001b[0mcoefficients\u001b[0m\u001b[1;33m]\u001b[0m\u001b[1;33m,\u001b[0m\u001b[1;33m\u001b[0m\u001b[1;33m\u001b[0m\u001b[0m\n\u001b[1;32m--> 628\u001b[1;33m             \u001b[0mnames\u001b[0m\u001b[1;33m=\u001b[0m\u001b[0mself\u001b[0m\u001b[1;33m.\u001b[0m\u001b[0mnames\u001b[0m\u001b[1;33m,\u001b[0m\u001b[1;33m\u001b[0m\u001b[1;33m\u001b[0m\u001b[0m\n\u001b[0m\u001b[0;32m    629\u001b[0m         )\n\u001b[0;32m    630\u001b[0m \u001b[1;33m\u001b[0m\u001b[0m\n",
      "\u001b[1;32m~\\Anaconda3\\envs\\gds\\lib\\site-packages\\numpoly\\construct\\from_attributes.py\u001b[0m in \u001b[0;36mpolynomial_from_attributes\u001b[1;34m(exponents, coefficients, names, dtype, allocation, retain_coefficients, retain_names)\u001b[0m\n\u001b[0;32m     88\u001b[0m         \u001b[0mnames\u001b[0m\u001b[1;33m=\u001b[0m\u001b[0mnames\u001b[0m\u001b[1;33m,\u001b[0m\u001b[1;33m\u001b[0m\u001b[1;33m\u001b[0m\u001b[0m\n\u001b[0;32m     89\u001b[0m         \u001b[0mdtype\u001b[0m\u001b[1;33m=\u001b[0m\u001b[0mdtype\u001b[0m\u001b[1;33m,\u001b[0m\u001b[1;33m\u001b[0m\u001b[1;33m\u001b[0m\u001b[0m\n\u001b[1;32m---> 90\u001b[1;33m         \u001b[0mallocation\u001b[0m\u001b[1;33m=\u001b[0m\u001b[0mallocation\u001b[0m\u001b[1;33m,\u001b[0m\u001b[1;33m\u001b[0m\u001b[1;33m\u001b[0m\u001b[0m\n\u001b[0m\u001b[0;32m     91\u001b[0m     )\n\u001b[0;32m     92\u001b[0m     \u001b[1;32mfor\u001b[0m \u001b[0mkey\u001b[0m\u001b[1;33m,\u001b[0m \u001b[0mvalues\u001b[0m \u001b[1;32min\u001b[0m \u001b[0mzip\u001b[0m\u001b[1;33m(\u001b[0m\u001b[0mpoly\u001b[0m\u001b[1;33m.\u001b[0m\u001b[0mkeys\u001b[0m\u001b[1;33m,\u001b[0m \u001b[0mcoefficients\u001b[0m\u001b[1;33m)\u001b[0m\u001b[1;33m:\u001b[0m\u001b[1;33m\u001b[0m\u001b[1;33m\u001b[0m\u001b[0m\n",
      "\u001b[1;32m~\\Anaconda3\\envs\\gds\\lib\\site-packages\\numpoly\\baseclass.py\u001b[0m in \u001b[0;36m__new__\u001b[1;34m(cls, exponents, shape, names, dtype, allocation, **kwargs)\u001b[0m\n\u001b[0;32m    172\u001b[0m \u001b[1;33m\u001b[0m\u001b[0m\n\u001b[0;32m    173\u001b[0m         \"\"\"\n\u001b[1;32m--> 174\u001b[1;33m         \u001b[0mexponents\u001b[0m \u001b[1;33m=\u001b[0m \u001b[0mnumpy\u001b[0m\u001b[1;33m.\u001b[0m\u001b[0marray\u001b[0m\u001b[1;33m(\u001b[0m\u001b[0mexponents\u001b[0m\u001b[1;33m,\u001b[0m \u001b[0mdtype\u001b[0m\u001b[1;33m=\u001b[0m\u001b[0mnumpy\u001b[0m\u001b[1;33m.\u001b[0m\u001b[0muint32\u001b[0m\u001b[1;33m)\u001b[0m\u001b[1;33m\u001b[0m\u001b[1;33m\u001b[0m\u001b[0m\n\u001b[0m\u001b[0;32m    175\u001b[0m         \u001b[1;32mif\u001b[0m \u001b[0mnumpy\u001b[0m\u001b[1;33m.\u001b[0m\u001b[0mprod\u001b[0m\u001b[1;33m(\u001b[0m\u001b[0mexponents\u001b[0m\u001b[1;33m.\u001b[0m\u001b[0mshape\u001b[0m\u001b[1;33m)\u001b[0m\u001b[1;33m:\u001b[0m\u001b[1;33m\u001b[0m\u001b[1;33m\u001b[0m\u001b[0m\n\u001b[0;32m    176\u001b[0m             \u001b[0mkeys\u001b[0m \u001b[1;33m=\u001b[0m \u001b[1;33m(\u001b[0m\u001b[0mexponents\u001b[0m\u001b[1;33m+\u001b[0m\u001b[0mcls\u001b[0m\u001b[1;33m.\u001b[0m\u001b[0mKEY_OFFSET\u001b[0m\u001b[1;33m)\u001b[0m\u001b[1;33m.\u001b[0m\u001b[0mflatten\u001b[0m\u001b[1;33m(\u001b[0m\u001b[1;33m)\u001b[0m\u001b[1;33m\u001b[0m\u001b[1;33m\u001b[0m\u001b[0m\n",
      "\u001b[1;31mKeyboardInterrupt\u001b[0m: "
     ]
    }
   ],
   "source": [
    "\n",
    "\n",
    "'''Preamble'''\n",
    "\n",
    "import numpy as np\n",
    "import chaospy as ch\n",
    "from scipy import integrate\n",
    "import pandas as pd\n",
    "import time\n",
    "import json\n",
    "import pandas as pd\n",
    "import datetime\n",
    "import numpoly\n",
    "from itertools import product\n",
    "from collections import OrderedDict\n",
    "import re\n",
    "import os\n",
    "\n",
    "\n",
    "def c(s):\n",
    "    os.chdir(s)\n",
    "    return os.getcwd()\n",
    "''''''\n",
    "\n",
    "\n",
    "\n",
    "\n",
    "x0 = 33                         # Initial conditions same as before\n",
    "y0 = 6.2\n",
    "X = [x0,y0]\n",
    "t = np.linspace(0., 30, 1000)\n",
    "\n",
    "#Model\n",
    "\n",
    "def lotka(X, t, alpha, beta, delta, gamma):\n",
    "    x, y = X\n",
    "    dotx = x * (alpha - beta * y)\n",
    "    doty = y * (-delta + gamma * x)\n",
    "    return np.array([dotx, doty])\n",
    "\n",
    "#Parameter space\n",
    "\n",
    "problem = {\n",
    "    'num_vars': 4,\n",
    "    'names': ['alpha','beta','delta','gamma'],\n",
    "    'bounds': [[0.44,0.68],\n",
    "               [0.02,0.044],\n",
    "               [0.71,1.15],\n",
    "               [0.0226,0.0354]]\n",
    "}\n",
    "##Parameters\n",
    "alpha = ch.Uniform(0.44, 0.68) #We choose uniform distributions to reflect our lack of knowledge about the relative likelihood functions\n",
    "beta = ch.Uniform(0.02, 0.044) #We take the same bounds as for the Sobol-Saltelli analysis\n",
    "delta = ch.Uniform(0.71, 1.15)\n",
    "gamma = ch.Uniform(0.0226, 0.0354)\n",
    "\n",
    "joint = ch.J(alpha,beta,delta,gamma) #The input paramter distributions are assumed to be independent so we may easily construct the joint input probability distribution.\n",
    "\n",
    "\n",
    "\n",
    "gt_prey = pd.read_csv('./data/indices_328000_GT.csv').ST\n",
    "gt_norm = np.linalg.norm(gt_prey)\n",
    "\n",
    "\n",
    "dick = {}\n",
    "\n",
    "vectors = np.identity(len(joint), dtype='int')\n",
    "\n",
    "growth=False\n",
    "recurrence_algorithm='stieltjes'\n",
    "rule='g'\n",
    "tolerance=1e-10\n",
    "scaling=3\n",
    "n_max=50000\n",
    "\n",
    "\n",
    "def _construct_lookup(\n",
    "        orders,\n",
    "        dists,\n",
    "        growth,\n",
    "        recurrence_algorithm,\n",
    "        rules,\n",
    "        tolerance,\n",
    "        scaling,\n",
    "        n_max,\n",
    "):\n",
    "    \"\"\"\n",
    "    Create abscissas and weights look-up table so values do not need to be\n",
    "    re-calculatated on the fly.\n",
    "    \"\"\"\n",
    "    x_lookup = []\n",
    "    w_lookup = []\n",
    "\n",
    "    for order, dist in zip(max_order_vector, dists):\n",
    "        x_lookup.append([])\n",
    "        w_lookup.append([])\n",
    "        for orderr in range(max_order + 1):\n",
    "            (abscissas,), weights = ch.generate_quadrature(\n",
    "                order=orderr,\n",
    "                dist=dist,\n",
    "                growth=growth,\n",
    "                recurrence_algorithm=recurrence_algorithm,\n",
    "                rule=rule,\n",
    "                tolerance=tolerance,\n",
    "                scaling=scaling,\n",
    "                n_max=n_max,\n",
    "            )\n",
    "            x_lookup[-1].append(abscissas)\n",
    "            w_lookup[-1].append(weights)\n",
    "    return x_lookup, w_lookup\n",
    "\n",
    "\n",
    "def construct_wrapper(maxx):\n",
    "    global max_order_vector, max_order\n",
    "    global x_lookup, w_lookup\n",
    "\n",
    "    max_order = maxx\n",
    "    max_order_vector = max_order * np.ones(len(joint), dtype=int)\n",
    "    # print(max_order_vector)\n",
    "\n",
    "    x_lookup, w_lookup = _construct_lookup(\n",
    "        orders=max_order_vector,\n",
    "        dists=joint,\n",
    "        growth=growth,\n",
    "        recurrence_algorithm=recurrence_algorithm,\n",
    "        rules=rule,\n",
    "        tolerance=tolerance,\n",
    "        scaling=scaling,\n",
    "        n_max=5000)\n",
    "\n",
    "    return x_lookup, w_lookup\n",
    "\n",
    "x_lookup, w_lookup = construct_wrapper(10)\n",
    "\n",
    "\n",
    "def generate_candidates(index_set, P):\n",
    "    global candidates, pre_candidates, back_neighbours\n",
    "\n",
    "    pre_candidates = []\n",
    "    candidates = []\n",
    "\n",
    "    for j in range(0, len(joint)):\n",
    "        pre_candidates.append(index_set + vectors[j])\n",
    "\n",
    "    for candidate in pre_candidates:\n",
    "        back_neighbours = []\n",
    "        for j in range(0, len(joint)):\n",
    "            back_neighbour = candidate - vectors[j]\n",
    "            if np.all((back_neighbour > 1)):\n",
    "                back_neighbours.append(tuple(back_neighbour))\n",
    "\n",
    "        if np.all([neighbour in old for neighbour in back_neighbours]):\n",
    "            candidates.append(tuple(candidate))\n",
    "\n",
    "    temp = []\n",
    "    for candidate in candidates:\n",
    "        # if candidate not in old:\n",
    "        if np.all(np.array(candidate) <= P) and np.linalg.norm(np.array(candidate),ord=1) <= (P+3):\n",
    "            temp.append(candidate)\n",
    "\n",
    "    candidates = temp\n",
    "\n",
    "    temp = []\n",
    "    maxx = sum(np.max(np.array(old), axis=0))\n",
    "\n",
    "    for candidate in candidates:\n",
    "\n",
    "        if sum(np.max(np.array(old + [candidate]), axis=0)) > maxx:\n",
    "            temp.append(candidate)\n",
    "\n",
    "    candidates = temp\n",
    "\n",
    "    return candidates\n",
    "\n",
    "def sobol_error(vec):\n",
    "    return np.linalg.norm(gt_prey - vec) / gt_norm\n",
    "\n",
    "\n",
    "def solver(old_set,target):\n",
    "\n",
    "    global poly\n",
    "\n",
    "    solver_time = time.perf_counter()\n",
    "\n",
    "    nodes_list = []\n",
    "    weights_list = []\n",
    "    evals_list = []\n",
    "\n",
    "    for index in old_set:\n",
    "        nodes, weights = build_nodes_weights(index)\n",
    "        weights = [weight * combinator(index) for weight in weights]\n",
    "\n",
    "        nodes_list += nodes\n",
    "        weights_list += weights\n",
    "\n",
    "    for node in nodes_list:\n",
    "\n",
    "        if node in dick.keys():\n",
    "            evals_list.append(dick[node])\n",
    "\n",
    "        else:\n",
    "            a, b, d, g = node\n",
    "            solution = integrate.odeint(lotka, X, t, args=(a, b, d, g)).T[target][910]\n",
    "            evals_list.append(solution)\n",
    "            dick[node] = solution\n",
    "\n",
    "    nodes_list = np.array(nodes_list).T\n",
    "\n",
    "    polly, uhat = ch.fit_quadrature(expansion, nodes_list, weights_list, evals_list, retall = 1)\n",
    "    poly.append(polly)\n",
    "    print('Solver_time >>>', time.perf_counter() - solver_time)\n",
    "    print('Weight sum >>>', sum(weights_list))\n",
    "#     print(len(uhat))\n",
    "    return len(weights_list), uhat\n",
    "\n",
    "\n",
    "def assign_errors(active_set):\n",
    "    global active_errors, active, candidates, current_errors, new\n",
    "    active_errors = []\n",
    "    \n",
    "    maxx = sum(np.max(np.array(old), axis=0))\n",
    "\n",
    "#    for multi_index in active_set:\n",
    " #       if (step > 0) and sum(np.max(np.array(old + [multi_index]), axis=0)) <= maxx:\n",
    "  #          active_set.remove(multi_index)\n",
    "        \n",
    "\n",
    "    for multi_index in active_set:\n",
    "        nodes, _ = build_nodes_weights(multi_index)\n",
    "        current_errors = []\n",
    "\n",
    "        for node in nodes:\n",
    "            a, b, d, g = node\n",
    "            if np.isnan(poly[-1](a, b, d, g)):\n",
    "                poly_eval = 0\n",
    "            else:\n",
    "                poly_eval = poly[-1](a, b, d, g)\n",
    "\n",
    "            if node in dick.keys():\n",
    "                a, b, d, g = node\n",
    "                current_errors.append(abs(dick[node] - poly_eval))\n",
    "\n",
    "            else:\n",
    "                solution = integrate.odeint(lotka, (33, 6.2), t, args=(a, b, d, g)).T[0][910]\n",
    "                current_errors.append(abs(solution - poly_eval))\n",
    "\n",
    "        active_errors.append(np.mean(current_errors))\n",
    "\n",
    "    active = sorted(list(zip(active_set, active_errors)), key=lambda x: x[1])\n",
    "\n",
    "    return active\n",
    "    # active = [i for i in OrderedDict((tuple(x[0]), x) for x in active).values()]if np.isnan(poly[-1](1,2,3,4)):\n",
    "\n",
    "def algorithm(P,species):\n",
    "    \n",
    "    global dick, old, candidates, poly, active, global_errors, no_nodes,step,expansion,uhat,exponents\n",
    "    \n",
    "    '''Initialise'''\n",
    "    \n",
    "    if species == 'prey':\n",
    "        target = 0\n",
    "        \n",
    "    elif species == 'predator':\n",
    "        target = 1\n",
    "    \n",
    "    seed = (2,2,1,2)\n",
    "    expansion = ch.generate_expansion(P, joint, normed = True)\n",
    "    exponents = ch.lead_exponent(expansion, graded=True)\n",
    "    vectors = np.identity(len(joint), dtype='int')\n",
    "    date_today = datetime.date.today()\n",
    "    start_time = time.perf_counter()\n",
    "    \n",
    "    step = 0\n",
    "    \n",
    "    old = [(1,1,1,1)]\n",
    "    active = []\n",
    "    poly = []\n",
    "    \n",
    "    local_errors = []\n",
    "    global_errors = []\n",
    "    \n",
    "    names = ['alpha','beta','delta','gamma']\n",
    "    \n",
    "    df = pd.DataFrame(columns=['chosen_index','local_error','global_error','no_nodes','run_time'])\n",
    "    df_indices = pd.DataFrame(columns=['alpha','beta','delta','gamma'])\n",
    "    df_indices_s1 = pd.DataFrame(columns=['alpha','beta','delta','gamma'])\n",
    "\n",
    "    \n",
    "    '''Execute zeroth step'''\n",
    "    \n",
    "    trivial = [seed]\n",
    "    number_nodes,uhat = solver(old,target)\n",
    "    assign_errors(old)\n",
    "    \n",
    "    \n",
    "    st = sense_t(uhat,exponents)\n",
    "    s1 = sense_main(uhat,exponents)\n",
    "    \n",
    "    global_errors.append(sobol_error(st))\n",
    "    \n",
    "    print('Global error >>>', global_errors[-1])\n",
    "    print('Step time >>>', time.perf_counter() - start_time, 'seconds')\n",
    "    print('-'*10,'break','-'*10)\n",
    "\n",
    "\n",
    "    '''Main loop'''\n",
    "    \n",
    "    while (global_errors[-1] > 0.1 or np.isnan(global_errors[-1])) and len(active)>0:\n",
    "        \n",
    "        start_time = time.perf_counter()\n",
    "        \n",
    "#         print('Active >>>',active)\n",
    "        chosen_index = active[-1][0]\n",
    "        local_errors.append(active[-1][1])\n",
    "        active.pop()\n",
    "    \n",
    "        old.append(chosen_index)\n",
    "        \n",
    "        print('Chosen index >>>', chosen_index)\n",
    "        \n",
    "        number_nodes,uhat = solver(old,target)\n",
    "        \n",
    "        candidates = generate_candidates(chosen_index,P)\n",
    "        stripped_active = [i[0] for i in active] + [j for j in candidates]\n",
    "        active = assign_errors(stripped_active)\n",
    "        \n",
    "        sobol_time = time.perf_counter() \n",
    "\n",
    "        st = sense_t(uhat,exponents)\n",
    "        s1 = sense_main(uhat,exponents)\n",
    "        \n",
    "        print('Sobol time >>>', time.perf_counter() - sobol_time)\n",
    "        \n",
    "        global_errors.append(sobol_error(st))\n",
    "\n",
    "        print('Global error >>>', global_errors[-1])\n",
    "        \n",
    "        '''Save data'''\n",
    "        run_time = time.perf_counter() - start_time\n",
    "        \n",
    "        numpoly.savez(f'./data/lotka2/{species}/poly_{P}+{date_today}.npz',*poly)\n",
    "        \n",
    "        df_indices = df_indices.append({'alpha': st[0], 'beta': st[1], 'delta': st[2], 'gamma': st[3]          }, ignore_index=True)\n",
    "        df_indices_s1 = df_indices_s1.append({'alpha': s1[0], 'beta': s1[1], 'delta': s1[2], 'gamma': s1[3]          }, ignore_index=True)\n",
    "        df = df.append({'chosen_index': chosen_index,'local_error':local_errors[-1],                               'global_error':global_errors[-1],'no_nodes':number_nodes, 'run_time':run_time}, ignore_index=True)\n",
    "        \n",
    "        df.to_csv(f'./data/lotka2/{species}/run_file_{P}+{date_today}.csv')\n",
    "        df_indices.to_csv(f'./data/lotka2/{species}/total_order_indices_{P}+{date_today}.csv')\n",
    "        df_indices_s1.to_csv(f'./data/lotka2/{species}/first_order_indices_{P}+{date_today}.csv')\n",
    "\n",
    "        print('Step time >>>', time.perf_counter() - start_time, 'seconds')\n",
    "        print('-'*10,'break','-'*10)\n",
    "        \n",
    "        step += 1\n",
    "        \n",
    "    print('Congratulations, the algorithm has converged!')\n",
    "    print('Here are the results...')\n",
    "    print('-'*20)\n",
    "    print(f'ST_alpha:{st[0].round(10)}, ST_beta:{st[1].round(10)}, ST_delta:{st[2].round(10)}, ST_gamma:{st[3].round(10)}')\n",
    "    print(f'GT_alpha:{gt_prey[0].round(10)}, GT_beta:{gt_prey[1].round(10)}, GT_delta:{gt_prey[2].round(10)}, GT_gamma:{gt_prey[3].round(10)}')\n",
    "    print(f'The final grid contains {number_nodes} nodes.')\n",
    "    print(f'The total run time was {df.run_time.sum()}seconds, not bad!')\n",
    "          \n",
    "\n",
    "def combinator(current_index):\n",
    "    coeff = 1\n",
    "    \n",
    "    for vector in vectors:\n",
    "        \n",
    "        if tuple(np.array(current_index, dtype='int') + vector) in old:\n",
    "            \n",
    "            coeff += -1\n",
    "            \n",
    "    return coeff \n",
    "\n",
    "def build_nodes_weights(current_index):\n",
    "    \n",
    "    nodestack = []\n",
    "    weightstack = []\n",
    "    \n",
    "    '''Nodes'''\n",
    "    \n",
    "    for index,element in enumerate(current_index):\n",
    "        nodestack.append([])\n",
    "        nodestack[index] = list(x_lookup[index][element])\n",
    "        \n",
    "    nodes = nodestack[0]\n",
    "    \n",
    "    for i in range(1,len(nodestack)):\n",
    "        nodes = product(nodes,nodestack[i])\n",
    "        \n",
    "    nodes = [(a,b,c,d) for (((a,b),c),d) in nodes]\n",
    "    \n",
    "    '''Weights'''\n",
    "    \n",
    "    for index,element in enumerate(current_index):\n",
    "        weightstack.append([])\n",
    "        weightstack[index] = list(w_lookup[index][element])\n",
    "        \n",
    "    weights = weightstack[0]\n",
    "    \n",
    "    for i in range(1,len(weightstack)):\n",
    "        weights = product(weights,weightstack[i])\n",
    "        \n",
    "    weights = [(a*b*c*d) for (((a,b),c),d) in weights]\n",
    "    \n",
    "    \n",
    "    return nodes,weights\n",
    "\n",
    "def sense_main(uhat,exponents):\n",
    "\n",
    "    dim = len(joint)\n",
    "    s1 = np.zeros(dim)\n",
    "    \n",
    "    variance = np.sum(np.array(uhat[1:])**2)\n",
    "    \n",
    "    for variable,name in enumerate(expansion.names):\n",
    "        mask = np.ones(dim)\n",
    "        mask[variable] = False\n",
    "        \n",
    "        for idx,exponent in enumerate(exponents):\n",
    "            if exponent[variable] > 0 and np.all(exponent*mask == 0):\n",
    "                s1[variable] += uhat[idx]**2\n",
    "                \n",
    "    s1 = s1 / variance\n",
    "    \n",
    "    return s1\n",
    "\n",
    "def sense_t(uhat,exponents):\n",
    "    \n",
    "    dim = len(joint)\n",
    "    st = np.zeros(dim)\n",
    "    \n",
    "    variance = np.sum(np.array(uhat[1:])**2)\n",
    "    \n",
    "    for variable,name in enumerate(expansion.names):\n",
    "\n",
    "        mask = np.ones(dim)\n",
    "        mask[variable] = False\n",
    "        \n",
    "        for idx,exponent in enumerate(exponents):\n",
    "            if exponent[variable] > 0 and np.all(exponent*mask == 0):\n",
    "                st[variable] += uhat[idx]**2\n",
    "                \n",
    "            if exponent[variable] > 0 and np.any(exponent*mask != 0):\n",
    "                st[variable] += uhat[idx]**2\n",
    "                \n",
    "    st = st / variance\n",
    "    \n",
    "    return st\n",
    "    \n",
    "algorithm(5,'prey')    \n",
    "\n",
    "\n",
    "\n",
    "\n",
    "\n",
    "\n",
    "\n",
    "\n",
    "\n",
    "\n"
   ]
  },
  {
   "cell_type": "code",
   "execution_count": 6,
   "metadata": {},
   "outputs": [
    {
     "data": {
      "text/plain": [
       "array([-2.51215802e+14, -3.76676812e+14, -9.26068813e+14,  1.13174200e+15,\n",
       "        3.86247601e+14, -2.05757452e-03, -1.47726533e+15, -7.83541550e-01,\n",
       "       -3.77421085e+14,  3.63938392e+14,  1.68303844e+14,  4.12578132e+13,\n",
       "       -4.90728202e-01, -5.75527995e-01,  7.46555536e+14, -4.55439441e+00,\n",
       "        6.56584169e+14, -1.05723458e+00, -4.62504478e+00, -1.05333381e+13,\n",
       "       -4.27454198e-01,  2.32880795e+13,  4.66415906e-01,  2.07769947e+01,\n",
       "       -8.02670210e-01, -8.72289189e-01, -2.79032019e+00,  4.90655428e+13,\n",
       "        3.67537295e-01, -1.61017016e+01, -1.54840496e+00, -8.46631920e-03,\n",
       "        4.37570452e+00,  8.25551125e-02, -2.15461753e+02])"
      ]
     },
     "execution_count": 6,
     "metadata": {},
     "output_type": "execute_result"
    }
   ],
   "source": [
    "uhat"
   ]
  },
  {
   "cell_type": "code",
   "execution_count": 7,
   "metadata": {},
   "outputs": [],
   "source": [
    "a = ch.Sens_t(poly[-1],joint)"
   ]
  },
  {
   "cell_type": "code",
   "execution_count": 12,
   "metadata": {},
   "outputs": [
    {
     "data": {
      "text/plain": [
       "array([0.49085541, 0.34157522, 0.63178854, 0.19805851])"
      ]
     },
     "execution_count": 12,
     "metadata": {},
     "output_type": "execute_result"
    }
   ],
   "source": [
    "a"
   ]
  },
  {
   "cell_type": "code",
   "execution_count": 13,
   "metadata": {},
   "outputs": [
    {
     "data": {
      "text/plain": [
       "array([0.49085541, 0.34157522, 0.63178854, 0.19805851])"
      ]
     },
     "execution_count": 13,
     "metadata": {},
     "output_type": "execute_result"
    }
   ],
   "source": [
    "b"
   ]
  },
  {
   "cell_type": "code",
   "execution_count": 14,
   "metadata": {},
   "outputs": [
    {
     "data": {
      "text/plain": [
       "0    0.432888\n",
       "1    0.111063\n",
       "2    0.778830\n",
       "3    0.095090\n",
       "Name: ST, dtype: float64"
      ]
     },
     "execution_count": 14,
     "metadata": {},
     "output_type": "execute_result"
    }
   ],
   "source": [
    "gt_prey"
   ]
  },
  {
   "cell_type": "code",
   "execution_count": 11,
   "metadata": {},
   "outputs": [],
   "source": [
    "b = sense_t(uhat,exponents)"
   ]
  }
 ],
 "metadata": {
  "kernelspec": {
   "display_name": "Python 3",
   "language": "python",
   "name": "python3"
  },
  "language_info": {
   "codemirror_mode": {
    "name": "ipython",
    "version": 3
   },
   "file_extension": ".py",
   "mimetype": "text/x-python",
   "name": "python",
   "nbconvert_exporter": "python",
   "pygments_lexer": "ipython3",
   "version": "3.7.8"
  }
 },
 "nbformat": 4,
 "nbformat_minor": 4
}
