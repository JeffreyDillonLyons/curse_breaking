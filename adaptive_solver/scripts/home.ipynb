{
 "cells": [
  {
   "cell_type": "code",
   "execution_count": 56,
   "metadata": {},
   "outputs": [],
   "source": [
    "import numpy as np\n",
    "import chaospy as ch\n",
    "from scipy import integrate\n",
    "import pandas as pd\n",
    "import time\n",
    "import json\n",
    "import pandas as pd\n",
    "import datetime\n",
    "import numpoly\n",
    "from itertools import product\n",
    "from collections import OrderedDict\n",
    "import re\n",
    "import os\n",
    "import matplotlib as mpl\n",
    "\n",
    "\n",
    "def c(s):\n",
    "    os.chdir(s)\n",
    "    return os.getcwd()"
   ]
  },
  {
   "cell_type": "code",
   "execution_count": 80,
   "metadata": {},
   "outputs": [
    {
     "name": "stdout",
     "output_type": "stream",
     "text": [
      "Global error >>> 0.07184754135012249\n",
      "Step time >>> 0.20208110000021406 seconds\n",
      "---------- break ----------\n",
      "Chosen index >>> (1, 1, 1, 1)\n",
      "33.05030935450138\n",
      "Global error >>> 0.07184754135012132\n",
      "Step time >>> 1.1114761999997427 seconds\n",
      "---------- break ----------\n",
      "Chosen index >>> (1, 1, 2, 1)\n",
      "31.654217135847794\n",
      "Global error >>> 0.44714296798041675\n",
      "Step time >>> 2.1027176000006875 seconds\n",
      "---------- break ----------\n",
      "Chosen index >>> (2, 1, 1, 1)\n",
      "33.43804091821161\n",
      "Global error >>> 0.7588702342791135\n",
      "Step time >>> 3.2969794000000547 seconds\n",
      "---------- break ----------\n",
      "Chosen index >>> (1, 1, 2, 2)\n",
      "32.790515381110566\n",
      "Global error >>> 0.040514015901051484\n",
      "Step time >>> 3.0987748999996256 seconds\n",
      "---------- break ----------\n",
      "Congratulations, the algorithm has converged!\n",
      "Here are the results...\n",
      "--------------------\n",
      "ST_alpha:0.4151472108, ST_beta:0.1289254319, ST_delta:0.7593729808, ST_gamma:0.1131430046\n",
      "GT_alpha:0.4328878939, GT_beta:0.1110628399, GT_delta:0.7788299388, GT_gamma:0.0950897987\n",
      "The final grid contains 116 nodes.\n",
      "The total run time was 9.537612599999193seconds, not bad!\n",
      "---------- MERGED ----------\n",
      "ST_alpha:0.4111975543, ST_beta:0.1165122109, ST_delta:0.7598302907, ST_gamma:0.1065304317\n",
      "GT_alpha:0.4328878939, GT_beta:0.1110628399, GT_delta:0.7788299388, GT_gamma:0.0950897987\n",
      "Global error >>> 0.034881418590131885\n",
      "[(1, 1, 1, 1), (1, 1, 1, 1), (1, 1, 2, 1), (2, 1, 1, 1), (1, 1, 2, 2)]\n"
     ]
    }
   ],
   "source": [
    "\n",
    "\n",
    "'''Preamble'''\n",
    "\n",
    "import numpy as np\n",
    "import chaospy as ch\n",
    "from scipy import integrate\n",
    "import pandas as pd\n",
    "import time\n",
    "import json\n",
    "import pandas as pd\n",
    "import datetime\n",
    "import numpoly\n",
    "from itertools import product\n",
    "from collections import OrderedDict\n",
    "import re\n",
    "import os\n",
    "import matplotlib.pyplot as plt\n",
    "\n",
    "\n",
    "def c(s):\n",
    "    os.chdir(s)\n",
    "    return os.getcwd()\n",
    "''''''\n",
    "\n",
    "'''\n",
    " Notes\n",
    "-------------------------\n",
    "TODO > Remove indices in active that are in old before assigning errors > affects first step since 1111 already in old. \n",
    "\n",
    "\n",
    "'''\n",
    "\n",
    "\n",
    "x0 = 33                         # Initial conditions same as before\n",
    "y0 = 6.2\n",
    "X = [x0,y0]\n",
    "t = np.linspace(0., 30, 1000)\n",
    "\n",
    "#Model\n",
    "\n",
    "def lotka(X, t, alpha, beta, delta, gamma):\n",
    "    x, y = X\n",
    "    dotx = x * (alpha - beta * y)\n",
    "    doty = y * (-delta + gamma * x)\n",
    "    return np.array([dotx, doty])\n",
    "\n",
    "#Parameter space\n",
    "\n",
    "problem = {\n",
    "    'num_vars': 4,\n",
    "    'names': ['alpha','beta','delta','gamma'],\n",
    "    'bounds': [[0.44,0.68],\n",
    "               [0.02,0.044],\n",
    "               [0.71,1.15],\n",
    "               [0.0226,0.0354]]\n",
    "}\n",
    "##Parameters\n",
    "alpha = ch.Uniform(0.44, 0.68) #We choose uniform distributions to reflect our lack of knowledge about the relative likelihood functions\n",
    "beta = ch.Uniform(0.02, 0.044) #We take the same bounds as for the Sobol-Saltelli analysis\n",
    "delta = ch.Uniform(0.71, 1.15)\n",
    "gamma = ch.Uniform(0.0226, 0.0354)\n",
    "\n",
    "joint = ch.J(alpha,beta,delta,gamma) #The input paramter distributions are assumed to be independent so we may easily construct the joint input probability distribution.\n",
    "\n",
    "\n",
    "\n",
    "gt_prey = pd.read_csv('../data/indices_328000_GT.csv').ST\n",
    "gt_norm = np.linalg.norm(gt_prey)\n",
    "\n",
    "\n",
    "dick = {}\n",
    "\n",
    "vectors = np.identity(len(joint), dtype='int')\n",
    "\n",
    "growth=False\n",
    "recurrence_algorithm='stieltjes'\n",
    "rule='g'\n",
    "tolerance=1e-10\n",
    "scaling=3\n",
    "n_max=50000\n",
    "\n",
    "\n",
    "def _construct_lookup(\n",
    "        orders,\n",
    "        dists,\n",
    "        growth,\n",
    "        recurrence_algorithm,\n",
    "        rules,\n",
    "        tolerance,\n",
    "        scaling,\n",
    "        n_max,\n",
    "):\n",
    "    \"\"\"\n",
    "    Create abscissas and weights look-up table so values do not need to be\n",
    "    re-calculatated on the fly.\n",
    "    \"\"\"\n",
    "    x_lookup = []\n",
    "    w_lookup = []\n",
    "\n",
    "    for order, dist in zip(max_order_vector, dists):\n",
    "        x_lookup.append([])\n",
    "        w_lookup.append([])\n",
    "        for orderr in range(max_order + 1):\n",
    "            (abscissas,), weights = ch.generate_quadrature(\n",
    "                order=orderr,\n",
    "                dist=dist,\n",
    "                growth=growth,\n",
    "                recurrence_algorithm=recurrence_algorithm,\n",
    "                rule=rule,\n",
    "                tolerance=tolerance,\n",
    "                scaling=scaling,\n",
    "                n_max=n_max,\n",
    "            )\n",
    "            x_lookup[-1].append(abscissas)\n",
    "            w_lookup[-1].append(weights)\n",
    "    return x_lookup, w_lookup\n",
    "\n",
    "\n",
    "def construct_wrapper(maxx):\n",
    "    global max_order_vector, max_order\n",
    "    global x_lookup, w_lookup\n",
    "\n",
    "    max_order = maxx\n",
    "    max_order_vector = max_order * np.ones(len(joint), dtype=int)\n",
    "    # print(max_order_vector)\n",
    "\n",
    "    x_lookup, w_lookup = _construct_lookup(\n",
    "        orders=max_order_vector,\n",
    "        dists=joint,\n",
    "        growth=growth,\n",
    "        recurrence_algorithm=recurrence_algorithm,\n",
    "        rules=rule,\n",
    "        tolerance=tolerance,\n",
    "        scaling=scaling,\n",
    "        n_max=5000)\n",
    "\n",
    "    return x_lookup, w_lookup\n",
    "\n",
    "x_lookup, w_lookup = construct_wrapper(10)\n",
    "\n",
    "\n",
    "def generate_candidates(index_set, P):\n",
    "    global candidates, pre_candidates, back_neighbours\n",
    "\n",
    "    pre_candidates = []\n",
    "    candidates = []\n",
    "\n",
    "    for j in range(0, len(joint)):\n",
    "        pre_candidates.append(index_set + vectors[j])\n",
    "\n",
    "    for candidate in pre_candidates:\n",
    "        back_neighbours = []\n",
    "        for j in range(0, len(joint)):\n",
    "            back_neighbour = candidate - vectors[j]\n",
    "            if np.all((back_neighbour > 1)):\n",
    "                back_neighbours.append(tuple(back_neighbour))\n",
    "\n",
    "        if np.all([neighbour in old for neighbour in back_neighbours]):\n",
    "            candidates.append(tuple(candidate))\n",
    "\n",
    "    temp = []\n",
    "    for candidate in candidates:\n",
    "        # if candidate not in old:\n",
    "        if (np.all(np.array(candidate) <= P) and np.linalg.norm(np.array(candidate),ord=1) <= (P+3)):\n",
    "            temp.append(candidate)\n",
    "\n",
    "    candidates = temp\n",
    "    \n",
    "    for candidate in candidates:\n",
    "        if candidate in old:\n",
    "            candidates.remove(candidate)\n",
    "\n",
    "#     temp = []\n",
    "#     maxx = sum(np.max(np.array(old), axis=0))\n",
    "\n",
    "#     for candidate in candidates:\n",
    "\n",
    "#         if sum(np.max(np.array(old + [candidate]), axis=0)) > maxx:\n",
    "#             temp.append(candidate)\n",
    "\n",
    "#     candidates = temp\n",
    "    return candidates\n",
    "\n",
    "def sobol_error(vec):\n",
    "    return np.linalg.norm(gt_prey - vec) / gt_norm\n",
    "\n",
    "\n",
    "def solver(old_set,target):\n",
    "\n",
    "    global poly\n",
    "\n",
    "    solver_time = time.perf_counter()\n",
    "\n",
    "    nodes_list = []\n",
    "    weights_list = []\n",
    "    evals_list = []\n",
    "\n",
    "    for index in old_set:\n",
    "        nodes, weights = build_nodes_weights(index)\n",
    "        weights = [weight * combinator(index) for weight in weights]\n",
    "\n",
    "        nodes_list += nodes\n",
    "        weights_list += weights\n",
    "\n",
    "    for node in nodes_list:\n",
    "\n",
    "        if node in dick.keys():\n",
    "            evals_list.append(dick[node])\n",
    "\n",
    "        else:\n",
    "            a, b, d, g = node\n",
    "            solution = integrate.odeint(lotka, X, t, args=(a, b, d, g)).T[target][910]\n",
    "            evals_list.append(solution)\n",
    "            dick[node] = solution\n",
    "\n",
    "    nodes_list = np.array(nodes_list).T\n",
    "\n",
    "    polly, uhat = ch.fit_regression(expansion,nodes_list, evals_list, retall = 1)\n",
    "    poly.append(polly)\n",
    "    # print('Solver_time >>>', time.perf_counter() - solver_time)\n",
    "    return len(weights_list), uhat\n",
    "\n",
    "\n",
    "def assign_errors(active_set):\n",
    "    global active_errors, active, candidates, current_errors, new\n",
    "    active_errors = []\n",
    "    \n",
    "    if np.any(active_set in old):\n",
    "        print('oops')\n",
    "    \n",
    "#     maxx = sum(np.max(np.array(old), axis=0))\n",
    "\n",
    "#     for multi_index in active_set:\n",
    "#         if (step > 0) and sum(np.max(np.array(old + [multi_index]), axis=0)) <= maxx:\n",
    "#             active_set.remove(multi_index)\n",
    "   \n",
    "\n",
    "    for multi_index in active_set:\n",
    "        nodes, _ = build_nodes_weights(multi_index)\n",
    "        current_errors = []\n",
    "\n",
    "        for node in nodes:\n",
    "            a, b, d, g = node\n",
    "            if np.isnan(poly[-1](a, b, d, g)):\n",
    "                poly_eval = 0\n",
    "            else:\n",
    "                poly_eval = poly[-1](a, b, d, g)\n",
    "\n",
    "            if node in dick.keys():\n",
    "                a, b, d, g = node\n",
    "                current_errors.append(abs(dick[node] - poly_eval))\n",
    "\n",
    "            else:\n",
    "                solution = integrate.odeint(lotka, (33, 6.2), t, args=(a, b, d, g)).T[0][910]\n",
    "                current_errors.append(abs(solution - poly_eval))\n",
    "\n",
    "        active_errors.append(np.mean(current_errors))\n",
    "\n",
    "    active = sorted(list(zip(active_set, active_errors)), key=lambda x: x[1])\n",
    "    for i in active:\n",
    "        if step > 1:\n",
    "            if i[0] in old:\n",
    "                active.remove(i)\n",
    "       \n",
    "\n",
    "    # print(active)\n",
    "    return active\n",
    "    # active = [i for i in OrderedDict((tuple(x[0]), x) for x in active).values()]if np.isnan(poly[-1](1,2,3,4)):\n",
    "\n",
    "def algorithm(P,species,merge):\n",
    "    \n",
    "    global dick, old, candidates, poly, active, global_errors, no_nodes,step,expansion,means,uhats,local_errors\n",
    "    \n",
    "    '''Initialise'''\n",
    "    \n",
    "    if species == 'prey':\n",
    "        target = 0\n",
    "        \n",
    "    elif species == 'predator':\n",
    "        target = 1\n",
    "    \n",
    "    seed = (2,2,1,2)\n",
    "    expansion = ch.generate_expansion(P, joint, normed = True)\n",
    "    exponents = ch.lead_exponent(expansion, graded=True)\n",
    "    vectors = np.identity(len(joint), dtype='int')\n",
    "    date_today = datetime.date.today()\n",
    "    start_time = time.perf_counter()\n",
    "    \n",
    "    step = 0\n",
    "    \n",
    "    old = [(1,1,1,1)]\n",
    "    active = []\n",
    "    poly = []\n",
    "    uhats = []\n",
    "    \n",
    "    local_errors = []\n",
    "    global_errors = []\n",
    "    means = []\n",
    "    \n",
    "    names = ['alpha','beta','delta','gamma']\n",
    "    \n",
    "    df = pd.DataFrame(columns=['chosen_index','local_error','global_error','no_nodes','run_time'],dtype=object)\n",
    "    df_indices = pd.DataFrame(columns=['alpha','beta','delta','gamma'],dtype=object)\n",
    "    df_indices_s1 = pd.DataFrame(columns=['alpha','beta','delta','gamma'],dtype=object)\n",
    "\n",
    "    \n",
    "    '''Execute zeroth step'''\n",
    "    \n",
    "    trivial = [seed]\n",
    "    number_nodes,uhat = solver(old,target)\n",
    "    uhats.append(uhat)\n",
    "    assign_errors(old)\n",
    "    \n",
    "    \n",
    "    st = sense_t(uhat,exponents)\n",
    "    s1 = sense_main(uhat,exponents)\n",
    "    means.append(uhat[0])\n",
    "    # print(uhat[0])\n",
    "    \n",
    "    global_errors.append(sobol_error(st))\n",
    "    \n",
    "    print('Global error >>>', global_errors[-1])\n",
    "    print('Step time >>>', time.perf_counter() - start_time, 'seconds')\n",
    "    print('-'*10,'break','-'*10)\n",
    "\n",
    "\n",
    "    '''Main loop'''\n",
    "    \n",
    "    while (global_errors[-1] > 0.05 or np.isnan(global_errors[-1])) and len(active)>0:\n",
    "        \n",
    "        start_time = time.perf_counter()\n",
    "        \n",
    "#         print('Active >>>',active)\n",
    "        chosen_index = active[-1][0]\n",
    "        local_errors.append(active[-1][1])\n",
    "        active.pop()\n",
    "    \n",
    "        old.append(chosen_index)\n",
    "        \n",
    "        print('Chosen index >>>', chosen_index)\n",
    "        \n",
    "        number_nodes,uhat = solver(old,target)\n",
    "        uhats.append(uhat)\n",
    "        \n",
    "        candidates = generate_candidates(chosen_index,P)\n",
    "        stripped_active = [i[0] for i in active] + [j for j in candidates]\n",
    "        active = assign_errors(stripped_active)\n",
    "        \n",
    "        sobol_time = time.perf_counter() \n",
    "\n",
    "        st = sense_t(uhat,exponents)\n",
    "        s1 = sense_main(uhat,exponents)\n",
    "        means.append(uhat[0])\n",
    "        print(uhat[0])\n",
    "\n",
    "        \n",
    "        # print('Sobol time >>>', time.perf_counter() - sobol_time)\n",
    "        \n",
    "        global_errors.append(sobol_error(st))\n",
    "\n",
    "        print('Global error >>>', global_errors[-1])\n",
    "        \n",
    "        '''Save data'''\n",
    "        run_time = time.perf_counter() - start_time\n",
    "        \n",
    "        numpoly.savez(f'../data/lotka2/{species}/poly_{P}+{date_today}.npz',*poly)\n",
    "        np.savez(f'../data/lotka2/{species}/uhat_{P}+{date_today}.npz',*uhats)\n",
    "        \n",
    "        df_indices = df_indices.append({'alpha': st[0], 'beta': st[1], 'delta': st[2], 'gamma': st[3]          }, ignore_index=True)\n",
    "        df_indices_s1 = df_indices_s1.append({'alpha': s1[0], 'beta': s1[1], 'delta': s1[2], 'gamma': s1[3]          }, ignore_index=True)\n",
    "        df = df.append({'chosen_index': chosen_index,'local_error':local_errors[-1],                               'global_error':global_errors[-1],'no_nodes':number_nodes, 'run_time':run_time}, ignore_index=True)\n",
    "        \n",
    "        df.to_csv(f'../data/lotka2/{species}/run_file_{P}+{date_today}.csv')\n",
    "        df_indices.to_csv(f'../data/lotka2/{species}/total_order_indices_{P}+{date_today}.csv')\n",
    "        df_indices_s1.to_csv(f'../data/lotka2/{species}/first_order_indices_{P}+{date_today}.csv')\n",
    "\n",
    "        print('Step time >>>', time.perf_counter() - start_time, 'seconds')\n",
    "        print('-'*10,'break','-'*10)\n",
    "        \n",
    "        step += 1\n",
    "        \n",
    "    print('Congratulations, the algorithm has converged!')\n",
    "    print('Here are the results...')\n",
    "    print('-'*20)\n",
    "    print(f'ST_alpha:{st[0].round(10)}, ST_beta:{st[1].round(10)}, ST_delta:{st[2].round(10)}, ST_gamma:{st[3].round(10)}')\n",
    "    print(f'GT_alpha:{gt_prey[0].round(10)}, GT_beta:{gt_prey[1].round(10)}, GT_delta:{gt_prey[2].round(10)}, GT_gamma:{gt_prey[3].round(10)}')\n",
    "    print(f'The final grid contains {number_nodes} nodes.')\n",
    "    print(f'The total run time was {df.run_time.sum()}seconds, not bad!')\n",
    "    \n",
    "    if merge:\n",
    "    \n",
    "        merged_set = merge_sets(old,active)\n",
    "        \n",
    "        number_nodes,uhat = solver(merged_set, target)\n",
    "            \n",
    "        st = sense_t(uhat,exponents)\n",
    "        s1 = sense_main(uhat,exponents)\n",
    "        \n",
    "        print('-'*10,'MERGED','-'*10)\n",
    "        print(f'ST_alpha:{st[0].round(10)}, ST_beta:{st[1].round(10)}, ST_delta:{st[2].round(10)}, ST_gamma:{st[3].round(10)}')\n",
    "        print(f'GT_alpha:{gt_prey[0].round(10)}, GT_beta:{gt_prey[1].round(10)}, GT_delta:{gt_prey[2].round(10)}, GT_gamma:{gt_prey[3].round(10)}')\n",
    "        \n",
    "        global_errors.append(sobol_error(st))\n",
    "\n",
    "        print('Global error >>>', global_errors[-1])\n",
    "            \n",
    "        '''Save data'''\n",
    "        run_time = time.perf_counter() - start_time\n",
    "            \n",
    "        numpoly.savez(f'../data/lotka2/{species}/poly_{P}+{date_today}.npz',*poly)\n",
    "            \n",
    "        df_indices = df_indices.append({'alpha': st[0], 'beta': st[1], 'delta': st[2], 'gamma': st[3]          }, ignore_index=True)\n",
    "        df_indices_s1 = df_indices_s1.append({'alpha': s1[0], 'beta': s1[1], 'delta': s1[2], 'gamma': s1[3]          }, ignore_index=True)\n",
    "        df = df.append({'chosen_index': chosen_index,'local_error':local_errors[-1],                               'global_error':global_errors[-1],'no_nodes':number_nodes, 'run_time':run_time}, ignore_index=True)\n",
    "            \n",
    "        df.to_csv(f'../data/lotka2/{species}/run_file_{P}+{date_today}.csv')\n",
    "        df_indices.to_csv(f'../data/lotka2/{species}/total_order_indices_{P}+{date_today}.csv')\n",
    "        df_indices_s1.to_csv(f'../data/lotka2/{species}/first_order_indices_{P}+{date_today}.csv')\n",
    "        \n",
    "    print(old)\n",
    "    \n",
    "       \n",
    "def merge_sets(old_set,active):\n",
    "\n",
    "    stripped_active = [i[0] for i in active]\n",
    "    merged = old + stripped_active\n",
    "    \n",
    "    return merged\n",
    "    \n",
    "def plot_stat_convergence(means):\n",
    "       \n",
    "        K = len(means)\n",
    "        if K < 2:\n",
    "            print('Means from at least two refinements are required')\n",
    "            return\n",
    "        else:\n",
    "            differ_mean = np.zeros(K - 1)\n",
    "            differ_std = np.zeros(K - 1)\n",
    "            for i in range(1, K):\n",
    "                differ_mean[i - 1] = means[i] - means[i - 1]\n",
    "                                                    \n",
    "                # make relative\n",
    "                differ_mean[i - 1] = differ_mean[i - 1] / means[i - 1]\n",
    "                                                                         \n",
    "\n",
    "                # differ_std[i - 1] = np.linalg.norm(self.std_history[i] -\n",
    "                                                   # self.std_history[i - 1], np.inf)\n",
    "                # # make relative\n",
    "                # differ_std[i - 1] = differ_std[i - 1] / np.linalg.norm(self.std_history[i - 1],\n",
    "                                                                       # np.inf)\n",
    "\n",
    "        import matplotlib.pyplot as plt\n",
    "        fig = plt.figure('stat_conv')\n",
    "        ax1 = fig.add_subplot(111, title='moment convergence')\n",
    "        ax1.set_xlabel('iteration', fontsize=12)\n",
    "        # ax1.set_ylabel(r'$ ||\\mathrm{mean}_i - \\mathrm{mean}_{i - 1}||_\\infty$',\n",
    "        # color='r', fontsize=12)\n",
    "        ax1.set_ylabel(r'relative error mean', color='r', fontsize=12)\n",
    "        ax1.plot(range(2, K + 1), differ_mean, color='r', marker='+')\n",
    "        ax1.tick_params(axis='y', labelcolor='r')\n",
    "        plt.show()\n",
    "        \n",
    "        \n",
    "def combinator(current_index):\n",
    "    \n",
    "    coeff = 1\n",
    "    \n",
    "    for vector in vectors:\n",
    "        \n",
    "        if tuple(np.array(current_index, dtype='int') + vector) in old:\n",
    "            \n",
    "            coeff += -1\n",
    "            \n",
    "    return coeff \n",
    "\n",
    "def build_nodes_weights(current_index):\n",
    "    \n",
    "    nodestack = []\n",
    "    weightstack = []\n",
    "    \n",
    "    '''Nodes'''\n",
    "    \n",
    "    for index,element in enumerate(current_index):\n",
    "        nodestack.append([])\n",
    "        nodestack[index] = list(x_lookup[index][element])\n",
    "        \n",
    "    nodes = nodestack[0]\n",
    "    \n",
    "    for i in range(1,len(nodestack)):\n",
    "        nodes = product(nodes,nodestack[i])\n",
    "        \n",
    "    nodes = [(a,b,c,d) for (((a,b),c),d) in nodes]\n",
    "    \n",
    "    '''Weights'''\n",
    "    \n",
    "    for index,element in enumerate(current_index):\n",
    "        weightstack.append([])\n",
    "        weightstack[index] = list(w_lookup[index][element])\n",
    "        \n",
    "    weights = weightstack[0]\n",
    "    \n",
    "    for i in range(1,len(weightstack)):\n",
    "        weights = product(weights,weightstack[i])\n",
    "        \n",
    "    weights = [(a*b*c*d) for (((a,b),c),d) in weights]\n",
    "    \n",
    "    \n",
    "    return nodes,weights\n",
    "\n",
    "def sense_main(uhat,exponents):\n",
    "\n",
    "    dim = len(joint)\n",
    "    s1 = np.zeros(dim)\n",
    "    \n",
    "    variance = np.sum(np.array(uhat[1:])**2)\n",
    "    \n",
    "    for variable,name in enumerate(expansion.names):\n",
    "        mask = np.ones(dim)\n",
    "        mask[variable] = False\n",
    "        \n",
    "        for idx,exponent in enumerate(exponents):\n",
    "            if exponent[variable] > 0 and np.all(exponent*mask == 0):\n",
    "                s1[variable] += uhat[idx]**2\n",
    "                \n",
    "    s1 = s1 / variance\n",
    "    \n",
    "    return s1\n",
    "\n",
    "def sense_t(uhat,exponents):\n",
    "    \n",
    "    dim = len(joint)\n",
    "    st = np.zeros(dim)\n",
    "    \n",
    "    variance = np.sum(np.array(uhat[1:])**2)\n",
    "    \n",
    "    for variable,name in enumerate(expansion.names):\n",
    "\n",
    "        mask = np.ones(dim)\n",
    "        mask[variable] = False\n",
    "        \n",
    "        for idx,exponent in enumerate(exponents):\n",
    "            if exponent[variable] > 0 and np.all(exponent*mask == 0):\n",
    "                st[variable] += uhat[idx]**2\n",
    "                \n",
    "            if exponent[variable] > 0 and np.any(exponent*mask != 0):\n",
    "                st[variable] += uhat[idx]**2\n",
    "                \n",
    "    st = st / variance\n",
    "    \n",
    "    return st\n",
    "    \n",
    "    \n",
    "        \n",
    "algorithm(3,'prey', merge=True)\n",
    "\n",
    "\n",
    "\n",
    "\n",
    "\n",
    "\n",
    "\n",
    "\n",
    "\n",
    "\n"
   ]
  },
  {
   "cell_type": "code",
   "execution_count": 83,
   "metadata": {},
   "outputs": [
    {
     "data": {
      "text/plain": [
       "6205527206417.017"
      ]
     },
     "execution_count": 83,
     "metadata": {},
     "output_type": "execute_result"
    }
   ],
   "source": [
    "local_errors[-1]"
   ]
  },
  {
   "cell_type": "code",
   "execution_count": 79,
   "metadata": {},
   "outputs": [
    {
     "ename": "NameError",
     "evalue": "name 'local_errors' is not defined",
     "output_type": "error",
     "traceback": [
      "\u001b[1;31m---------------------------------------------------------------------------\u001b[0m",
      "\u001b[1;31mNameError\u001b[0m                                 Traceback (most recent call last)",
      "\u001b[1;32m<ipython-input-79-b5279ffb7788>\u001b[0m in \u001b[0;36m<module>\u001b[1;34m\u001b[0m\n\u001b[1;32m----> 1\u001b[1;33m \u001b[0mlocal_errors\u001b[0m\u001b[1;33m\u001b[0m\u001b[1;33m\u001b[0m\u001b[0m\n\u001b[0m",
      "\u001b[1;31mNameError\u001b[0m: name 'local_errors' is not defined"
     ]
    }
   ],
   "source": [
    "local_errors"
   ]
  },
  {
   "cell_type": "code",
   "execution_count": 76,
   "metadata": {},
   "outputs": [
    {
     "data": {
      "text/plain": [
       "[(1, 1, 1, 1),\n",
       " (1, 1, 2, 1),\n",
       " (1, 1, 2, 2),\n",
       " (1, 2, 2, 2),\n",
       " (2, 1, 1, 1),\n",
       " (2, 2, 1, 1),\n",
       " (2, 2, 2, 2),\n",
       " (1, 3, 2, 2),\n",
       " (2, 2, 1, 2),\n",
       " (3, 2, 1, 1),\n",
       " (2, 2, 3, 2),\n",
       " (1, 3, 2, 3)]"
      ]
     },
     "execution_count": 76,
     "metadata": {},
     "output_type": "execute_result"
    }
   ],
   "source": [
    "test = [i for i in {i:0 for i in old}.keys()]\n",
    "test"
   ]
  },
  {
   "cell_type": "code",
   "execution_count": 90,
   "metadata": {},
   "outputs": [
    {
     "data": {
      "text/html": [
       "<div>\n",
       "<style scoped>\n",
       "    .dataframe tbody tr th:only-of-type {\n",
       "        vertical-align: middle;\n",
       "    }\n",
       "\n",
       "    .dataframe tbody tr th {\n",
       "        vertical-align: top;\n",
       "    }\n",
       "\n",
       "    .dataframe thead th {\n",
       "        text-align: right;\n",
       "    }\n",
       "</style>\n",
       "<table border=\"1\" class=\"dataframe\">\n",
       "  <thead>\n",
       "    <tr style=\"text-align: right;\">\n",
       "      <th></th>\n",
       "      <th></th>\n",
       "      <th>Unnamed: 0</th>\n",
       "      <th>S1</th>\n",
       "      <th>S1_conf</th>\n",
       "      <th>ST</th>\n",
       "      <th>ST_conf</th>\n",
       "    </tr>\n",
       "    <tr>\n",
       "      <th>type</th>\n",
       "      <th>params</th>\n",
       "      <th></th>\n",
       "      <th></th>\n",
       "      <th></th>\n",
       "      <th></th>\n",
       "      <th></th>\n",
       "    </tr>\n",
       "  </thead>\n",
       "  <tbody>\n",
       "    <tr>\n",
       "      <th rowspan=\"4\" valign=\"top\">prey</th>\n",
       "      <th>alpha</th>\n",
       "      <td>0</td>\n",
       "      <td>0.159553</td>\n",
       "      <td>0.011018</td>\n",
       "      <td>0.432888</td>\n",
       "      <td>0.009446</td>\n",
       "    </tr>\n",
       "    <tr>\n",
       "      <th>beta</th>\n",
       "      <td>1</td>\n",
       "      <td>0.009623</td>\n",
       "      <td>0.005220</td>\n",
       "      <td>0.111063</td>\n",
       "      <td>0.003751</td>\n",
       "    </tr>\n",
       "    <tr>\n",
       "      <th>delta</th>\n",
       "      <td>2</td>\n",
       "      <td>0.493639</td>\n",
       "      <td>0.012931</td>\n",
       "      <td>0.778830</td>\n",
       "      <td>0.013850</td>\n",
       "    </tr>\n",
       "    <tr>\n",
       "      <th>gamma</th>\n",
       "      <td>3</td>\n",
       "      <td>0.023204</td>\n",
       "      <td>0.004882</td>\n",
       "      <td>0.095090</td>\n",
       "      <td>0.004554</td>\n",
       "    </tr>\n",
       "    <tr>\n",
       "      <th rowspan=\"4\" valign=\"top\">pred</th>\n",
       "      <th>alpha</th>\n",
       "      <td>0</td>\n",
       "      <td>0.092187</td>\n",
       "      <td>0.014678</td>\n",
       "      <td>0.707774</td>\n",
       "      <td>0.021287</td>\n",
       "    </tr>\n",
       "    <tr>\n",
       "      <th>beta</th>\n",
       "      <td>1</td>\n",
       "      <td>0.038260</td>\n",
       "      <td>0.007473</td>\n",
       "      <td>0.246944</td>\n",
       "      <td>0.009003</td>\n",
       "    </tr>\n",
       "    <tr>\n",
       "      <th>delta</th>\n",
       "      <td>2</td>\n",
       "      <td>0.136526</td>\n",
       "      <td>0.017024</td>\n",
       "      <td>0.815647</td>\n",
       "      <td>0.022319</td>\n",
       "    </tr>\n",
       "    <tr>\n",
       "      <th>gamma</th>\n",
       "      <td>3</td>\n",
       "      <td>0.002179</td>\n",
       "      <td>0.004539</td>\n",
       "      <td>0.085607</td>\n",
       "      <td>0.004358</td>\n",
       "    </tr>\n",
       "  </tbody>\n",
       "</table>\n",
       "</div>"
      ],
      "text/plain": [
       "             Unnamed: 0        S1   S1_conf        ST   ST_conf\n",
       "type params                                                    \n",
       "prey alpha            0  0.159553  0.011018  0.432888  0.009446\n",
       "     beta             1  0.009623  0.005220  0.111063  0.003751\n",
       "     delta            2  0.493639  0.012931  0.778830  0.013850\n",
       "     gamma            3  0.023204  0.004882  0.095090  0.004554\n",
       "pred alpha            0  0.092187  0.014678  0.707774  0.021287\n",
       "     beta             1  0.038260  0.007473  0.246944  0.009003\n",
       "     delta            2  0.136526  0.017024  0.815647  0.022319\n",
       "     gamma            3  0.002179  0.004539  0.085607  0.004358"
      ]
     },
     "execution_count": 90,
     "metadata": {},
     "output_type": "execute_result"
    }
   ],
   "source": [
    "test"
   ]
  },
  {
   "cell_type": "code",
   "execution_count": 89,
   "metadata": {},
   "outputs": [
    {
     "data": {
      "text/plain": [
       "params\n",
       "alpha    0.707774\n",
       "beta     0.246944\n",
       "delta    0.815647\n",
       "gamma    0.085607\n",
       "Name: ST, dtype: float64"
      ]
     },
     "execution_count": 89,
     "metadata": {},
     "output_type": "execute_result"
    }
   ],
   "source": [
    "gt_prey = pd.read_csv('../data/new_gt_indices_328000.csv',index_col=['type','params']).loc['pred','ST']\n",
    "gt_prey"
   ]
  },
  {
   "cell_type": "code",
   "execution_count": 69,
   "metadata": {},
   "outputs": [],
   "source": [
    "old = test"
   ]
  },
  {
   "cell_type": "code",
   "execution_count": 26,
   "metadata": {},
   "outputs": [
    {
     "data": {
      "text/plain": [
       "[array([1, 1, 1, 1]),\n",
       " array([1, 1, 2, 1]),\n",
       " array([2, 1, 1, 1]),\n",
       " array([1, 1, 2, 2])]"
      ]
     },
     "execution_count": 26,
     "metadata": {},
     "output_type": "execute_result"
    }
   ],
   "source": [
    "test = [np.array(i) for i in test]\n",
    "test"
   ]
  },
  {
   "cell_type": "code",
   "execution_count": 18,
   "metadata": {},
   "outputs": [
    {
     "data": {
      "text/plain": [
       "[array([1, 1, 1, 1]), array([1, 1, 2, 1])]"
      ]
     },
     "execution_count": 18,
     "metadata": {},
     "output_type": "execute_result"
    }
   ],
   "source": [
    "a = []\n",
    "a.append(test[0])\n",
    "a.append(test[1])\n",
    "a"
   ]
  },
  {
   "cell_type": "code",
   "execution_count": 28,
   "metadata": {},
   "outputs": [
    {
     "data": {
      "text/plain": [
       "array([[1, 1, 1, 1],\n",
       "       [1, 1, 2, 1]])"
      ]
     },
     "execution_count": 28,
     "metadata": {},
     "output_type": "execute_result"
    }
   ],
   "source": [
    "one = np.array([test[0] , test[1]])\n",
    "one"
   ]
  },
  {
   "cell_type": "code",
   "execution_count": 30,
   "metadata": {},
   "outputs": [
    {
     "data": {
      "text/plain": [
       "array([0, 0, 1, 0])"
      ]
     },
     "execution_count": 30,
     "metadata": {},
     "output_type": "execute_result"
    }
   ],
   "source": [
    "np.max(np.array(one),axis=0) - test[0]"
   ]
  },
  {
   "cell_type": "code",
   "execution_count": 34,
   "metadata": {},
   "outputs": [
    {
     "data": {
      "text/plain": [
       "array([[1, 1, 1, 1],\n",
       "       [1, 1, 2, 1]])"
      ]
     },
     "execution_count": 34,
     "metadata": {},
     "output_type": "execute_result"
    }
   ],
   "source": [
    "one"
   ]
  },
  {
   "cell_type": "code",
   "execution_count": 35,
   "metadata": {},
   "outputs": [
    {
     "data": {
      "text/plain": [
       "array([2, 1, 1, 1])"
      ]
     },
     "execution_count": 35,
     "metadata": {},
     "output_type": "execute_result"
    }
   ],
   "source": [
    "test[2]"
   ]
  },
  {
   "cell_type": "code",
   "execution_count": 33,
   "metadata": {},
   "outputs": [
    {
     "ename": "ValueError",
     "evalue": "all the input arrays must have same number of dimensions, but the array at index 0 has 2 dimension(s) and the array at index 1 has 1 dimension(s)",
     "output_type": "error",
     "traceback": [
      "\u001b[1;31m---------------------------------------------------------------------------\u001b[0m",
      "\u001b[1;31mValueError\u001b[0m                                Traceback (most recent call last)",
      "\u001b[1;32m<ipython-input-33-d2adbadbc17d>\u001b[0m in \u001b[0;36m<module>\u001b[1;34m\u001b[0m\n\u001b[1;32m----> 1\u001b[1;33m \u001b[0mnp\u001b[0m\u001b[1;33m.\u001b[0m\u001b[0mconcatenate\u001b[0m\u001b[1;33m(\u001b[0m\u001b[1;33m(\u001b[0m\u001b[0mone\u001b[0m\u001b[1;33m,\u001b[0m\u001b[0mtest\u001b[0m\u001b[1;33m[\u001b[0m\u001b[1;36m2\u001b[0m\u001b[1;33m]\u001b[0m\u001b[1;33m)\u001b[0m\u001b[1;33m,\u001b[0m\u001b[0maxis\u001b[0m\u001b[1;33m=\u001b[0m\u001b[1;36m0\u001b[0m\u001b[1;33m)\u001b[0m\u001b[1;33m\u001b[0m\u001b[1;33m\u001b[0m\u001b[0m\n\u001b[0m",
      "\u001b[1;32m<__array_function__ internals>\u001b[0m in \u001b[0;36mconcatenate\u001b[1;34m(*args, **kwargs)\u001b[0m\n",
      "\u001b[1;31mValueError\u001b[0m: all the input arrays must have same number of dimensions, but the array at index 0 has 2 dimension(s) and the array at index 1 has 1 dimension(s)"
     ]
    }
   ],
   "source": [
    "np.concatenate((one,test[2]),axis=0)"
   ]
  },
  {
   "cell_type": "code",
   "execution_count": 37,
   "metadata": {},
   "outputs": [
    {
     "data": {
      "text/plain": [
       "[array([1, 1, 1, 1]),\n",
       " array([1, 1, 2, 1]),\n",
       " array([2, 1, 1, 1]),\n",
       " array([1, 1, 2, 2])]"
      ]
     },
     "execution_count": 37,
     "metadata": {},
     "output_type": "execute_result"
    }
   ],
   "source": [
    "test"
   ]
  },
  {
   "cell_type": "code",
   "execution_count": 38,
   "metadata": {},
   "outputs": [
    {
     "data": {
      "text/plain": [
       "array([-1,  0,  1,  1])"
      ]
     },
     "execution_count": 38,
     "metadata": {},
     "output_type": "execute_result"
    }
   ],
   "source": [
    "test[3]-test[2]"
   ]
  },
  {
   "cell_type": "code",
   "execution_count": 44,
   "metadata": {},
   "outputs": [
    {
     "data": {
      "text/plain": [
       "(1, 1, 1, 1)"
      ]
     },
     "execution_count": 44,
     "metadata": {},
     "output_type": "execute_result"
    }
   ],
   "source": []
  },
  {
   "cell_type": "code",
   "execution_count": 47,
   "metadata": {},
   "outputs": [
    {
     "name": "stdout",
     "output_type": "stream",
     "text": [
      "(1, 1, 2, 1)\n",
      "(2, 1, 1, 1)\n",
      "(1, 1, 2, 2)\n"
     ]
    },
    {
     "data": {
      "text/plain": [
       "[array([ 0,  0,  0, -1]), array([1, 0, 0, 0]), array([0, 0, 0, 1])]"
      ]
     },
     "execution_count": 47,
     "metadata": {},
     "output_type": "execute_result"
    }
   ],
   "source": [
    "refinations = []\n",
    "for i,ex in enumerate(old[1:len(old)]):\n",
    "    print(ex)\n",
    "    refinations.append(np.array(ex) - np.array(old[i-1]))\n",
    "refinations"
   ]
  },
  {
   "cell_type": "code",
   "execution_count": 48,
   "metadata": {},
   "outputs": [
    {
     "data": {
      "text/plain": [
       "(1, 1, 1, 1)"
      ]
     },
     "execution_count": 48,
     "metadata": {},
     "output_type": "execute_result"
    }
   ],
   "source": [
    "old[0]"
   ]
  },
  {
   "cell_type": "code",
   "execution_count": 73,
   "metadata": {},
   "outputs": [],
   "source": [
    "refinations = []\n",
    "for i in range(1,len(old)):\n",
    "    refinations.append(np.array(old[i]) - np.array(old[i-1]))\n"
   ]
  },
  {
   "cell_type": "code",
   "execution_count": 53,
   "metadata": {},
   "outputs": [
    {
     "data": {
      "text/plain": [
       "array([0., 0., 1., 1.])"
      ]
     },
     "execution_count": 53,
     "metadata": {},
     "output_type": "execute_result"
    }
   ],
   "source": [
    "refined = np.ones(4)\n",
    "\n",
    "for i,ex in enumerate(refined):\n",
    "    if refinations[2][i] == 1:\n",
    "        refined[i] = True\n",
    "    else:\n",
    "        refined[i] = False\n",
    "refined"
   ]
  },
  {
   "cell_type": "code",
   "execution_count": 74,
   "metadata": {},
   "outputs": [
    {
     "data": {
      "text/plain": [
       "[array([0, 0, 1, 0]),\n",
       " array([ 0,  0, -1,  1]),\n",
       " array([ 1,  0,  1, -1]),\n",
       " array([0, 1, 0, 0]),\n",
       " array([-1,  0, -1,  1]),\n",
       " array([ 1, -1,  1,  0])]"
      ]
     },
     "execution_count": 74,
     "metadata": {},
     "output_type": "execute_result"
    }
   ],
   "source": [
    "refinations"
   ]
  },
  {
   "cell_type": "code",
   "execution_count": 78,
   "metadata": {},
   "outputs": [
    {
     "data": {
      "text/plain": [
       "[(1, 1, 1, 1),\n",
       " (1, 1, 1, 1),\n",
       " (1, 1, 2, 1),\n",
       " (1, 1, 2, 2),\n",
       " (1, 2, 2, 2),\n",
       " (2, 1, 1, 1),\n",
       " (2, 2, 1, 1),\n",
       " (2, 2, 2, 2),\n",
       " (1, 3, 2, 2),\n",
       " (2, 2, 1, 2),\n",
       " (3, 2, 1, 1),\n",
       " (2, 2, 3, 2),\n",
       " (1, 3, 2, 3)]"
      ]
     },
     "execution_count": 78,
     "metadata": {},
     "output_type": "execute_result"
    }
   ],
   "source": [
    "old"
   ]
  },
  {
   "cell_type": "code",
   "execution_count": 77,
   "metadata": {},
   "outputs": [
    {
     "data": {
      "image/png": "[encoded data removed]",
      "text/plain": [
       "<Figure size 864x432 with 2 Axes>"
      ]
     },
     "metadata": {
      "needs_background": "light"
     },
     "output_type": "display_data"
    }
   ],
   "source": [
    "fig = plt.figure(figsize=[12, 6])\n",
    "order = range(len(problem['names']))\n",
    "ax = fig.add_subplot(111)\n",
    "M = np.max(np.array(old))\n",
    "cmap = plt.get_cmap('Purples', M)\n",
    "plt.imshow(np.array(old).T, cmap=cmap, aspect='auto')\n",
    "norm = mpl.colors.Normalize(vmin=0, vmax=M - 1)\n",
    "sm = plt.cm.ScalarMappable(cmap=cmap, norm=norm)\n",
    "sm.set_array([])\n",
    "cb = plt.colorbar(sm)\n",
    "p = np.linspace(0, M - 1, M + 1)\n",
    "tick_p = 0.5 * (p[1:] + p[0:-1])\n",
    "cb.set_ticks(tick_p)\n",
    "cb.set_ticklabels(np.arange(M))\n",
    "cb.set_label(r'quadrature order')\n",
    "ax.set_yticks(range(np.array(old).shape[1]))\n",
    "params = np.array(problem['names'])\n",
    "ax.set_yticklabels(params[order], fontsize=12)\n",
    "ax.set_xlabel('iteration')\n",
    "plt.tight_layout()\n",
    "plt.show()"
   ]
  },
  {
   "cell_type": "code",
   "execution_count": 71,
   "metadata": {},
   "outputs": [
    {
     "data": {
      "text/plain": [
       "[(1, 1, 1, 1),\n",
       " (1, 1, 2, 1),\n",
       " (1, 1, 1, 2),\n",
       " (2, 1, 2, 1),\n",
       " (2, 2, 2, 1),\n",
       " (1, 2, 1, 2),\n",
       " (2, 1, 2, 2)]"
      ]
     },
     "execution_count": 71,
     "metadata": {},
     "output_type": "execute_result"
    }
   ],
   "source": [
    "test"
   ]
  }
 ],
 "metadata": {
  "kernelspec": {
   "display_name": "Python 3",
   "language": "python",
   "name": "python3"
  },
  "language_info": {
   "codemirror_mode": {
    "name": "ipython",
    "version": 3
   },
   "file_extension": ".py",
   "mimetype": "text/x-python",
   "name": "python",
   "nbconvert_exporter": "python",
   "pygments_lexer": "ipython3",
   "version": "3.7.8"
  }
 },
 "nbformat": 4,
 "nbformat_minor": 4
}
