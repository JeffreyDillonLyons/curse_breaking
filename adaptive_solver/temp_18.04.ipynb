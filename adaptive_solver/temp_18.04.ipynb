{
 "cells": [
  {
   "cell_type": "code",
   "execution_count": 1,
   "metadata": {},
   "outputs": [],
   "source": [
    "\n",
    "'''Preamble'''\n",
    "\n",
    "import numpy as np\n",
    "import matplotlib.pyplot as plt\n",
    "import chaospy as ch\n",
    "from scipy import integrate\n",
    "import pandas as pd\n",
    "from mpl_toolkits import mplot3d\n",
    "import time\n",
    "import json\n",
    "import pickle\n",
    "from IPython.display import Image\n",
    "import pandas as pd\n",
    "import datetime\n",
    "import numpoly\n",
    "from itertools import product\n",
    "from collections import OrderedDict\n",
    "from os import PathLike\n",
    "import re\n",
    "import os\n",
    "\n",
    "##SALib\n",
    "from SALib.sample import saltelli\n",
    "from SALib.analyze import sobol\n",
    "from SALib.test_functions import Ishigami\n",
    "\n",
    "#Chaospy\n",
    "import chaospy as ch\n",
    "\n",
    "def c(s):\n",
    "    os.chdir(s)\n",
    "    return os.getcwd()\n",
    "''''''\n",
    "\n",
    "\n",
    "\n",
    "\n",
    "x0 = 33                                                               #Initial conditions same as before\n",
    "y0 = 6.2\n",
    "X = [x0,y0]\n",
    "t = np.linspace(0., 30, 1000)\n",
    "\n",
    "#Model\n",
    "\n",
    "def lotka(X, t, alpha, beta, delta, gamma):\n",
    "    x, y = X\n",
    "    dotx = x * (alpha - beta * y)\n",
    "    doty = y * (-delta + gamma * x)\n",
    "    return np.array([dotx, doty])\n",
    "\n",
    "#Parameter space\n",
    "\n",
    "problem = {\n",
    "    'num_vars': 4,\n",
    "    'names': ['alpha','beta','delta','gamma'],\n",
    "    'bounds': [[0.44,0.68],\n",
    "               [0.02,0.044],\n",
    "               [0.71,1.15],\n",
    "               [0.0226,0.0354]]\n",
    "}\n",
    "##Parameters\n",
    "alpha = ch.Uniform(0.44, 0.68) #We choose uniform distributions to reflect our lack of knowledge about the relative likelihood functions\n",
    "beta = ch.Uniform(0.02, 0.044) #We take the same bounds as for the Sobol-Saltelli analysis\n",
    "delta = ch.Uniform(0.71, 1.15)\n",
    "gamma = ch.Uniform(0.0226, 0.0354)\n",
    "\n",
    "joint = ch.J(alpha,beta,delta,gamma) #The input paramter distributions are assumed to be independent so we may easily construct the joint input probability distribution.\n",
    "\n",
    "##Expansion\n",
    "expansion = ch.generate_expansion(2, joint) #Here we generate the polynomial expansion which is truncated a maximum mixed order of 2.\n",
    "\n",
    "gt_prey = pd.read_csv('./data/indices_328000_GT.csv').ST\n",
    "gt_norm = np.linalg.norm(gt_prey)\n",
    "\n",
    "dick = {}\n",
    "\n",
    "vectors = np.identity(len(joint), dtype='int')\n",
    "\n",
    "growth=False\n",
    "recurrence_algorithm='stieltjes'\n",
    "rule='g'\n",
    "tolerance=1e-10\n",
    "scaling=3\n",
    "n_max=50000\n",
    "\n",
    "\n",
    "def _construct_lookup(\n",
    "        orders,\n",
    "        dists,\n",
    "        growth,\n",
    "        recurrence_algorithm,\n",
    "        rules,\n",
    "        tolerance,\n",
    "        scaling,\n",
    "        n_max,\n",
    "):\n",
    "    \"\"\"\n",
    "    Create abscissas and weights look-up table so values do not need to be\n",
    "    re-calculatated on the fly.\n",
    "    \"\"\"\n",
    "    x_lookup = []\n",
    "    w_lookup = []\n",
    "\n",
    "    for order, dist in zip(max_order_vector, dists):\n",
    "        x_lookup.append([])\n",
    "        w_lookup.append([])\n",
    "        for orderr in range(max_order + 1):\n",
    "            (abscissas,), weights = ch.generate_quadrature(\n",
    "                order=orderr,\n",
    "                dist=dist,\n",
    "                growth=growth,\n",
    "                recurrence_algorithm=recurrence_algorithm,\n",
    "                rule=rule,\n",
    "                tolerance=tolerance,\n",
    "                scaling=scaling,\n",
    "                n_max=n_max,\n",
    "            )\n",
    "            x_lookup[-1].append(abscissas)\n",
    "            w_lookup[-1].append(weights)\n",
    "    return x_lookup, w_lookup\n",
    "\n",
    "\n",
    "def construct_wrapper(maxx):\n",
    "    global max_order_vector, max_order\n",
    "    global x_lookup, w_lookup\n",
    "\n",
    "    max_order = maxx\n",
    "    max_order_vector = max_order * np.ones(len(joint), dtype=int)\n",
    "    # print(max_order_vector)\n",
    "\n",
    "    x_lookup, w_lookup = _construct_lookup(\n",
    "        orders=max_order_vector,\n",
    "        dists=joint,\n",
    "        growth=growth,\n",
    "        recurrence_algorithm=recurrence_algorithm,\n",
    "        rules=rule,\n",
    "        tolerance=tolerance,\n",
    "        scaling=scaling,\n",
    "        n_max=5000)\n",
    "\n",
    "    return x_lookup, w_lookup\n",
    "\n",
    "x_lookup, w_lookup = construct_wrapper(10)\n",
    "\n",
    "\n",
    "def generate_candidates(index_set, P):\n",
    "    global candidates, pre_candidates, back_neighbours\n",
    "\n",
    "    pre_candidates = []\n",
    "    candidates = []\n",
    "\n",
    "    for j in range(0, len(joint)):\n",
    "        pre_candidates.append(index_set + vectors[j])\n",
    "\n",
    "    for candidate in pre_candidates:\n",
    "        back_neighbours = []\n",
    "        for j in range(0, len(joint)):\n",
    "            back_neighbour = candidate - vectors[j]\n",
    "            if np.all((back_neighbour > 1)):\n",
    "                back_neighbours.append(tuple(back_neighbour))\n",
    "\n",
    "        if np.all([neighbour in old for neighbour in back_neighbours]):\n",
    "            candidates.append(tuple(candidate))\n",
    "\n",
    "    temp = []\n",
    "    for candidate in candidates:\n",
    "        # if candidate not in old:\n",
    "        if np.all(np.array(candidate) <= P) and np.linalg.norm(np.array(candidate),ord=1) <= (P+3):\n",
    "            temp.append(candidate)\n",
    "\n",
    "    candidates = temp\n",
    "\n",
    "    temp = []\n",
    "    maxx = sum(np.max(np.array(old), axis=0))\n",
    "\n",
    "    for candidate in candidates:\n",
    "\n",
    "        if sum(np.max(np.array(old + [candidate]), axis=0)) > maxx:\n",
    "            temp.append(candidate)\n",
    "\n",
    "    candidates = temp\n",
    "\n",
    "    return candidates\n",
    "\n",
    "def sobol_error(vec):\n",
    "    return np.linalg.norm(gt_prey - vec) / gt_norm\n",
    "\n",
    "\n",
    "def solver(old_set):\n",
    "\n",
    "    global poly\n",
    "\n",
    "    solver_time = time.perf_counter()\n",
    "\n",
    "    nodes_list = []\n",
    "    weights_list = []\n",
    "    evals_list = []\n",
    "\n",
    "    for index in old_set:\n",
    "        nodes, weights = build_nodes_weights(index)\n",
    "        weights = [weight * combinator(index) for weight in weights]\n",
    "\n",
    "        nodes_list += nodes\n",
    "        weights_list += weights\n",
    "\n",
    "    for node in nodes_list:\n",
    "\n",
    "        if node in dick.keys():\n",
    "            evals_list.append(dick[node])\n",
    "\n",
    "        else:\n",
    "            a, b, d, g = node\n",
    "            solution = integrate.odeint(lotka, X, t, args=(a, b, d, g)).T[0][910]\n",
    "            evals_list.append(solution)\n",
    "            dick[node] = solution\n",
    "\n",
    "    nodes_list = np.array(nodes_list).T\n",
    "\n",
    "    polly = ch.fit_quadrature(expansion, nodes_list, weights_list, evals_list)\n",
    "    poly.append(polly)\n",
    "    print('Solver_time >>>', time.perf_counter() - solver_time)\n",
    "    print('Weight sum >>>', sum(weights_list))\n",
    "    return len(weights_list)\n",
    "\n",
    "\n",
    "def assign_errors(active_set):\n",
    "    global active_errors, active, candidates, current_errors, new\n",
    "    active_errors = []\n",
    "    \n",
    "    maxx = sum(np.max(np.array(old), axis=0))\n",
    "    \n",
    "    for multi_index in active_set:\n",
    "        if (step > 0) and sum(np.max(np.array(old + [multi_index]), axis=0)) <= maxx:\n",
    "            active_set.remove(multi_index)\n",
    "        \n",
    "\n",
    "    for multi_index in active_set:\n",
    "        nodes, _ = build_nodes_weights(multi_index)\n",
    "        current_errors = []\n",
    "\n",
    "        for node in nodes:\n",
    "            a, b, d, g = node\n",
    "            if np.isnan(poly[-1](a, b, d, g)):\n",
    "                poly_eval = 0\n",
    "            else:\n",
    "                poly_eval = poly[-1](a, b, d, g)\n",
    "\n",
    "            if node in dick.keys():\n",
    "                a, b, d, g = node\n",
    "                current_errors.append(abs(dick[node] - poly_eval))\n",
    "\n",
    "            else:\n",
    "                solution = integrate.odeint(lotka, (33, 6.2), t, args=(a, b, d, g)).T[0][910]\n",
    "                current_errors.append(abs(solution - poly_eval))\n",
    "\n",
    "        active_errors.append(np.mean(current_errors))\n",
    "\n",
    "    active = sorted(list(zip(active_set, active_errors)), key=lambda x: x[1])\n",
    "\n",
    "    return active\n",
    "    # active = [i for i in OrderedDict((tuple(x[0]), x) for x in active).values()]if np.isnan(poly[-1](1,2,3,4)):\n",
    "\n",
    "def algorithm(P):\n",
    "    \n",
    "    global dick, old, candidates, poly, active, global_errors, no_nodes,step\n",
    "    \n",
    "    '''Initialise'''\n",
    "    \n",
    "    seed = (2,2,1,2)\n",
    "    expansion = ch.generate_expansion(P, joint)\n",
    "    vectors = np.identity(len(joint), dtype='int')\n",
    "    date_today = datetime.date.today()\n",
    "    start_time = time.perf_counter()\n",
    "    \n",
    "    step = 0\n",
    "    \n",
    "    old = [(1,1,1,1)]\n",
    "    active = []\n",
    "    poly = []\n",
    "    \n",
    "    local_errors = []\n",
    "    global_errors = []\n",
    "    \n",
    "    names = ['alpha','beta','delta','gamma']\n",
    "    \n",
    "    df = pd.DataFrame(columns=['chosen_index','local_error','global_error','no_nodes','run_time'])\n",
    "    df_indices = pd.DataFrame(columns=['alpha','beta','delta','gamma'])\n",
    "\n",
    "    \n",
    "    '''Execute zeroth step'''\n",
    "    \n",
    "    trivial = [seed]\n",
    "    solver(old)\n",
    "    assign_errors(old)\n",
    "    \n",
    "    \n",
    "    st = ch.Sens_t(poly[-1], joint)\n",
    "    s1 = ch.Sens_m(poly[-1], joint)\n",
    "    \n",
    "    global_errors.append(sobol_error(st))\n",
    "    \n",
    "    print('Global error >>>', global_errors[-1])\n",
    "    print('Step time >>>', time.perf_counter() - start_time, 'seconds')\n",
    "    print('-'*10,'break','-'*10)\n",
    "\n",
    "\n",
    "    '''Main loop'''\n",
    "    \n",
    "    while (global_errors[-1] > 0.1 or np.isnan(global_errors[-1])) and len(active)>0:\n",
    "        \n",
    "        start_time = time.perf_counter()\n",
    "        \n",
    "        print('Active >>>',active)\n",
    "        chosen_index = active[-1][0]\n",
    "        local_errors.append(active[-1][1])\n",
    "        active.pop()\n",
    "    \n",
    "        old.append(chosen_index)\n",
    "        \n",
    "        print('Chosen index >>>', chosen_index)\n",
    "        \n",
    "        number_nodes = solver(old)\n",
    "        \n",
    "        candidates = generate_candidates(chosen_index,P)\n",
    "        print(candidates)\n",
    "        stripped_active = [i[0] for i in active] + [j for j in candidates]\n",
    "        active = assign_errors(stripped_active)\n",
    "        \n",
    "        sobol_time = time.perf_counter() \n",
    "\n",
    "        st = ch.Sens_t(poly[-1], joint)\n",
    "        s1 = ch.Sens_m(poly[-1], joint)\n",
    "        \n",
    "        print('Sobol time >>>', time.perf_counter() - sobol_time)\n",
    "        \n",
    "        global_errors.append(sobol_error(st))\n",
    "\n",
    "        print('Global error >>>', global_errors[-1])\n",
    "        \n",
    "        '''Save data'''\n",
    "        run_time = time.perf_counter() - start_time\n",
    "        \n",
    "        numpoly.savez(f'./data/polynomials/poly_{P}_{date_today}.npz',*poly)\n",
    "        \n",
    "        df_indices = df_indices.append({'alpha': st[0], 'beta': st[1], 'delta': st[2], 'gamma': st[3]          }, ignore_index=True)\n",
    "        df = df.append({'chosen_index': chosen_index,'local_error':local_errors[-1],                               'global_error':global_errors[-1],'no_nodes':number_nodes, 'run_time':run_time}, ignore_index=True)\n",
    "        \n",
    "        df.to_csv(f'./data/fork_run_file_{P}_{date_today}.csv')\n",
    "        df_indices.to_csv(f'./data/fork_total_order_indices_{P}_{date_today}.csv')\n",
    "\n",
    "        print('Step time >>>', time.perf_counter() - start_time, 'seconds')\n",
    "        print('-'*10,'break','-'*10)\n",
    "        \n",
    "        step += 1\n",
    "        \n",
    "    print('Congratulations, the algorithm has converged!')\n",
    "    print('Here are the results...')\n",
    "    print('-'*20)\n",
    "    print(f'ST_alpha:{st[0].round(4)}, ST_beta:{st[1].round(4)}, ST_delta:{st[2].round(4)}, ST_gamma:{st[3].round(4)}')\n",
    "    print(f'The final grid contains {number_nodes} nodes.')\n",
    "    print(f'The total run time was {df.run_time.sum()}, not bad!')\n",
    "          \n",
    "\n",
    "def combinator(current_index):\n",
    "    coeff = 1\n",
    "    \n",
    "    for vector in vectors:\n",
    "        \n",
    "        if tuple(np.array(current_index, dtype='int') + vector) in old:\n",
    "            \n",
    "            coeff += -1\n",
    "            \n",
    "    return coeff \n",
    "\n",
    "def build_nodes_weights(current_index):\n",
    "    \n",
    "    nodestack = []\n",
    "    weightstack = []\n",
    "    \n",
    "    '''Nodes'''\n",
    "    \n",
    "    for index,element in enumerate(current_index):\n",
    "        nodestack.append([])\n",
    "        nodestack[index] = list(x_lookup[index][element])\n",
    "        \n",
    "    nodes = nodestack[0]\n",
    "    \n",
    "    for i in range(1,len(nodestack)):\n",
    "        nodes = product(nodes,nodestack[i])\n",
    "        \n",
    "    nodes = [(a,b,c,d) for (((a,b),c),d) in nodes]\n",
    "    \n",
    "    '''Weights'''\n",
    "    \n",
    "    for index,element in enumerate(current_index):\n",
    "        weightstack.append([])\n",
    "        weightstack[index] = list(w_lookup[index][element])\n",
    "        \n",
    "    weights = weightstack[0]\n",
    "    \n",
    "    for i in range(1,len(weightstack)):\n",
    "        weights = product(weights,weightstack[i])\n",
    "        \n",
    "    weights = [(a*b*c*d) for (((a,b),c),d) in weights]\n",
    "    \n",
    "    \n",
    "    return nodes,weights\n",
    "        \n",
    "\n",
    "\n",
    "\n",
    "\n",
    "\n",
    "\n",
    "\n"
   ]
  },
  {
   "cell_type": "code",
   "execution_count": 3,
   "metadata": {},
   "outputs": [
    {
     "data": {
      "text/plain": [
       "0.4329"
      ]
     },
     "execution_count": 3,
     "metadata": {},
     "output_type": "execute_result"
    }
   ],
   "source": [
    "gt_prey[0].round(4)\n"
   ]
  },
  {
   "cell_type": "code",
   "execution_count": 86,
   "metadata": {},
   "outputs": [
    {
     "data": {
      "text/plain": [
       "False"
      ]
     },
     "execution_count": 86,
     "metadata": {},
     "output_type": "execute_result"
    }
   ],
   "source": [
    "global_errors[-1] > 0.1 and len(active)>0"
   ]
  },
  {
   "cell_type": "code",
   "execution_count": 76,
   "metadata": {},
   "outputs": [
    {
     "data": {
      "text/plain": [
       "10"
      ]
     },
     "execution_count": 76,
     "metadata": {},
     "output_type": "execute_result"
    }
   ],
   "source": [
    "maxx = sum(np.max(np.array(old+[(2,2,1,2)]), axis=0))\n",
    "maxx"
   ]
  },
  {
   "cell_type": "code",
   "execution_count": 74,
   "metadata": {},
   "outputs": [
    {
     "data": {
      "text/plain": [
       "10"
      ]
     },
     "execution_count": 74,
     "metadata": {},
     "output_type": "execute_result"
    }
   ],
   "source": [
    "maxx = sum(np.max(np.array(old), axis=0))\n",
    "maxx"
   ]
  },
  {
   "cell_type": "code",
   "execution_count": 65,
   "metadata": {},
   "outputs": [
    {
     "data": {
      "text/plain": [
       "[((2, 1, 1, 2), 7.7846051488796455),\n",
       " ((2, 1, 1, 3), 7.850674360425054),\n",
       " ((3, 1, 1, 1), 8.099778327931617),\n",
       " ((1, 1, 2, 1), 8.806289394516655),\n",
       " ((1, 1, 2, 2), 8.831480411759452),\n",
       " ((2, 2, 1, 1), 187664155141882.34),\n",
       " ((2, 2, 1, 2), 187664155141882.38),\n",
       " ((1, 2, 3, 1), 187664155141882.4),\n",
       " ((1, 2, 1, 3), 187664155141882.5),\n",
       " ((1, 3, 2, 1), 203316707485103.72),\n",
       " ((1, 3, 1, 2), 203316707485103.84),\n",
       " ((1, 3, 1, 1), 203316707485104.06)]"
      ]
     },
     "execution_count": 65,
     "metadata": {},
     "output_type": "execute_result"
    }
   ],
   "source": [
    "active"
   ]
  },
  {
   "cell_type": "code",
   "execution_count": 67,
   "metadata": {},
   "outputs": [],
   "source": [
    "new = [i[0] for i in active]"
   ]
  },
  {
   "cell_type": "code",
   "execution_count": 68,
   "metadata": {},
   "outputs": [
    {
     "data": {
      "text/plain": [
       "[((2, 1, 1, 2), 7.7846051488796455),\n",
       " ((2, 1, 1, 3), 7.850674360425054),\n",
       " ((3, 1, 1, 1), 8.099778327931617),\n",
       " ((1, 1, 2, 1), 8.806289394516655),\n",
       " ((1, 1, 2, 2), 8.831480411759452),\n",
       " ((2, 2, 1, 1), 187664155141882.34),\n",
       " ((2, 2, 1, 2), 187664155141882.38),\n",
       " ((1, 2, 3, 1), 187664155141882.4),\n",
       " ((1, 2, 1, 3), 187664155141882.5),\n",
       " ((1, 3, 2, 1), 203316707485103.72),\n",
       " ((1, 3, 1, 2), 203316707485103.84),\n",
       " ((1, 3, 1, 1), 203316707485104.06)]"
      ]
     },
     "execution_count": 68,
     "metadata": {},
     "output_type": "execute_result"
    }
   ],
   "source": [
    "assign_errors(new)"
   ]
  },
  {
   "cell_type": "code",
   "execution_count": 60,
   "metadata": {},
   "outputs": [
    {
     "data": {
      "text/plain": [
       "[((1, 1, 1, 1), 33.05030935450111), ((1, 1, 1, 1), 33.05030935450111)]"
      ]
     },
     "execution_count": 60,
     "metadata": {},
     "output_type": "execute_result"
    }
   ],
   "source": [
    "assign_errors(active)"
   ]
  },
  {
   "cell_type": "code",
   "execution_count": 59,
   "metadata": {},
   "outputs": [
    {
     "data": {
      "text/plain": [
       "[(1, 1, 1, 1), (1, 1, 1, 1)]"
      ]
     },
     "execution_count": 59,
     "metadata": {},
     "output_type": "execute_result"
    }
   ],
   "source": [
    "active.append(old[0])\n",
    "active"
   ]
  },
  {
   "cell_type": "code",
   "execution_count": 27,
   "metadata": {},
   "outputs": [
    {
     "data": {
      "text/plain": [
       "[(2, 1, 1, 4), (1, 1, 2, 4)]"
      ]
     },
     "execution_count": 27,
     "metadata": {},
     "output_type": "execute_result"
    }
   ],
   "source": [
    "generate_candidates((1,1,1,4),4)"
   ]
  },
  {
   "cell_type": "code",
   "execution_count": 31,
   "metadata": {},
   "outputs": [
    {
     "data": {
      "text/plain": [
       "8.0"
      ]
     },
     "execution_count": 31,
     "metadata": {},
     "output_type": "execute_result"
    }
   ],
   "source": [
    "np.linalg.norm(np.array(candidates[0]), ord=1)"
   ]
  },
  {
   "cell_type": "code",
   "execution_count": null,
   "metadata": {},
   "outputs": [],
   "source": [
    "def generate_candidates(index_set, P):\n",
    "    global candidates, pre_candidates, back_neighbours\n",
    "\n",
    "    pre_candidates = []\n",
    "    candidates = []\n",
    "\n",
    "    for j in range(0, len(joint)):\n",
    "        pre_candidates.append(index_set + vectors[j])\n",
    "\n",
    "    for candidate in pre_candidates:\n",
    "        back_neighbours = []\n",
    "        for j in range(0, len(joint)):\n",
    "            back_neighbour = candidate - vectors[j]\n",
    "            if np.all((back_neighbour > 1)):\n",
    "                back_neighbours.append(tuple(back_neighbour))\n",
    "\n",
    "        if np.all([neighbour in old for neighbour in back_neighbours]):\n",
    "            candidates.append(tuple(candidate))\n",
    "\n",
    "    temp = []\n",
    "    for candidate in candidates:\n",
    "        # if candidate not in old:\n",
    "        if np.all(np.array(candidate) <= P) and np.linalg.norm((np.array(candidate)) <= (P+3)):\n",
    "            temp.append(candidate)\n",
    "\n",
    "    candidates = temp\n",
    "    print(candidates)\n",
    "\n",
    "    temp = []\n",
    "    maxx = sum(np.max(np.array(old), axis=0))\n",
    "\n",
    "    for candidate in candidates:\n",
    "\n",
    "        if sum(np.max(np.array(old + [candidate]), axis=0)) > maxx:\n",
    "            temp.append(candidate)\n",
    "\n",
    "    candidates = temp\n",
    "\n",
    "    return candidates"
   ]
  },
  {
   "cell_type": "code",
   "execution_count": 13,
   "metadata": {},
   "outputs": [
    {
     "data": {
      "text/plain": [
       "[(1, 1, 1, 1), (1, 1, 1, 1), (1, 1, 1, 2), (1, 1, 1, 3), (1, 2, 1, 1)]"
      ]
     },
     "execution_count": 13,
     "metadata": {},
     "output_type": "execute_result"
    }
   ],
   "source": [
    "old"
   ]
  },
  {
   "cell_type": "code",
   "execution_count": 17,
   "metadata": {},
   "outputs": [
    {
     "data": {
      "text/plain": [
       "array([1, 2, 1, 3])"
      ]
     },
     "execution_count": 17,
     "metadata": {},
     "output_type": "execute_result"
    }
   ],
   "source": [
    "np.max(np.array(old),axis=0)"
   ]
  },
  {
   "cell_type": "code",
   "execution_count": 10,
   "metadata": {},
   "outputs": [],
   "source": [
    "old=((1,1,1,1))"
   ]
  },
  {
   "cell_type": "code",
   "execution_count": null,
   "metadata": {},
   "outputs": [],
   "source": []
  },
  {
   "cell_type": "code",
   "execution_count": 22,
   "metadata": {},
   "outputs": [
    {
     "data": {
      "text/plain": [
       "[]"
      ]
     },
     "execution_count": 22,
     "metadata": {},
     "output_type": "execute_result"
    }
   ],
   "source": [
    "generate_candidates((2,1,2,3),4)"
   ]
  },
  {
   "cell_type": "code",
   "execution_count": 6,
   "metadata": {},
   "outputs": [],
   "source": [
    "os.chdir('..')"
   ]
  }
 ],
 "metadata": {
  "kernelspec": {
   "display_name": "Python 3",
   "language": "python",
   "name": "python3"
  },
  "language_info": {
   "codemirror_mode": {
    "name": "ipython",
    "version": 3
   },
   "file_extension": ".py",
   "mimetype": "text/x-python",
   "name": "python",
   "nbconvert_exporter": "python",
   "pygments_lexer": "ipython3",
   "version": "3.7.8"
  }
 },
 "nbformat": 4,
 "nbformat_minor": 4
}
